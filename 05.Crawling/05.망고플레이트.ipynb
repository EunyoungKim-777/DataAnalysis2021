{
 "cells": [
  {
   "cell_type": "markdown",
   "source": [
    "### 망고플레이트에서 충정로 맛집에 대한 상호, 요약정보/ 주소, 전화번호 가져와서 데이터프레임 만들기"
   ],
   "metadata": {}
  },
  {
   "cell_type": "code",
   "execution_count": 1,
   "source": [
    "import time\r\n",
    "from selenium import webdriver\r\n",
    "from selenium.webdriver.common.keys import Keys\r\n",
    "import pandas as pd"
   ],
   "outputs": [],
   "metadata": {}
  },
  {
   "cell_type": "code",
   "execution_count": 90,
   "source": [
    "driver=webdriver.Chrome()\r\n",
    "driver.get('https://www.mangoplate.com/')"
   ],
   "outputs": [],
   "metadata": {}
  },
  {
   "cell_type": "code",
   "execution_count": 91,
   "source": [
    "# pop-up 창(iframe) 으로 이동해서 다시보지 않기 클릭\r\n",
    "driver.switch_to.frame('google_ads_iframe_/395211568/init/desktop_all_0')\r\n",
    "driver.find_element_by_css_selector('.ad_btn.ad_block_btn').click()"
   ],
   "outputs": [],
   "metadata": {}
  },
  {
   "cell_type": "code",
   "execution_count": 92,
   "source": [
    "# 메인 창으로 이동해서 검색 데이터 입력후 리턴\r\n",
    "driver.switch_to.default_content()\r\n",
    "search_box=driver.find_element_by_css_selector('.search-word')\r\n",
    "search_box.send_keys('충정로역')\r\n",
    "search_box.send_keys(Keys.ENTER)"
   ],
   "outputs": [],
   "metadata": {}
  },
  {
   "cell_type": "code",
   "execution_count": 73,
   "source": [
    "anchors = driver.find_elements_by_css_selector('.paging>a')\r\n",
    "len_anchors = len(anchors)\r\n",
    "len_anchors"
   ],
   "outputs": [
    {
     "output_type": "execute_result",
     "data": {
      "text/plain": [
       "5"
      ]
     },
     "metadata": {},
     "execution_count": 73
    }
   ],
   "metadata": {}
  },
  {
   "cell_type": "code",
   "execution_count": 74,
   "source": [
    "anchors[0].click()"
   ],
   "outputs": [],
   "metadata": {}
  },
  {
   "cell_type": "code",
   "execution_count": 29,
   "source": [
    "# 상호, 요약정보 찾기\n",
    "divs = driver.find_elements_by_css_selector('div.info>a')\n",
    "len(divs)\n",
    "# for문에서는 divs = driver.find_elements_by_css_selector('h2.title')[i].text"
   ],
   "outputs": [
    {
     "output_type": "execute_result",
     "data": {
      "text/plain": [
       "20"
      ]
     },
     "metadata": {},
     "execution_count": 29
    }
   ],
   "metadata": {}
  },
  {
   "cell_type": "code",
   "execution_count": 58,
   "source": [
    "name = driver.find_elements_by_css_selector('div.info>a')[0].text\n",
    "name"
   ],
   "outputs": [
    {
     "output_type": "execute_result",
     "data": {
      "text/plain": [
       "'위드미치코'"
      ]
     },
     "metadata": {},
     "execution_count": 58
    }
   ],
   "metadata": {}
  },
  {
   "cell_type": "code",
   "execution_count": 78,
   "source": [
    "divs2 = driver.find_elements_by_css_selector('div.info>p.etc')\n",
    "len(divs2)"
   ],
   "outputs": [
    {
     "output_type": "execute_result",
     "data": {
      "text/plain": [
       "40"
      ]
     },
     "metadata": {},
     "execution_count": 78
    }
   ],
   "metadata": {}
  },
  {
   "cell_type": "code",
   "execution_count": 79,
   "source": [
    "summary=driver.find_elements_by_css_selector('div.info>p.etc')[0].text\n",
    "summary"
   ],
   "outputs": [
    {
     "output_type": "execute_result",
     "data": {
      "text/plain": [
       "'서대문구 - 기타 한식'"
      ]
     },
     "metadata": {},
     "execution_count": 79
    }
   ],
   "metadata": {}
  },
  {
   "cell_type": "code",
   "execution_count": 89,
   "source": [
    "# 전화번호 가져오기\n",
    "driver.find_elements_by_css_selector('.Restaurant__InfoItemLabel')[1].text"
   ],
   "outputs": [
    {
     "output_type": "execute_result",
     "data": {
      "text/plain": [
       "'02-362-1394'"
      ]
     },
     "metadata": {},
     "execution_count": 89
    }
   ],
   "metadata": {}
  },
  {
   "cell_type": "code",
   "execution_count": 88,
   "source": [
    "# 주소 가져오기\n",
    "driver.find_elements_by_css_selector('.Restaurant__InfoItemLabel--RoadAddressText')[0].text"
   ],
   "outputs": [
    {
     "output_type": "execute_result",
     "data": {
      "text/plain": [
       "'서울특별시 서대문구 충정로 20'"
      ]
     },
     "metadata": {},
     "execution_count": 88
    }
   ],
   "metadata": {}
  },
  {
   "cell_type": "code",
   "execution_count": 98,
   "source": [
    "driver.find_elements_by_css_selector('div.info>a')[0].click"
   ],
   "outputs": [
    {
     "output_type": "execute_result",
     "data": {
      "text/plain": [
       "<bound method WebElement.click of <selenium.webdriver.remote.webelement.WebElement (session=\"68f74466bfb5b75a25be4cd5c05abfb8\", element=\"94f87a18-2a8e-4c9c-b419-1824d95d254e\")>>"
      ]
     },
     "metadata": {},
     "execution_count": 98
    }
   ],
   "metadata": {}
  },
  {
   "cell_type": "code",
   "execution_count": 99,
   "source": [
    "name_list, summary_list, addr_list, tel_list = [], [], [], []\n",
    "\n",
    "for page in range(len_anchors):\n",
    "    anchors = driver.find_elements_by_css_selector('p.paging>a')\n",
    "    anchors[page].click()\n",
    "    time.sleep(2)\n",
    "\n",
    "    for i in range(0,20):\n",
    "        name = driver.find_elements_by_css_selector('div.info>a')[i].text\n",
    "        summary = driver.find_elements_by_css_selector('div.info>p.etc')[i].text\n",
    "        print(page,i,name)\n",
    "\n",
    "        driver.find_elements_by_css_selector('div.info>a')[i].click()\n",
    "        time.sleep(1)\n",
    "\n",
    "        address = driver.find_elements_by_css_selector('.Restaurant__InfoItemLabel--RoadAddressText')[0].text\n",
    "        tel = driver.find_elements_by_css_selector('.Restaurant__InfoItemLabel')[1].text\n",
    "\n",
    "        name_list.append(name)\n",
    "        summary_list.append(summary)\n",
    "        addr_list.append(address)\n",
    "        tel_list.append(tel)\n",
    "\n",
    "        driver.back()\n",
    "        time.sleep(1)\n"
   ],
   "outputs": [
    {
     "output_type": "stream",
     "name": "stdout",
     "text": [
      "0 0 위드미치코\n",
      "0 1 고릴라\n",
      "0 2 옐로우보울\n",
      "0 3 철길떡볶이\n",
      "0 4 충정각\n",
      "0 5 양드림식당\n",
      "0 6 깐쪼네\n",
      "0 7 깐부치킨 (충정로역점)\n",
      "0 8 청안식탁\n",
      "0 9 에뚜왈 (충정로점)\n",
      "0 10 세양원\n",
      "0 11 봉추찜닭 (서대문(충정로)점)\n",
      "0 12 차이리\n",
      "0 13 해주면가\n",
      "0 14 작은언덕 카페\n",
      "0 15 곽대리꼼대리닭대리\n",
      "0 16 대피공간\n",
      "0 17 벙커1\n",
      "0 18 마포갈비생고기전문점\n",
      "0 19 히비야\n",
      "1 0 남대문할매인삼족발\n",
      "1 1 이화수전통육개장 (충정로점)\n",
      "1 2 맨인문\n",
      "1 3 마포대도소곱창\n",
      "1 4 한라회관\n",
      "1 5 선어도 (충정로점)\n",
      "1 6 탕화쿵푸마라탕\n",
      "1 7 계림닭도리탕 (충정로점)\n",
      "1 8 피나포어25\n"
     ]
    },
    {
     "output_type": "error",
     "ename": "IndexError",
     "evalue": "list index out of range",
     "traceback": [
      "\u001b[1;31m---------------------------------------------------------------------------\u001b[0m",
      "\u001b[1;31mIndexError\u001b[0m                                Traceback (most recent call last)",
      "\u001b[1;32m<ipython-input-99-0103709cb1aa>\u001b[0m in \u001b[0;36m<module>\u001b[1;34m\u001b[0m\n\u001b[0;32m     15\u001b[0m \u001b[1;33m\u001b[0m\u001b[0m\n\u001b[0;32m     16\u001b[0m         \u001b[0maddress\u001b[0m \u001b[1;33m=\u001b[0m \u001b[0mdriver\u001b[0m\u001b[1;33m.\u001b[0m\u001b[0mfind_elements_by_css_selector\u001b[0m\u001b[1;33m(\u001b[0m\u001b[1;34m'.Restaurant__InfoItemLabel--RoadAddressText'\u001b[0m\u001b[1;33m)\u001b[0m\u001b[1;33m[\u001b[0m\u001b[1;36m0\u001b[0m\u001b[1;33m]\u001b[0m\u001b[1;33m.\u001b[0m\u001b[0mtext\u001b[0m\u001b[1;33m\u001b[0m\u001b[1;33m\u001b[0m\u001b[0m\n\u001b[1;32m---> 17\u001b[1;33m         \u001b[0mtel\u001b[0m \u001b[1;33m=\u001b[0m \u001b[0mdriver\u001b[0m\u001b[1;33m.\u001b[0m\u001b[0mfind_elements_by_css_selector\u001b[0m\u001b[1;33m(\u001b[0m\u001b[1;34m'.Restaurant__InfoItemLabel'\u001b[0m\u001b[1;33m)\u001b[0m\u001b[1;33m[\u001b[0m\u001b[1;36m1\u001b[0m\u001b[1;33m]\u001b[0m\u001b[1;33m.\u001b[0m\u001b[0mtext\u001b[0m\u001b[1;33m\u001b[0m\u001b[1;33m\u001b[0m\u001b[0m\n\u001b[0m\u001b[0;32m     18\u001b[0m \u001b[1;33m\u001b[0m\u001b[0m\n\u001b[0;32m     19\u001b[0m         \u001b[0mname_list\u001b[0m\u001b[1;33m.\u001b[0m\u001b[0mappend\u001b[0m\u001b[1;33m(\u001b[0m\u001b[0mname\u001b[0m\u001b[1;33m)\u001b[0m\u001b[1;33m\u001b[0m\u001b[1;33m\u001b[0m\u001b[0m\n",
      "\u001b[1;31mIndexError\u001b[0m: list index out of range"
     ]
    }
   ],
   "metadata": {}
  }
 ],
 "metadata": {
  "kernelspec": {
   "name": "python388jvsc74a57bd0b26661d338b6288df508a7ea172ff591d6ed882578e82460ed30bfeb70cfcac3",
   "display_name": "Python 3.8.8 64-bit ('base': conda)"
  },
  "language_info": {
   "codemirror_mode": {
    "name": "ipython",
    "version": 3
   },
   "file_extension": ".py",
   "mimetype": "text/x-python",
   "name": "python",
   "nbconvert_exporter": "python",
   "pygments_lexer": "ipython3",
   "version": "3.8.8"
  }
 },
 "nbformat": 4,
 "nbformat_minor": 2
}