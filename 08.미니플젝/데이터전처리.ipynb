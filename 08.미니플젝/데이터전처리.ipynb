{
 "metadata": {
  "language_info": {
   "codemirror_mode": {
    "name": "ipython",
    "version": 3
   },
   "file_extension": ".py",
   "mimetype": "text/x-python",
   "name": "python",
   "nbconvert_exporter": "python",
   "pygments_lexer": "ipython3",
   "version": "3.8.8"
  },
  "orig_nbformat": 4,
  "kernelspec": {
   "name": "python3",
   "display_name": "Python 3.8.8 64-bit ('base': conda)"
  },
  "interpreter": {
   "hash": "b26661d338b6288df508a7ea172ff591d6ed882578e82460ed30bfeb70cfcac3"
  }
 },
 "nbformat": 4,
 "nbformat_minor": 2,
 "cells": [
  {
   "cell_type": "code",
   "execution_count": 2,
   "metadata": {},
   "outputs": [],
   "source": [
    "import pandas as pd\n",
    "import numpy as np"
   ]
  },
  {
   "cell_type": "code",
   "execution_count": 15,
   "metadata": {},
   "outputs": [],
   "source": [
    "import seaborn as sns"
   ]
  },
  {
   "cell_type": "code",
   "execution_count": 13,
   "metadata": {},
   "outputs": [
    {
     "output_type": "execute_result",
     "data": {
      "text/plain": [
       "  대여소 그룹                           대여소 명  대여 일자 / 월  대여 건수\n",
       "0    강남구                2301. 현대고등학교 건너편     201912    501\n",
       "1    강남구  2302. 교보타워 버스정류장(신논현역 3번출구 후면)     201912    737\n",
       "2    강남구                  2303. 논현역 7번출구     201912    460"
      ],
      "text/html": "<div>\n<style scoped>\n    .dataframe tbody tr th:only-of-type {\n        vertical-align: middle;\n    }\n\n    .dataframe tbody tr th {\n        vertical-align: top;\n    }\n\n    .dataframe thead th {\n        text-align: right;\n    }\n</style>\n<table border=\"1\" class=\"dataframe\">\n  <thead>\n    <tr style=\"text-align: right;\">\n      <th></th>\n      <th>대여소 그룹</th>\n      <th>대여소 명</th>\n      <th>대여 일자 / 월</th>\n      <th>대여 건수</th>\n    </tr>\n  </thead>\n  <tbody>\n    <tr>\n      <th>0</th>\n      <td>강남구</td>\n      <td>2301. 현대고등학교 건너편</td>\n      <td>201912</td>\n      <td>501</td>\n    </tr>\n    <tr>\n      <th>1</th>\n      <td>강남구</td>\n      <td>2302. 교보타워 버스정류장(신논현역 3번출구 후면)</td>\n      <td>201912</td>\n      <td>737</td>\n    </tr>\n    <tr>\n      <th>2</th>\n      <td>강남구</td>\n      <td>2303. 논현역 7번출구</td>\n      <td>201912</td>\n      <td>460</td>\n    </tr>\n  </tbody>\n</table>\n</div>"
     },
     "metadata": {},
     "execution_count": 13
    }
   ],
   "source": [
    "b1 = pd.read_excel('bike_info1.xlsx')\n",
    "b1.head(3)"
   ]
  },
  {
   "cell_type": "code",
   "execution_count": 16,
   "metadata": {},
   "outputs": [
    {
     "output_type": "execute_result",
     "data": {
      "text/plain": [
       "Index(['대여소 그룹', '대여소 명', '대여 일자 / 월', '대여 건수'], dtype='object')"
      ]
     },
     "metadata": {},
     "execution_count": 16
    }
   ],
   "source": [
    "b1.columns"
   ]
  },
  {
   "cell_type": "code",
   "execution_count": 19,
   "metadata": {},
   "outputs": [
    {
     "output_type": "execute_result",
     "data": {
      "text/plain": [
       "numpy.int64"
      ]
     },
     "metadata": {},
     "execution_count": 19
    }
   ],
   "source": [
    "type(b1['대여 일자 / 월'][0])"
   ]
  },
  {
   "cell_type": "code",
   "execution_count": 20,
   "metadata": {},
   "outputs": [],
   "source": [
    "# '대여 일자 / 월'이 201912인 데이터를 삭제\n",
    "b1 = b1[b1['대여 일자 / 월'] != 201912]"
   ]
  },
  {
   "cell_type": "code",
   "execution_count": 21,
   "metadata": {},
   "outputs": [
    {
     "output_type": "execute_result",
     "data": {
      "text/plain": [
       "      대여소 그룹                           대여소 명  대여 일자 / 월  대여 건수\n",
       "1544  그룹명 없음                         대여소명 없음     202001      0\n",
       "1545     강남구                2301. 현대고등학교 건너편     202001    577\n",
       "1546     강남구  2302. 교보타워 버스정류장(신논현역 3번출구 후면)     202001    690"
      ],
      "text/html": "<div>\n<style scoped>\n    .dataframe tbody tr th:only-of-type {\n        vertical-align: middle;\n    }\n\n    .dataframe tbody tr th {\n        vertical-align: top;\n    }\n\n    .dataframe thead th {\n        text-align: right;\n    }\n</style>\n<table border=\"1\" class=\"dataframe\">\n  <thead>\n    <tr style=\"text-align: right;\">\n      <th></th>\n      <th>대여소 그룹</th>\n      <th>대여소 명</th>\n      <th>대여 일자 / 월</th>\n      <th>대여 건수</th>\n    </tr>\n  </thead>\n  <tbody>\n    <tr>\n      <th>1544</th>\n      <td>그룹명 없음</td>\n      <td>대여소명 없음</td>\n      <td>202001</td>\n      <td>0</td>\n    </tr>\n    <tr>\n      <th>1545</th>\n      <td>강남구</td>\n      <td>2301. 현대고등학교 건너편</td>\n      <td>202001</td>\n      <td>577</td>\n    </tr>\n    <tr>\n      <th>1546</th>\n      <td>강남구</td>\n      <td>2302. 교보타워 버스정류장(신논현역 3번출구 후면)</td>\n      <td>202001</td>\n      <td>690</td>\n    </tr>\n  </tbody>\n</table>\n</div>"
     },
     "metadata": {},
     "execution_count": 21
    }
   ],
   "source": [
    "b1.head(3)"
   ]
  },
  {
   "cell_type": "code",
   "execution_count": 42,
   "metadata": {},
   "outputs": [
    {
     "output_type": "execute_result",
     "data": {
      "text/plain": [
       "(8459, 4)"
      ]
     },
     "metadata": {},
     "execution_count": 42
    }
   ],
   "source": [
    "b1.shape"
   ]
  },
  {
   "cell_type": "code",
   "execution_count": null,
   "metadata": {},
   "outputs": [],
   "source": [
    "# pivot_table - value, index, column\n",
    "# 예) df.pivot_table('인구','도시','연도')"
   ]
  },
  {
   "cell_type": "code",
   "execution_count": 37,
   "metadata": {},
   "outputs": [
    {
     "output_type": "execute_result",
     "data": {
      "text/plain": [
       "                  대여 건수\n",
       "대여소 그룹 대여 일자 / 월       \n",
       "강남구    202001     31431\n",
       "       202002     28331\n",
       "       202003     62298\n",
       "       202004     79071\n",
       "       202005     85286"
      ],
      "text/html": "<div>\n<style scoped>\n    .dataframe tbody tr th:only-of-type {\n        vertical-align: middle;\n    }\n\n    .dataframe tbody tr th {\n        vertical-align: top;\n    }\n\n    .dataframe thead th {\n        text-align: right;\n    }\n</style>\n<table border=\"1\" class=\"dataframe\">\n  <thead>\n    <tr style=\"text-align: right;\">\n      <th></th>\n      <th></th>\n      <th>대여 건수</th>\n    </tr>\n    <tr>\n      <th>대여소 그룹</th>\n      <th>대여 일자 / 월</th>\n      <th></th>\n    </tr>\n  </thead>\n  <tbody>\n    <tr>\n      <th rowspan=\"5\" valign=\"top\">강남구</th>\n      <th>202001</th>\n      <td>31431</td>\n    </tr>\n    <tr>\n      <th>202002</th>\n      <td>28331</td>\n    </tr>\n    <tr>\n      <th>202003</th>\n      <td>62298</td>\n    </tr>\n    <tr>\n      <th>202004</th>\n      <td>79071</td>\n    </tr>\n    <tr>\n      <th>202005</th>\n      <td>85286</td>\n    </tr>\n  </tbody>\n</table>\n</div>"
     },
     "metadata": {},
     "execution_count": 37
    }
   ],
   "source": [
    "b1_gp = b1.groupby(['대여소 그룹','대여 일자 / 월'])[['대여 건수']].sum()\n",
    "#b1_gp[b1_gp['대여소 그룹'] == '강남구']\n",
    "b1_gp.head()"
   ]
  },
  {
   "cell_type": "code",
   "execution_count": 39,
   "metadata": {},
   "outputs": [
    {
     "output_type": "execute_result",
     "data": {
      "text/plain": [
       "대여 일자 / 월  202001  202002  202003  202004  202005\n",
       "대여소 그룹                                           \n",
       "강남구         31431   28331   62298   79071   85286\n",
       "강동구         28792   27770   56628   80264   98402\n",
       "강북구         14683   14242   28364   40569   46427\n",
       "강서구         55764   55341   97810  147332  189362\n",
       "관악구         27351   25933   43517   72232   80649\n",
       "광진구         46804   44635   92565  122092  137370\n",
       "구로구         29983   28625   49774   79379   91446\n",
       "그룹명 없음          0       0       0       0       0\n",
       "금천구         13567   13702   22246   34358   38569\n",
       "노원구         40903   38809   73885  107261  131637\n",
       "도봉구         13306   13388   27421   40425   48501\n",
       "동대문구        29029   28871   51020   73049   84798\n",
       "동작구         17618   17756   38381   56976   63900\n",
       "마포구         51398   50303  113159  150045  171563\n",
       "서대문구        24660   23660   45906   60953   65045\n",
       "서초구         32903   31664   68120   88766   99591\n",
       "성동구         37398   38067   83262  110733  118660\n",
       "성북구         26336   26149   50483   73591   80223\n",
       "송파구         62836   58719  129609  171219  201721\n",
       "양천구         26312   26070   48425   76366   94049\n",
       "영등포구        61116   61170  139285  189786  218138\n",
       "용산구         14920   15230   37433   53377   58936\n",
       "은평구         25908   24496   47689   67062   76128\n",
       "정비센터           42      59     333     480     285\n",
       "종로구         39067   35087   55086   76187   78984\n",
       "중구          21265   19491   31836   45691   47577\n",
       "중랑구         20755   19701   39377   60129   73082"
      ],
      "text/html": "<div>\n<style scoped>\n    .dataframe tbody tr th:only-of-type {\n        vertical-align: middle;\n    }\n\n    .dataframe tbody tr th {\n        vertical-align: top;\n    }\n\n    .dataframe thead th {\n        text-align: right;\n    }\n</style>\n<table border=\"1\" class=\"dataframe\">\n  <thead>\n    <tr style=\"text-align: right;\">\n      <th>대여 일자 / 월</th>\n      <th>202001</th>\n      <th>202002</th>\n      <th>202003</th>\n      <th>202004</th>\n      <th>202005</th>\n    </tr>\n    <tr>\n      <th>대여소 그룹</th>\n      <th></th>\n      <th></th>\n      <th></th>\n      <th></th>\n      <th></th>\n    </tr>\n  </thead>\n  <tbody>\n    <tr>\n      <th>강남구</th>\n      <td>31431</td>\n      <td>28331</td>\n      <td>62298</td>\n      <td>79071</td>\n      <td>85286</td>\n    </tr>\n    <tr>\n      <th>강동구</th>\n      <td>28792</td>\n      <td>27770</td>\n      <td>56628</td>\n      <td>80264</td>\n      <td>98402</td>\n    </tr>\n    <tr>\n      <th>강북구</th>\n      <td>14683</td>\n      <td>14242</td>\n      <td>28364</td>\n      <td>40569</td>\n      <td>46427</td>\n    </tr>\n    <tr>\n      <th>강서구</th>\n      <td>55764</td>\n      <td>55341</td>\n      <td>97810</td>\n      <td>147332</td>\n      <td>189362</td>\n    </tr>\n    <tr>\n      <th>관악구</th>\n      <td>27351</td>\n      <td>25933</td>\n      <td>43517</td>\n      <td>72232</td>\n      <td>80649</td>\n    </tr>\n    <tr>\n      <th>광진구</th>\n      <td>46804</td>\n      <td>44635</td>\n      <td>92565</td>\n      <td>122092</td>\n      <td>137370</td>\n    </tr>\n    <tr>\n      <th>구로구</th>\n      <td>29983</td>\n      <td>28625</td>\n      <td>49774</td>\n      <td>79379</td>\n      <td>91446</td>\n    </tr>\n    <tr>\n      <th>그룹명 없음</th>\n      <td>0</td>\n      <td>0</td>\n      <td>0</td>\n      <td>0</td>\n      <td>0</td>\n    </tr>\n    <tr>\n      <th>금천구</th>\n      <td>13567</td>\n      <td>13702</td>\n      <td>22246</td>\n      <td>34358</td>\n      <td>38569</td>\n    </tr>\n    <tr>\n      <th>노원구</th>\n      <td>40903</td>\n      <td>38809</td>\n      <td>73885</td>\n      <td>107261</td>\n      <td>131637</td>\n    </tr>\n    <tr>\n      <th>도봉구</th>\n      <td>13306</td>\n      <td>13388</td>\n      <td>27421</td>\n      <td>40425</td>\n      <td>48501</td>\n    </tr>\n    <tr>\n      <th>동대문구</th>\n      <td>29029</td>\n      <td>28871</td>\n      <td>51020</td>\n      <td>73049</td>\n      <td>84798</td>\n    </tr>\n    <tr>\n      <th>동작구</th>\n      <td>17618</td>\n      <td>17756</td>\n      <td>38381</td>\n      <td>56976</td>\n      <td>63900</td>\n    </tr>\n    <tr>\n      <th>마포구</th>\n      <td>51398</td>\n      <td>50303</td>\n      <td>113159</td>\n      <td>150045</td>\n      <td>171563</td>\n    </tr>\n    <tr>\n      <th>서대문구</th>\n      <td>24660</td>\n      <td>23660</td>\n      <td>45906</td>\n      <td>60953</td>\n      <td>65045</td>\n    </tr>\n    <tr>\n      <th>서초구</th>\n      <td>32903</td>\n      <td>31664</td>\n      <td>68120</td>\n      <td>88766</td>\n      <td>99591</td>\n    </tr>\n    <tr>\n      <th>성동구</th>\n      <td>37398</td>\n      <td>38067</td>\n      <td>83262</td>\n      <td>110733</td>\n      <td>118660</td>\n    </tr>\n    <tr>\n      <th>성북구</th>\n      <td>26336</td>\n      <td>26149</td>\n      <td>50483</td>\n      <td>73591</td>\n      <td>80223</td>\n    </tr>\n    <tr>\n      <th>송파구</th>\n      <td>62836</td>\n      <td>58719</td>\n      <td>129609</td>\n      <td>171219</td>\n      <td>201721</td>\n    </tr>\n    <tr>\n      <th>양천구</th>\n      <td>26312</td>\n      <td>26070</td>\n      <td>48425</td>\n      <td>76366</td>\n      <td>94049</td>\n    </tr>\n    <tr>\n      <th>영등포구</th>\n      <td>61116</td>\n      <td>61170</td>\n      <td>139285</td>\n      <td>189786</td>\n      <td>218138</td>\n    </tr>\n    <tr>\n      <th>용산구</th>\n      <td>14920</td>\n      <td>15230</td>\n      <td>37433</td>\n      <td>53377</td>\n      <td>58936</td>\n    </tr>\n    <tr>\n      <th>은평구</th>\n      <td>25908</td>\n      <td>24496</td>\n      <td>47689</td>\n      <td>67062</td>\n      <td>76128</td>\n    </tr>\n    <tr>\n      <th>정비센터</th>\n      <td>42</td>\n      <td>59</td>\n      <td>333</td>\n      <td>480</td>\n      <td>285</td>\n    </tr>\n    <tr>\n      <th>종로구</th>\n      <td>39067</td>\n      <td>35087</td>\n      <td>55086</td>\n      <td>76187</td>\n      <td>78984</td>\n    </tr>\n    <tr>\n      <th>중구</th>\n      <td>21265</td>\n      <td>19491</td>\n      <td>31836</td>\n      <td>45691</td>\n      <td>47577</td>\n    </tr>\n    <tr>\n      <th>중랑구</th>\n      <td>20755</td>\n      <td>19701</td>\n      <td>39377</td>\n      <td>60129</td>\n      <td>73082</td>\n    </tr>\n  </tbody>\n</table>\n</div>"
     },
     "metadata": {},
     "execution_count": 39
    }
   ],
   "source": [
    "b1df = pd.pivot_table(b1,                # 피벗할 데이터프레임\n",
    "                     index = '대여소 그룹',    # 행 위치에 들어갈 열\n",
    "                     columns = '대여 일자 / 월',    # 열 위치에 들어갈 열\n",
    "                     values = '대여 건수',     # 데이터로 사용할 열\n",
    "                     aggfunc = 'sum')   # 데이터 집계함수\n",
    "b1df"
   ]
  },
  {
   "cell_type": "code",
   "execution_count": 12,
   "metadata": {},
   "outputs": [
    {
     "output_type": "execute_result",
     "data": {
      "text/plain": [
       "  대여소 그룹                           대여소 명  대여 일자 / 월  대여 건수\n",
       "0    강남구                2301. 현대고등학교 건너편     202006   4512\n",
       "1    강남구  2302. 교보타워 버스정류장(신논현역 3번출구 후면)     202006   1650\n",
       "2    강남구                  2303. 논현역 7번출구     202006   1134"
      ],
      "text/html": "<div>\n<style scoped>\n    .dataframe tbody tr th:only-of-type {\n        vertical-align: middle;\n    }\n\n    .dataframe tbody tr th {\n        vertical-align: top;\n    }\n\n    .dataframe thead th {\n        text-align: right;\n    }\n</style>\n<table border=\"1\" class=\"dataframe\">\n  <thead>\n    <tr style=\"text-align: right;\">\n      <th></th>\n      <th>대여소 그룹</th>\n      <th>대여소 명</th>\n      <th>대여 일자 / 월</th>\n      <th>대여 건수</th>\n    </tr>\n  </thead>\n  <tbody>\n    <tr>\n      <th>0</th>\n      <td>강남구</td>\n      <td>2301. 현대고등학교 건너편</td>\n      <td>202006</td>\n      <td>4512</td>\n    </tr>\n    <tr>\n      <th>1</th>\n      <td>강남구</td>\n      <td>2302. 교보타워 버스정류장(신논현역 3번출구 후면)</td>\n      <td>202006</td>\n      <td>1650</td>\n    </tr>\n    <tr>\n      <th>2</th>\n      <td>강남구</td>\n      <td>2303. 논현역 7번출구</td>\n      <td>202006</td>\n      <td>1134</td>\n    </tr>\n  </tbody>\n</table>\n</div>"
     },
     "metadata": {},
     "execution_count": 12
    }
   ],
   "source": [
    "b2 = pd.read_excel('bike_info2.xlsx')\n",
    "b2.head(3)"
   ]
  },
  {
   "cell_type": "code",
   "execution_count": 11,
   "metadata": {},
   "outputs": [
    {
     "output_type": "execute_result",
     "data": {
      "text/plain": [
       "  대여소 그룹                           대여소 명  대여 일자 / 월  대여 건수\n",
       "0    강남구                2301. 현대고등학교 건너편     202007   3997\n",
       "1    강남구  2302. 교보타워 버스정류장(신논현역 3번출구 후면)     202007   1250\n",
       "2    강남구                  2303. 논현역 7번출구     202007    863"
      ],
      "text/html": "<div>\n<style scoped>\n    .dataframe tbody tr th:only-of-type {\n        vertical-align: middle;\n    }\n\n    .dataframe tbody tr th {\n        vertical-align: top;\n    }\n\n    .dataframe thead th {\n        text-align: right;\n    }\n</style>\n<table border=\"1\" class=\"dataframe\">\n  <thead>\n    <tr style=\"text-align: right;\">\n      <th></th>\n      <th>대여소 그룹</th>\n      <th>대여소 명</th>\n      <th>대여 일자 / 월</th>\n      <th>대여 건수</th>\n    </tr>\n  </thead>\n  <tbody>\n    <tr>\n      <th>0</th>\n      <td>강남구</td>\n      <td>2301. 현대고등학교 건너편</td>\n      <td>202007</td>\n      <td>3997</td>\n    </tr>\n    <tr>\n      <th>1</th>\n      <td>강남구</td>\n      <td>2302. 교보타워 버스정류장(신논현역 3번출구 후면)</td>\n      <td>202007</td>\n      <td>1250</td>\n    </tr>\n    <tr>\n      <th>2</th>\n      <td>강남구</td>\n      <td>2303. 논현역 7번출구</td>\n      <td>202007</td>\n      <td>863</td>\n    </tr>\n  </tbody>\n</table>\n</div>"
     },
     "metadata": {},
     "execution_count": 11
    }
   ],
   "source": [
    "b3 = pd.read_csv('bike_info3.csv',encoding='EUC-KR')\n",
    "b3.head(3)"
   ]
  },
  {
   "cell_type": "code",
   "execution_count": 43,
   "metadata": {},
   "outputs": [
    {
     "output_type": "execute_result",
     "data": {
      "text/plain": [
       "(8459, 4)"
      ]
     },
     "metadata": {},
     "execution_count": 43
    }
   ],
   "source": [
    "b1.shape"
   ]
  },
  {
   "cell_type": "code",
   "execution_count": 44,
   "metadata": {},
   "outputs": [
    {
     "output_type": "execute_result",
     "data": {
      "text/plain": [
       "(2062, 4)"
      ]
     },
     "metadata": {},
     "execution_count": 44
    }
   ],
   "source": [
    "b2.shape"
   ]
  },
  {
   "cell_type": "code",
   "execution_count": 45,
   "metadata": {},
   "outputs": [
    {
     "output_type": "execute_result",
     "data": {
      "text/plain": [
       "(10521, 4)"
      ]
     },
     "metadata": {},
     "execution_count": 45
    }
   ],
   "source": [
    "b12=pd.concat([b1,b2],axis=0)\n",
    "b12.shape"
   ]
  },
  {
   "cell_type": "code",
   "execution_count": 47,
   "metadata": {},
   "outputs": [
    {
     "output_type": "execute_result",
     "data": {
      "text/plain": [
       "(14754, 4)"
      ]
     },
     "metadata": {},
     "execution_count": 47
    }
   ],
   "source": [
    "b3.shape"
   ]
  },
  {
   "cell_type": "code",
   "execution_count": 46,
   "metadata": {},
   "outputs": [
    {
     "output_type": "execute_result",
     "data": {
      "text/plain": [
       "(25275, 4)"
      ]
     },
     "metadata": {},
     "execution_count": 46
    }
   ],
   "source": [
    "b123=pd.concat([b12,b3],axis=0)\n",
    "b123.shape"
   ]
  },
  {
   "cell_type": "code",
   "execution_count": 56,
   "metadata": {},
   "outputs": [
    {
     "output_type": "execute_result",
     "data": {
      "text/plain": [
       "대여 일자 / 월   202001   202002   202003    202004    202005    202006    202007  \\\n",
       "대여소 그룹                                                                         \n",
       "강남구        31431.0  28331.0  62298.0   79071.0   85286.0   92905.0   79194.0   \n",
       "강동구        28792.0  27770.0  56628.0   80264.0   98402.0  111698.0   97719.0   \n",
       "강북구        14683.0  14242.0  28364.0   40569.0   46427.0   54179.0   54503.0   \n",
       "강서구        55764.0  55341.0  97810.0  147332.0  189362.0  232192.0  224984.0   \n",
       "관악구        27351.0  25933.0  43517.0   72232.0   80649.0  101026.0   92451.0   \n",
       "\n",
       "대여 일자 / 월    202008    202009    202010    202011    202012   202101  \n",
       "대여소 그룹                                                                \n",
       "강남구         49049.0   88713.0   90032.0   62709.0   38004.0  24706.0  \n",
       "강동구         60519.0  103564.0  103328.0   67591.0   42373.0  26158.0  \n",
       "강북구         34282.0   54362.0   56250.0   40715.0   24392.0  16101.0  \n",
       "강서구        171772.0  254450.0  273746.0  185484.0  104049.0  75019.0  \n",
       "관악구         64692.0   98095.0   99149.0   68117.0   41420.0  27457.0  "
      ],
      "text/html": "<div>\n<style scoped>\n    .dataframe tbody tr th:only-of-type {\n        vertical-align: middle;\n    }\n\n    .dataframe tbody tr th {\n        vertical-align: top;\n    }\n\n    .dataframe thead th {\n        text-align: right;\n    }\n</style>\n<table border=\"1\" class=\"dataframe\">\n  <thead>\n    <tr style=\"text-align: right;\">\n      <th>대여 일자 / 월</th>\n      <th>202001</th>\n      <th>202002</th>\n      <th>202003</th>\n      <th>202004</th>\n      <th>202005</th>\n      <th>202006</th>\n      <th>202007</th>\n      <th>202008</th>\n      <th>202009</th>\n      <th>202010</th>\n      <th>202011</th>\n      <th>202012</th>\n      <th>202101</th>\n    </tr>\n    <tr>\n      <th>대여소 그룹</th>\n      <th></th>\n      <th></th>\n      <th></th>\n      <th></th>\n      <th></th>\n      <th></th>\n      <th></th>\n      <th></th>\n      <th></th>\n      <th></th>\n      <th></th>\n      <th></th>\n      <th></th>\n    </tr>\n  </thead>\n  <tbody>\n    <tr>\n      <th>강남구</th>\n      <td>31431.0</td>\n      <td>28331.0</td>\n      <td>62298.0</td>\n      <td>79071.0</td>\n      <td>85286.0</td>\n      <td>92905.0</td>\n      <td>79194.0</td>\n      <td>49049.0</td>\n      <td>88713.0</td>\n      <td>90032.0</td>\n      <td>62709.0</td>\n      <td>38004.0</td>\n      <td>24706.0</td>\n    </tr>\n    <tr>\n      <th>강동구</th>\n      <td>28792.0</td>\n      <td>27770.0</td>\n      <td>56628.0</td>\n      <td>80264.0</td>\n      <td>98402.0</td>\n      <td>111698.0</td>\n      <td>97719.0</td>\n      <td>60519.0</td>\n      <td>103564.0</td>\n      <td>103328.0</td>\n      <td>67591.0</td>\n      <td>42373.0</td>\n      <td>26158.0</td>\n    </tr>\n    <tr>\n      <th>강북구</th>\n      <td>14683.0</td>\n      <td>14242.0</td>\n      <td>28364.0</td>\n      <td>40569.0</td>\n      <td>46427.0</td>\n      <td>54179.0</td>\n      <td>54503.0</td>\n      <td>34282.0</td>\n      <td>54362.0</td>\n      <td>56250.0</td>\n      <td>40715.0</td>\n      <td>24392.0</td>\n      <td>16101.0</td>\n    </tr>\n    <tr>\n      <th>강서구</th>\n      <td>55764.0</td>\n      <td>55341.0</td>\n      <td>97810.0</td>\n      <td>147332.0</td>\n      <td>189362.0</td>\n      <td>232192.0</td>\n      <td>224984.0</td>\n      <td>171772.0</td>\n      <td>254450.0</td>\n      <td>273746.0</td>\n      <td>185484.0</td>\n      <td>104049.0</td>\n      <td>75019.0</td>\n    </tr>\n    <tr>\n      <th>관악구</th>\n      <td>27351.0</td>\n      <td>25933.0</td>\n      <td>43517.0</td>\n      <td>72232.0</td>\n      <td>80649.0</td>\n      <td>101026.0</td>\n      <td>92451.0</td>\n      <td>64692.0</td>\n      <td>98095.0</td>\n      <td>99149.0</td>\n      <td>68117.0</td>\n      <td>41420.0</td>\n      <td>27457.0</td>\n    </tr>\n  </tbody>\n</table>\n</div>"
     },
     "metadata": {},
     "execution_count": 56
    }
   ],
   "source": [
    "df = pd.pivot_table(b123,                # 피벗할 데이터프레임\n",
    "                     index = '대여소 그룹',    # 행 위치에 들어갈 열\n",
    "                     columns = '대여 일자 / 월',    # 열 위치에 들어갈 열\n",
    "                        values = '대여 건수',     # 데이터로 사용할 열\n",
    "                     aggfunc = 'sum')   # 데이터 집계함수\n",
    "df.head()"
   ]
  },
  {
   "cell_type": "code",
   "execution_count": 57,
   "metadata": {},
   "outputs": [
    {
     "output_type": "execute_result",
     "data": {
      "text/plain": [
       "대여 일자 / 월   202001   202002   202003    202004    202005    202006    202007  \\\n",
       "대여소 그룹                                                                         \n",
       "강남구        31431.0  28331.0  62298.0   79071.0   85286.0   92905.0   79194.0   \n",
       "강동구        28792.0  27770.0  56628.0   80264.0   98402.0  111698.0   97719.0   \n",
       "강북구        14683.0  14242.0  28364.0   40569.0   46427.0   54179.0   54503.0   \n",
       "강서구        55764.0  55341.0  97810.0  147332.0  189362.0  232192.0  224984.0   \n",
       "관악구        27351.0  25933.0  43517.0   72232.0   80649.0  101026.0   92451.0   \n",
       "\n",
       "대여 일자 / 월    202008    202009    202010    202011    202012   202101  \\\n",
       "대여소 그룹                                                                 \n",
       "강남구         49049.0   88713.0   90032.0   62709.0   38004.0  24706.0   \n",
       "강동구         60519.0  103564.0  103328.0   67591.0   42373.0  26158.0   \n",
       "강북구         34282.0   54362.0   56250.0   40715.0   24392.0  16101.0   \n",
       "강서구        171772.0  254450.0  273746.0  185484.0  104049.0  75019.0   \n",
       "관악구         64692.0   98095.0   99149.0   68117.0   41420.0  27457.0   \n",
       "\n",
       "대여 일자 / 월         합계  \n",
       "대여소 그룹                \n",
       "강남구         811729.0  \n",
       "강동구         904806.0  \n",
       "강북구         479069.0  \n",
       "강서구        2067305.0  \n",
       "관악구         842089.0  "
      ],
      "text/html": "<div>\n<style scoped>\n    .dataframe tbody tr th:only-of-type {\n        vertical-align: middle;\n    }\n\n    .dataframe tbody tr th {\n        vertical-align: top;\n    }\n\n    .dataframe thead th {\n        text-align: right;\n    }\n</style>\n<table border=\"1\" class=\"dataframe\">\n  <thead>\n    <tr style=\"text-align: right;\">\n      <th>대여 일자 / 월</th>\n      <th>202001</th>\n      <th>202002</th>\n      <th>202003</th>\n      <th>202004</th>\n      <th>202005</th>\n      <th>202006</th>\n      <th>202007</th>\n      <th>202008</th>\n      <th>202009</th>\n      <th>202010</th>\n      <th>202011</th>\n      <th>202012</th>\n      <th>202101</th>\n      <th>합계</th>\n    </tr>\n    <tr>\n      <th>대여소 그룹</th>\n      <th></th>\n      <th></th>\n      <th></th>\n      <th></th>\n      <th></th>\n      <th></th>\n      <th></th>\n      <th></th>\n      <th></th>\n      <th></th>\n      <th></th>\n      <th></th>\n      <th></th>\n      <th></th>\n    </tr>\n  </thead>\n  <tbody>\n    <tr>\n      <th>강남구</th>\n      <td>31431.0</td>\n      <td>28331.0</td>\n      <td>62298.0</td>\n      <td>79071.0</td>\n      <td>85286.0</td>\n      <td>92905.0</td>\n      <td>79194.0</td>\n      <td>49049.0</td>\n      <td>88713.0</td>\n      <td>90032.0</td>\n      <td>62709.0</td>\n      <td>38004.0</td>\n      <td>24706.0</td>\n      <td>811729.0</td>\n    </tr>\n    <tr>\n      <th>강동구</th>\n      <td>28792.0</td>\n      <td>27770.0</td>\n      <td>56628.0</td>\n      <td>80264.0</td>\n      <td>98402.0</td>\n      <td>111698.0</td>\n      <td>97719.0</td>\n      <td>60519.0</td>\n      <td>103564.0</td>\n      <td>103328.0</td>\n      <td>67591.0</td>\n      <td>42373.0</td>\n      <td>26158.0</td>\n      <td>904806.0</td>\n    </tr>\n    <tr>\n      <th>강북구</th>\n      <td>14683.0</td>\n      <td>14242.0</td>\n      <td>28364.0</td>\n      <td>40569.0</td>\n      <td>46427.0</td>\n      <td>54179.0</td>\n      <td>54503.0</td>\n      <td>34282.0</td>\n      <td>54362.0</td>\n      <td>56250.0</td>\n      <td>40715.0</td>\n      <td>24392.0</td>\n      <td>16101.0</td>\n      <td>479069.0</td>\n    </tr>\n    <tr>\n      <th>강서구</th>\n      <td>55764.0</td>\n      <td>55341.0</td>\n      <td>97810.0</td>\n      <td>147332.0</td>\n      <td>189362.0</td>\n      <td>232192.0</td>\n      <td>224984.0</td>\n      <td>171772.0</td>\n      <td>254450.0</td>\n      <td>273746.0</td>\n      <td>185484.0</td>\n      <td>104049.0</td>\n      <td>75019.0</td>\n      <td>2067305.0</td>\n    </tr>\n    <tr>\n      <th>관악구</th>\n      <td>27351.0</td>\n      <td>25933.0</td>\n      <td>43517.0</td>\n      <td>72232.0</td>\n      <td>80649.0</td>\n      <td>101026.0</td>\n      <td>92451.0</td>\n      <td>64692.0</td>\n      <td>98095.0</td>\n      <td>99149.0</td>\n      <td>68117.0</td>\n      <td>41420.0</td>\n      <td>27457.0</td>\n      <td>842089.0</td>\n    </tr>\n  </tbody>\n</table>\n</div>"
     },
     "metadata": {},
     "execution_count": 57
    }
   ],
   "source": [
    "df[\"합계\"] = df.sum(axis=1)\n",
    "df.head()"
   ]
  },
  {
   "cell_type": "code",
   "execution_count": 58,
   "metadata": {},
   "outputs": [
    {
     "output_type": "execute_result",
     "data": {
      "text/plain": [
       "대여 일자 / 월   202001   202002    202003    202004    202005    202006    202007  \\\n",
       "대여소 그룹                                                                          \n",
       "강서구        55764.0  55341.0   97810.0  147332.0  189362.0  232192.0  224984.0   \n",
       "영등포구       61116.0  61170.0  139285.0  189786.0  218138.0  228956.0  209515.0   \n",
       "송파구        62836.0  58719.0  129609.0  171219.0  201721.0  218677.0  185529.0   \n",
       "마포구        51398.0  50303.0  113159.0  150045.0  171563.0  182316.0  155009.0   \n",
       "노원구        40903.0  38809.0   73885.0  107261.0  131637.0  161660.0  157281.0   \n",
       "\n",
       "대여 일자 / 월    202008    202009    202010    202011    202012   202101  \\\n",
       "대여소 그룹                                                                 \n",
       "강서구        171772.0  254450.0  273746.0  185484.0  104049.0  75019.0   \n",
       "영등포구       141204.0  232092.0  234372.0  153138.0   93726.0  64359.0   \n",
       "송파구        108922.0  206157.0  210041.0  137216.0   85064.0  54819.0   \n",
       "마포구        106361.0  178507.0  171919.0  110104.0   66393.0  48660.0   \n",
       "노원구         97412.0  150696.0  155531.0  112320.0   66005.0  41994.0   \n",
       "\n",
       "대여 일자 / 월         합계  \n",
       "대여소 그룹                \n",
       "강서구        2067305.0  \n",
       "영등포구       2026857.0  \n",
       "송파구        1830529.0  \n",
       "마포구        1555737.0  \n",
       "노원구        1335394.0  "
      ],
      "text/html": "<div>\n<style scoped>\n    .dataframe tbody tr th:only-of-type {\n        vertical-align: middle;\n    }\n\n    .dataframe tbody tr th {\n        vertical-align: top;\n    }\n\n    .dataframe thead th {\n        text-align: right;\n    }\n</style>\n<table border=\"1\" class=\"dataframe\">\n  <thead>\n    <tr style=\"text-align: right;\">\n      <th>대여 일자 / 월</th>\n      <th>202001</th>\n      <th>202002</th>\n      <th>202003</th>\n      <th>202004</th>\n      <th>202005</th>\n      <th>202006</th>\n      <th>202007</th>\n      <th>202008</th>\n      <th>202009</th>\n      <th>202010</th>\n      <th>202011</th>\n      <th>202012</th>\n      <th>202101</th>\n      <th>합계</th>\n    </tr>\n    <tr>\n      <th>대여소 그룹</th>\n      <th></th>\n      <th></th>\n      <th></th>\n      <th></th>\n      <th></th>\n      <th></th>\n      <th></th>\n      <th></th>\n      <th></th>\n      <th></th>\n      <th></th>\n      <th></th>\n      <th></th>\n      <th></th>\n    </tr>\n  </thead>\n  <tbody>\n    <tr>\n      <th>강서구</th>\n      <td>55764.0</td>\n      <td>55341.0</td>\n      <td>97810.0</td>\n      <td>147332.0</td>\n      <td>189362.0</td>\n      <td>232192.0</td>\n      <td>224984.0</td>\n      <td>171772.0</td>\n      <td>254450.0</td>\n      <td>273746.0</td>\n      <td>185484.0</td>\n      <td>104049.0</td>\n      <td>75019.0</td>\n      <td>2067305.0</td>\n    </tr>\n    <tr>\n      <th>영등포구</th>\n      <td>61116.0</td>\n      <td>61170.0</td>\n      <td>139285.0</td>\n      <td>189786.0</td>\n      <td>218138.0</td>\n      <td>228956.0</td>\n      <td>209515.0</td>\n      <td>141204.0</td>\n      <td>232092.0</td>\n      <td>234372.0</td>\n      <td>153138.0</td>\n      <td>93726.0</td>\n      <td>64359.0</td>\n      <td>2026857.0</td>\n    </tr>\n    <tr>\n      <th>송파구</th>\n      <td>62836.0</td>\n      <td>58719.0</td>\n      <td>129609.0</td>\n      <td>171219.0</td>\n      <td>201721.0</td>\n      <td>218677.0</td>\n      <td>185529.0</td>\n      <td>108922.0</td>\n      <td>206157.0</td>\n      <td>210041.0</td>\n      <td>137216.0</td>\n      <td>85064.0</td>\n      <td>54819.0</td>\n      <td>1830529.0</td>\n    </tr>\n    <tr>\n      <th>마포구</th>\n      <td>51398.0</td>\n      <td>50303.0</td>\n      <td>113159.0</td>\n      <td>150045.0</td>\n      <td>171563.0</td>\n      <td>182316.0</td>\n      <td>155009.0</td>\n      <td>106361.0</td>\n      <td>178507.0</td>\n      <td>171919.0</td>\n      <td>110104.0</td>\n      <td>66393.0</td>\n      <td>48660.0</td>\n      <td>1555737.0</td>\n    </tr>\n    <tr>\n      <th>노원구</th>\n      <td>40903.0</td>\n      <td>38809.0</td>\n      <td>73885.0</td>\n      <td>107261.0</td>\n      <td>131637.0</td>\n      <td>161660.0</td>\n      <td>157281.0</td>\n      <td>97412.0</td>\n      <td>150696.0</td>\n      <td>155531.0</td>\n      <td>112320.0</td>\n      <td>66005.0</td>\n      <td>41994.0</td>\n      <td>1335394.0</td>\n    </tr>\n  </tbody>\n</table>\n</div>"
     },
     "metadata": {},
     "execution_count": 58
    }
   ],
   "source": [
    "df.sort_values(by=['합계'],ascending=False).head()"
   ]
  }
 ]
}