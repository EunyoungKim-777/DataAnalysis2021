{
 "metadata": {
  "language_info": {
   "codemirror_mode": {
    "name": "ipython",
    "version": 3
   },
   "file_extension": ".py",
   "mimetype": "text/x-python",
   "name": "python",
   "nbconvert_exporter": "python",
   "pygments_lexer": "ipython3",
   "version": "3.6.10"
  },
  "orig_nbformat": 2,
  "kernelspec": {
   "name": "python3610jvsc74a57bd045bb9909f4134a5c522dd73f5b26e0da33d17d4f62f0476a1f9dbaaf4e2522a5",
   "display_name": "Python 3.6.10 64-bit ('base': conda)"
  }
 },
 "nbformat": 4,
 "nbformat_minor": 2,
 "cells": [
  {
   "source": [
    "### 연습문제"
   ],
   "cell_type": "markdown",
   "metadata": {}
  },
  {
   "source": [
    "### 1. 넘파이를 사용하여 다음과 같은 행렬을 만드시오.\n"
   ],
   "cell_type": "markdown",
   "metadata": {}
  },
  {
   "cell_type": "code",
   "execution_count": null,
   "metadata": {},
   "outputs": [],
   "source": [
    "# 10 20 30 40\n",
    "# 50 60 70 80"
   ]
  },
  {
   "cell_type": "code",
   "execution_count": 2,
   "metadata": {},
   "outputs": [],
   "source": [
    "import numpy as np"
   ]
  },
  {
   "cell_type": "code",
   "execution_count": 5,
   "metadata": {},
   "outputs": [
    {
     "output_type": "stream",
     "name": "stdout",
     "text": [
      "[[10 20 30 40]\n [50 60 70 80]]\n"
     ]
    }
   ],
   "source": [
    "print(np.array([[10,20,30,40],[50,60,70,80]], int))"
   ]
  },
  {
   "source": [
    "### 2. 다음 행렬과 같은 행렬이 있다.\n"
   ],
   "cell_type": "markdown",
   "metadata": {}
  },
  {
   "cell_type": "code",
   "execution_count": null,
   "metadata": {},
   "outputs": [],
   "source": [
    "# m = np.array([[ 0, 1, 2, 3, 4], \n",
    "# [5, 6, 7, 8, 9], \n",
    "# [10, 11, 12, 13, 14]])"
   ]
  },
  {
   "cell_type": "code",
   "execution_count": 7,
   "metadata": {},
   "outputs": [],
   "source": [
    "m = np.array([[ 0, 1, 2, 3, 4],\n",
    "[5, 6, 7, 8, 9],\n",
    "[10, 11, 12, 13, 14]])"
   ]
  },
  {
   "cell_type": "code",
   "execution_count": 9,
   "metadata": {},
   "outputs": [
    {
     "output_type": "execute_result",
     "data": {
      "text/plain": [
       "7"
      ]
     },
     "metadata": {},
     "execution_count": 9
    }
   ],
   "source": [
    "# 1) 이 행렬에서 값 7 을 인덱싱한다.\n",
    "m[1][2]"
   ]
  },
  {
   "cell_type": "code",
   "execution_count": 10,
   "metadata": {},
   "outputs": [
    {
     "output_type": "execute_result",
     "data": {
      "text/plain": [
       "14"
      ]
     },
     "metadata": {},
     "execution_count": 10
    }
   ],
   "source": [
    "# 2) 이 행렬에서 값 14 을 인덱싱한다.\n",
    "m[2][4]"
   ]
  },
  {
   "cell_type": "code",
   "execution_count": 12,
   "metadata": {},
   "outputs": [
    {
     "output_type": "stream",
     "name": "stdout",
     "text": [
      "[6 7]\n"
     ]
    }
   ],
   "source": [
    "# 3) 이 행렬에서 배열 [6, 7] 을 슬라이싱한다.\n",
    "print(m[1, 1:3])"
   ]
  },
  {
   "cell_type": "code",
   "execution_count": 16,
   "metadata": {},
   "outputs": [
    {
     "output_type": "stream",
     "name": "stdout",
     "text": [
      "[ 7 12]\n"
     ]
    }
   ],
   "source": [
    "# 4) 이 행렬에서 배열 [7, 12] 을 슬라이싱한다.\n",
    "print(m[1:3, 2])"
   ]
  },
  {
   "cell_type": "code",
   "execution_count": 19,
   "metadata": {},
   "outputs": [
    {
     "output_type": "stream",
     "name": "stdout",
     "text": [
      "[[3 4]\n [8 9]]\n"
     ]
    }
   ],
   "source": [
    "# 5) 이 행렬에서 배열 [[3, 4], [8, 9]] 을 슬라이싱한다.\n",
    "print(m[0:2, 3:])"
   ]
  },
  {
   "source": [
    "### 3. 2번의 행렬 m을 1차원 벡터 f 로 변환한 후 다음의 문제를 푸시오."
   ],
   "cell_type": "markdown",
   "metadata": {}
  },
  {
   "cell_type": "code",
   "execution_count": 24,
   "metadata": {},
   "outputs": [],
   "source": [
    "f = m.flatten()\n"
   ]
  },
  {
   "cell_type": "code",
   "execution_count": 33,
   "metadata": {},
   "outputs": [
    {
     "output_type": "execute_result",
     "data": {
      "text/plain": [
       "(array([ 0,  3,  6,  9, 12], dtype=int64),)"
      ]
     },
     "metadata": {},
     "execution_count": 33
    }
   ],
   "source": [
    "# 1) 이 배열에서 3의 배수를 찾아라.\n",
    "np.where(f % 3 == 0)"
   ]
  },
  {
   "cell_type": "code",
   "execution_count": 25,
   "metadata": {},
   "outputs": [
    {
     "output_type": "execute_result",
     "data": {
      "text/plain": [
       "(array([ 1,  5,  9, 13], dtype=int64),)"
      ]
     },
     "metadata": {},
     "execution_count": 25
    }
   ],
   "source": [
    "# 2) 이 배열에서 4로 나누면 1이 남는 수를 찾아라.\n",
    "np.where(f % 4 == 1)"
   ]
  },
  {
   "cell_type": "code",
   "execution_count": 30,
   "metadata": {},
   "outputs": [
    {
     "output_type": "execute_result",
     "data": {
      "text/plain": [
       "(array([9], dtype=int64),)"
      ]
     },
     "metadata": {},
     "execution_count": 30
    }
   ],
   "source": [
    "# 3) 이 배열에서 3으로 나누면 나누어지고 4로 나누면 1이 남는 수를 찾아라.\n",
    "np.where((f % 3 ==0) & (f % 4 == 1))"
   ]
  },
  {
   "source": [
    "### 4. 값을 직접 입력하지 말고 아래 행렬을 만드시오.\n"
   ],
   "cell_type": "markdown",
   "metadata": {}
  },
  {
   "cell_type": "code",
   "execution_count": null,
   "metadata": {},
   "outputs": [],
   "source": [
    "# 2, 1, 0, 0, 0\n",
    "# 3, 2, 1, 0, 0\n",
    "# 0, 3, 2, 1, 0\n",
    "# 0, 0, 3, 2, 1\n",
    "# 0, 0, 0, 3, 2"
   ]
  },
  {
   "cell_type": "code",
   "execution_count": 62,
   "metadata": {},
   "outputs": [
    {
     "output_type": "execute_result",
     "data": {
      "text/plain": [
       "array([[2., 1., 0., 0., 0.],\n",
       "       [3., 2., 1., 0., 0.],\n",
       "       [0., 3., 2., 1., 0.],\n",
       "       [0., 0., 3., 2., 1.],\n",
       "       [0., 0., 0., 3., 2.]])"
      ]
     },
     "metadata": {},
     "execution_count": 62
    }
   ],
   "source": [
    "np.eye(5, 5, k=1) + np.identity(5)*2 + np.eye(5,5,k=-1)*3"
   ]
  },
  {
   "source": [
    "### 5. 0에서 10까지 랜덤 실수값으로 이루어진 5 x 6 형태의 데이터 행렬을 만들고 이 데이터에 대해 다음과 같은 값을 구하시오."
   ],
   "cell_type": "markdown",
   "metadata": {}
  },
  {
   "cell_type": "code",
   "execution_count": 5,
   "metadata": {},
   "outputs": [
    {
     "output_type": "execute_result",
     "data": {
      "text/plain": [
       "array([[6.06 , 7.334, 1.389, 3.127, 9.972, 1.282],\n",
       "       [1.79 , 7.529, 6.622, 7.843, 0.969, 0.586],\n",
       "       [9.624, 6.166, 0.866, 5.613, 6.165, 9.638],\n",
       "       [5.743, 3.712, 4.521, 2.019, 5.693, 1.951],\n",
       "       [5.837, 4.763, 5.178, 8.231, 7.322, 0.691]])"
      ]
     },
     "metadata": {},
     "execution_count": 5
    }
   ],
   "source": [
    "np.random.seed(2021)\n",
    "a = np.random.uniform(0,10,30).reshape(5,6).round(3)\n",
    "a"
   ]
  },
  {
   "cell_type": "code",
   "execution_count": 7,
   "metadata": {},
   "outputs": [
    {
     "output_type": "execute_result",
     "data": {
      "text/plain": [
       "9.972"
      ]
     },
     "metadata": {},
     "execution_count": 7
    }
   ],
   "source": [
    "# 1) 전체의 최댓값\n",
    "np.max(a)\n"
   ]
  },
  {
   "cell_type": "code",
   "execution_count": 6,
   "metadata": {},
   "outputs": [
    {
     "output_type": "execute_result",
     "data": {
      "text/plain": [
       "array([29.164, 25.339, 38.072, 23.639, 32.022])"
      ]
     },
     "metadata": {},
     "execution_count": 6
    }
   ],
   "source": [
    "# 2) 각 행의 합\n",
    "np.sum(a,axis=1)"
   ]
  },
  {
   "cell_type": "code",
   "execution_count": 8,
   "metadata": {},
   "outputs": [
    {
     "output_type": "execute_result",
     "data": {
      "text/plain": [
       "array([9.972, 7.843, 9.638, 5.743, 8.231])"
      ]
     },
     "metadata": {},
     "execution_count": 8
    }
   ],
   "source": [
    "# 3) 각 행의 최댓값\n",
    "np.max(a,axis=1)"
   ]
  },
  {
   "cell_type": "code",
   "execution_count": 9,
   "metadata": {},
   "outputs": [
    {
     "output_type": "execute_result",
     "data": {
      "text/plain": [
       "array([5.8108, 5.9008, 3.7152, 5.3666, 6.0242, 2.8296])"
      ]
     },
     "metadata": {},
     "execution_count": 9
    }
   ],
   "source": [
    "# 4) 각 열의 평균\n",
    "np.mean(a, axis=0)"
   ]
  },
  {
   "cell_type": "code",
   "execution_count": 10,
   "metadata": {},
   "outputs": [
    {
     "output_type": "execute_result",
     "data": {
      "text/plain": [
       "array([1.79 , 3.712, 0.866, 2.019, 0.969, 0.586])"
      ]
     },
     "metadata": {},
     "execution_count": 10
    }
   ],
   "source": [
    "# 5) 각 열의 최솟값\n",
    "np.min(a, axis=0)"
   ]
  },
  {
   "source": [
    "### 6. 다음 배열은 첫번째 행(row)에 학번, 두번째 행에 영어 성적, 세번째 행에 수학 성적을 적은 배열이다. 영어 성적을 기준으로 ( 각 열(column)을 ) 재정렬하시오."
   ],
   "cell_type": "markdown",
   "metadata": {}
  },
  {
   "cell_type": "code",
   "execution_count": 12,
   "metadata": {},
   "outputs": [],
   "source": [
    "c = np.array([[ 1, 2, 3, 4],\n",
    "            [ 46, 99, 100, 71],   #이 행이 영어성적\n",
    "            [ 81, 59, 90, 100]])"
   ]
  },
  {
   "cell_type": "code",
   "execution_count": 54,
   "metadata": {},
   "outputs": [
    {
     "output_type": "execute_result",
     "data": {
      "text/plain": [
       "array([[  1,  46,  81],\n",
       "       [  4,  71, 100],\n",
       "       [  2,  99,  59],\n",
       "       [  3, 100,  90]])"
      ]
     },
     "metadata": {},
     "execution_count": 54
    }
   ],
   "source": [
    "c[:, c[1].argsort()].T"
   ]
  },
  {
   "cell_type": "code",
   "execution_count": 13,
   "metadata": {},
   "outputs": [
    {
     "output_type": "execute_result",
     "data": {
      "text/plain": [
       "array([0, 3, 1, 2], dtype=int64)"
      ]
     },
     "metadata": {},
     "execution_count": 13
    }
   ],
   "source": [
    "# 선생님 풀이\n",
    "# 오름차순\n",
    "s = np.argsort(c[1])"
   ]
  },
  {
   "cell_type": "code",
   "execution_count": null,
   "metadata": {},
   "outputs": [],
   "source": [
    "# 내림차순\n",
    "s[::-1]"
   ]
  },
  {
   "cell_type": "code",
   "execution_count": null,
   "metadata": {},
   "outputs": [],
   "source": [
    "score[:,s]"
   ]
  },
  {
   "cell_type": "code",
   "execution_count": null,
   "metadata": {},
   "outputs": [],
   "source": [
    "# 오름차순 한꺼번에 수행\n",
    "score[:, np.argsort(c[1])]"
   ]
  },
  {
   "cell_type": "code",
   "execution_count": null,
   "metadata": {},
   "outputs": [],
   "source": [
    "# 내림차순 한꺼번에 수행\n",
    "score[:, np.argsort(c[1])][::-1]"
   ]
  },
  {
   "source": [
    "### 7. 주사위를 100번 던지는 가상 실험을 파이썬으로 작성하고, 던져서 나오는 숫자의 평균을 구하시오."
   ],
   "cell_type": "markdown",
   "metadata": {}
  },
  {
   "cell_type": "code",
   "execution_count": 20,
   "metadata": {},
   "outputs": [
    {
     "output_type": "execute_result",
     "data": {
      "text/plain": [
       "3.7"
      ]
     },
     "metadata": {},
     "execution_count": 20
    }
   ],
   "source": [
    "np.random.seed(2021)\n",
    "b = np.random.randint(1,7,100)\n",
    "np.mean(b)"
   ]
  },
  {
   "source": [
    "### 8. 가격이 10,000원인 주식이 있다. 이 주식의 일간 수익률(%)은 기댓값이 0%이고 표준편차가 1%인 표준 정규 분포를 따른다고 하자. 250일 동안의 주가를 무작위로 생성하시오.\n"
   ],
   "cell_type": "markdown",
   "metadata": {}
  },
  {
   "cell_type": "code",
   "execution_count": 30,
   "metadata": {
    "tags": []
   },
   "outputs": [
    {
     "output_type": "stream",
     "name": "stdout",
     "text": [
      "[9979.] [9862.] [9979.] [10012.] [9923.] [9866.] [9814.] [9768.] [9818.] [9829.] [9760.] [9766.] [9859.] [9730.] [9926.] [10097.] [10242.] [10304.] [10368.] [10376.] [10596.] [10576.] [10543.] [10441.] [10425.] [10276.] [10335.] [10312.] [10183.] [10365.] [10504.] [10546.] [10511.] [10543.] [10721.] [10652.] [10592.] [10624.] [10666.] [10674.] [10659.] [10635.] [10563.] [10550.] [10707.] [10828.] [10884.] [10875.] [10922.] [10956.] [10865.] [10848.] [10841.] [10806.] [10878.] [10905.] [10953.] [10790.] [10879.] [10827.] [10783.] [10858.] [10869.] [10827.] [10782.] [10742.] [10554.] [10350.] [10334.] [10388.] [10442.] [10387.] [10412.] [10494.] [10550.] [10649.] [10610.] [10413.] [10506.] [10412.] [10269.] [10261.] [10293.] [10172.] [10094.] [10094.] [10075.] [10163.] [10406.] [10364.] [10445.] [10292.] [10313.] [10263.] [10207.] [10327.] [10265.] [10224.] [10222.] [10315.] [10517.] [10482.] [10442.] [10375.] [10242.] [10175.] [10040.] [9904.] [9860.] [9840.] [9699.] [9775.] [9728.] [9579.] [9559.] [9405.] [9401.] [9305.] [9277.] [9313.] [9339.] [9434.] [9531.] [9709.] [9638.] [9808.] [9879.] [9848.] [9836.] [9942.] [9896.] [9739.] [9921.] [9875.] [9889.] [10009.] [9973.] [9899.] [9788.] [9880.] [9806.] [9884.] [9983.] [9878.] [9900.] [9811.] [9825.] [9634.] [9586.] [9584.] [9561.] [9563.] [9540.] [9517.] [9441.] [9305.] [9274.] [9232.] [9236.] [9209.] [9289.] [9096.] [9139.] [9125.] [9117.] [9140.] [8983.] [9060.] [9092.] [9218.] [9138.] [9145.] [9059.] [9380.] [9435.] [9489.] [9383.] [9499.] [9499.] [9414.] [9431.] [9399.] [9571.] [9678.] [9817.] [9874.] [9883.] [9831.] [9629.] [9647.] [9666.] [9584.] [9671.] [9756.] [9775.] [9672.] [9716.] [10070.] [10135.] [10216.] [10348.] [10447.] [10580.] [10798.] [10724.] [10748.] [10886.] [11011.] [11066.] [11083.] [11107.] [11328.] [11431.] [11423.] [11536.] [11466.] [11626.] [11636.] [11656.] [11600.] [11562.] [11555.] [11459.] [11467.] [11495.] [11549.] [11623.] [11660.] [11673.] [11605.] [11750.] [11811.] [11907.] [11794.] [11983.] [11987.] [11776.] [11837.] [11916.] [12176.] [12155.] [12129.] [12043.] [12151.] [12128.] [12286.] [12452.] [12596.] [12609.] [12559.] "
     ]
    }
   ],
   "source": [
    "# 새로운 리스트 만들지 않고 그냥 하기\n",
    "x = 10000\n",
    "num = 1\n",
    "while num <= 250:\n",
    "    x = x + 10000 * np.random.normal(0,1,1) * 0.01\n",
    "    num += 1\n",
    "    print(np.round(x),end=' ')"
   ]
  },
  {
   "cell_type": "code",
   "execution_count": 31,
   "metadata": {},
   "outputs": [
    {
     "output_type": "stream",
     "name": "stdout",
     "text": [
      "[10068. 10075. 10070. 10069. 10060. 10104. 10032.  9884.  9845.  9882.\n  9912. 10072. 10187. 10286. 10321. 10290. 10206. 10290. 10116. 10176.\n 10141. 10018.  9871.  9977.  9884.  9809.  9805.  9980.  9986. 10083.\n 10293. 10382. 10522. 10522. 10718. 10592. 10591. 10686. 10626. 10774.\n 10809. 10734. 10886. 11020. 11038. 11000. 10821. 10954. 10910. 10866.\n 10769. 10597. 10535. 10552. 10678. 10701. 10725. 10948. 11127. 11035.\n 11074. 10931. 10842. 10810. 11062. 11016. 10982. 10972. 11030. 11114.\n 11119. 11392. 11658. 11669. 11700. 11457. 11451. 11455. 11440. 11451.\n 11494. 11486. 11561. 11613. 11683. 11605. 11482. 11383. 11404. 11433.\n 11386. 11318. 11452. 11466. 11431. 11462. 11332. 11475. 11376. 11293.\n 11377. 11397. 11174. 11147. 11320. 11157. 11284. 11261. 11367. 11425.\n 11517. 11670. 11854. 11872. 11903. 11946. 12058. 12210. 12166. 12390.\n 12436. 12481. 12449. 12323. 12386. 12384. 12440. 12426. 12282. 12254.\n 12380. 12315. 12224. 12212. 12200. 12170. 11962. 11917. 12031. 12173.\n 12189. 12106. 12021. 12147. 11954. 11983. 12020. 11820. 11753. 11946.\n 11839. 11836. 12055. 12092. 12086. 12050. 11975. 12117. 12111. 12201.\n 12012. 11911. 11951. 11835. 11822. 11725. 11549. 11432. 11504. 11479.\n 11652. 11700. 11506. 11336. 11235. 11169. 11180. 11163. 11362. 11394.\n 11406. 11385. 11155. 11101. 11155. 11161. 11157. 10961. 10767. 10759.\n 10889. 10837. 10748. 10721. 10840. 10810. 10783. 10824. 10762. 10651.\n 10672. 10733. 10957. 10827. 10852. 11024. 10965. 11052. 11095. 11189.\n 11150. 11093. 11093. 11172. 11200. 11335. 11384. 11536. 11772. 11628.\n 11745. 11547. 11601. 11627. 11668. 11608. 11593. 11515. 11631. 11567.\n 11563. 11546. 11546. 11604. 11560. 11572. 11497. 11524. 11427. 11381.\n 11302. 11382. 11369. 11094. 11040. 10815. 10719. 10527. 10421. 10374.]\n"
     ]
    }
   ],
   "source": [
    "x = 10000\n",
    "p = []\n",
    "num = 1\n",
    "while num <= 250:\n",
    "    x = x + 10000 * np.random.normal(0,1,1)[0] * 0.01\n",
    "    num += 1\n",
    "    p.append(np.round(x))\n",
    "#print(p) -- 이렇게 하면 뒤에 .0이 붙고, 행과 열 간격이 일정하지 않아 가독성 떨어짐\n",
    "\n",
    "stock = np.array(p, int)\n",
    "print(stock)\n",
    "#print(stock[:10])-- 앞에 10개만 출력\n"
   ]
  },
  {
   "cell_type": "code",
   "execution_count": 24,
   "metadata": {},
   "outputs": [
    {
     "output_type": "execute_result",
     "data": {
      "text/plain": [
       "250"
      ]
     },
     "metadata": {},
     "execution_count": 24
    }
   ],
   "source": [
    "np.size(stock)"
   ]
  },
  {
   "cell_type": "code",
   "execution_count": 104,
   "metadata": {},
   "outputs": [
    {
     "output_type": "execute_result",
     "data": {
      "text/plain": [
       "array([1.56634309])"
      ]
     },
     "metadata": {},
     "execution_count": 104
    }
   ],
   "source": [
    "np.random.normal(0,1,1)"
   ]
  },
  {
   "cell_type": "code",
   "execution_count": 105,
   "metadata": {},
   "outputs": [
    {
     "output_type": "execute_result",
     "data": {
      "text/plain": [
       "0.340841880086619"
      ]
     },
     "metadata": {},
     "execution_count": 105
    }
   ],
   "source": [
    "np.random.normal(0,1,1)[0]  #array 없이 숫자만 나오도록 설정"
   ]
  }
 ]
}