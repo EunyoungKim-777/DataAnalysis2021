{
 "metadata": {
  "language_info": {
   "codemirror_mode": {
    "name": "ipython",
    "version": 3
   },
   "file_extension": ".py",
   "mimetype": "text/x-python",
   "name": "python",
   "nbconvert_exporter": "python",
   "pygments_lexer": "ipython3",
   "version": "3.6.10"
  },
  "orig_nbformat": 2,
  "kernelspec": {
   "name": "python3610jvsc74a57bd045bb9909f4134a5c522dd73f5b26e0da33d17d4f62f0476a1f9dbaaf4e2522a5",
   "display_name": "Python 3.6.10 64-bit ('base': conda)"
  }
 },
 "nbformat": 4,
 "nbformat_minor": 2,
 "cells": [
  {
   "cell_type": "code",
   "execution_count": 1,
   "metadata": {},
   "outputs": [],
   "source": [
    "import pandas as pd\n",
    "import numpy as np\n",
    "import seaborn as sns"
   ]
  },
  {
   "source": [
    "### 연습 문제 4.1.1"
   ],
   "cell_type": "markdown",
   "metadata": {}
  },
  {
   "source": [
    "#### (1) 임의로 두 개의 시리즈 객체를 만든다. 모두 문자열 인덱스를 가져야 하며 두 시리즈에 공통적으로 포함되지 않는 라벨이 있어야 한다."
   ],
   "cell_type": "markdown",
   "metadata": {}
  },
  {
   "cell_type": "code",
   "execution_count": 16,
   "metadata": {},
   "outputs": [],
   "source": [
    "s1 = pd.Series([1,2,3,4],\n",
    "              index=[\"a\", \"b\", \"c\", \"d\"])\n",
    "s2 = pd.Series([10,22,30,44],\n",
    "              index=[\"a\", \"b\", \"c\", \"e\"])"
   ]
  },
  {
   "source": [
    "#### (2) 위에서 만든 두 시리즈 객체를 이용하여 사칙 연산을 한다."
   ],
   "cell_type": "markdown",
   "metadata": {}
  },
  {
   "cell_type": "code",
   "execution_count": 17,
   "metadata": {},
   "outputs": [
    {
     "output_type": "execute_result",
     "data": {
      "text/plain": [
       "a    11.0\n",
       "b    24.0\n",
       "c    33.0\n",
       "d     NaN\n",
       "e     NaN\n",
       "dtype: float64"
      ]
     },
     "metadata": {},
     "execution_count": 17
    }
   ],
   "source": [
    "s1 + s2"
   ]
  },
  {
   "cell_type": "code",
   "execution_count": 18,
   "metadata": {},
   "outputs": [
    {
     "output_type": "execute_result",
     "data": {
      "text/plain": [
       "a    -9.0\n",
       "b   -20.0\n",
       "c   -27.0\n",
       "d     NaN\n",
       "e     NaN\n",
       "dtype: float64"
      ]
     },
     "metadata": {},
     "execution_count": 18
    }
   ],
   "source": [
    "s1 - s2"
   ]
  },
  {
   "cell_type": "code",
   "execution_count": 19,
   "metadata": {},
   "outputs": [
    {
     "output_type": "execute_result",
     "data": {
      "text/plain": [
       "a    10.0\n",
       "b    44.0\n",
       "c    90.0\n",
       "d     NaN\n",
       "e     NaN\n",
       "dtype: float64"
      ]
     },
     "metadata": {},
     "execution_count": 19
    }
   ],
   "source": [
    "s1 * s2"
   ]
  },
  {
   "cell_type": "code",
   "execution_count": 20,
   "metadata": {},
   "outputs": [
    {
     "output_type": "execute_result",
     "data": {
      "text/plain": [
       "a    0.100000\n",
       "b    0.090909\n",
       "c    0.100000\n",
       "d         NaN\n",
       "e         NaN\n",
       "dtype: float64"
      ]
     },
     "metadata": {},
     "execution_count": 20
    }
   ],
   "source": [
    "s1 / s2"
   ]
  },
  {
   "source": [
    "### 연습 문제 4.1.2"
   ],
   "cell_type": "markdown",
   "metadata": {}
  },
  {
   "source": [
    "#### 다음 조건을 만족하는 임의의 데이터프레임을 하나 만든다.\n",
    "- (1) 열의 갯수와 행의 갯수가 각각 5개 이상이어야 한다.\n",
    "- (2) 열에는 정수, 문자열, 실수 자료형 데이터가 각각 1개 이상씩 포함되어 있어야 한다."
   ],
   "cell_type": "markdown",
   "metadata": {}
  },
  {
   "cell_type": "code",
   "execution_count": 22,
   "metadata": {},
   "outputs": [
    {
     "output_type": "execute_result",
     "data": {
      "text/plain": [
       "   A  B    C   D   E\n",
       "0  0  h  1.5  새벽  11\n",
       "1  1  e  2.5  아침  21\n",
       "2  2  l  7.7  점심  31\n",
       "3  3  l  8.3  저녁  41\n",
       "4  4  o  3.9  없음  51"
      ],
      "text/html": "<div>\n<style scoped>\n    .dataframe tbody tr th:only-of-type {\n        vertical-align: middle;\n    }\n\n    .dataframe tbody tr th {\n        vertical-align: top;\n    }\n\n    .dataframe thead th {\n        text-align: right;\n    }\n</style>\n<table border=\"1\" class=\"dataframe\">\n  <thead>\n    <tr style=\"text-align: right;\">\n      <th></th>\n      <th>A</th>\n      <th>B</th>\n      <th>C</th>\n      <th>D</th>\n      <th>E</th>\n    </tr>\n  </thead>\n  <tbody>\n    <tr>\n      <th>0</th>\n      <td>0</td>\n      <td>h</td>\n      <td>1.5</td>\n      <td>새벽</td>\n      <td>11</td>\n    </tr>\n    <tr>\n      <th>1</th>\n      <td>1</td>\n      <td>e</td>\n      <td>2.5</td>\n      <td>아침</td>\n      <td>21</td>\n    </tr>\n    <tr>\n      <th>2</th>\n      <td>2</td>\n      <td>l</td>\n      <td>7.7</td>\n      <td>점심</td>\n      <td>31</td>\n    </tr>\n    <tr>\n      <th>3</th>\n      <td>3</td>\n      <td>l</td>\n      <td>8.3</td>\n      <td>저녁</td>\n      <td>41</td>\n    </tr>\n    <tr>\n      <th>4</th>\n      <td>4</td>\n      <td>o</td>\n      <td>3.9</td>\n      <td>없음</td>\n      <td>51</td>\n    </tr>\n  </tbody>\n</table>\n</div>"
     },
     "metadata": {},
     "execution_count": 22
    }
   ],
   "source": [
    "data = {\n",
    "    \"A\": [0, 1, 2, 3, 4],\n",
    "    \"B\": [\"h\", \"e\", \"l\", \"l\", \"o\"],\n",
    "    \"C\": [1.5, 2.5, 7.7, 8.3, 3.9],\n",
    "    \"D\": [\"새벽\", \"아침\", \"점심\", \"저녁\", \"없음\"],\n",
    "    \"E\": [11, 21, 31, 41, 51]  \n",
    "}\n",
    "\n",
    "df = pd.DataFrame(data)\n",
    "df"
   ]
  },
  {
   "source": [
    "### 연습 문제 4.1.3"
   ],
   "cell_type": "markdown",
   "metadata": {}
  },
  {
   "source": [
    "#### 다음 데이터프레임에서 지정하는 데이터를 뽑아내거나 처리하라."
   ],
   "cell_type": "markdown",
   "metadata": {}
  },
  {
   "cell_type": "code",
   "execution_count": 31,
   "metadata": {},
   "outputs": [],
   "source": [
    "data = {\n",
    "    \"국어\": [80, 90, 70, 30],\n",
    "    \"영어\": [90, 70, 60, 40],\n",
    "    \"수학\": [90, 60, 80, 70],\n",
    "}\n",
    "columns = [\"국어\", \"영어\", \"수학\"]\n",
    "index = [\"춘향\", \"몽룡\", \"향단\", \"방자\"]\n",
    "df413 = pd.DataFrame(data, index=index, columns=columns)"
   ]
  },
  {
   "cell_type": "code",
   "execution_count": 32,
   "metadata": {},
   "outputs": [
    {
     "output_type": "execute_result",
     "data": {
      "text/plain": [
       "    국어  영어  수학\n",
       "춘향  80  90  90\n",
       "몽룡  90  70  60\n",
       "향단  70  60  80\n",
       "방자  30  40  70"
      ],
      "text/html": "<div>\n<style scoped>\n    .dataframe tbody tr th:only-of-type {\n        vertical-align: middle;\n    }\n\n    .dataframe tbody tr th {\n        vertical-align: top;\n    }\n\n    .dataframe thead th {\n        text-align: right;\n    }\n</style>\n<table border=\"1\" class=\"dataframe\">\n  <thead>\n    <tr style=\"text-align: right;\">\n      <th></th>\n      <th>국어</th>\n      <th>영어</th>\n      <th>수학</th>\n    </tr>\n  </thead>\n  <tbody>\n    <tr>\n      <th>춘향</th>\n      <td>80</td>\n      <td>90</td>\n      <td>90</td>\n    </tr>\n    <tr>\n      <th>몽룡</th>\n      <td>90</td>\n      <td>70</td>\n      <td>60</td>\n    </tr>\n    <tr>\n      <th>향단</th>\n      <td>70</td>\n      <td>60</td>\n      <td>80</td>\n    </tr>\n    <tr>\n      <th>방자</th>\n      <td>30</td>\n      <td>40</td>\n      <td>70</td>\n    </tr>\n  </tbody>\n</table>\n</div>"
     },
     "metadata": {},
     "execution_count": 32
    }
   ],
   "source": [
    "df413"
   ]
  },
  {
   "cell_type": "code",
   "execution_count": 33,
   "metadata": {},
   "outputs": [
    {
     "output_type": "execute_result",
     "data": {
      "text/plain": [
       "춘향    90\n",
       "몽룡    60\n",
       "향단    80\n",
       "방자    70\n",
       "Name: 수학, dtype: int64"
      ]
     },
     "metadata": {},
     "execution_count": 33
    }
   ],
   "source": [
    "# (1) 모든 학생의 수학 점수를 시리즈로 나타낸다.\n",
    "s = df413['수학']\n",
    "s"
   ]
  },
  {
   "cell_type": "code",
   "execution_count": 34,
   "metadata": {},
   "outputs": [
    {
     "output_type": "execute_result",
     "data": {
      "text/plain": [
       "pandas.core.series.Series"
      ]
     },
     "metadata": {},
     "execution_count": 34
    }
   ],
   "source": [
    "type(s)    # 시리즈임을 확인"
   ]
  },
  {
   "cell_type": "code",
   "execution_count": 35,
   "metadata": {},
   "outputs": [
    {
     "output_type": "execute_result",
     "data": {
      "text/plain": [
       "    국어  영어\n",
       "춘향  80  90\n",
       "몽룡  90  70\n",
       "향단  70  60\n",
       "방자  30  40"
      ],
      "text/html": "<div>\n<style scoped>\n    .dataframe tbody tr th:only-of-type {\n        vertical-align: middle;\n    }\n\n    .dataframe tbody tr th {\n        vertical-align: top;\n    }\n\n    .dataframe thead th {\n        text-align: right;\n    }\n</style>\n<table border=\"1\" class=\"dataframe\">\n  <thead>\n    <tr style=\"text-align: right;\">\n      <th></th>\n      <th>국어</th>\n      <th>영어</th>\n    </tr>\n  </thead>\n  <tbody>\n    <tr>\n      <th>춘향</th>\n      <td>80</td>\n      <td>90</td>\n    </tr>\n    <tr>\n      <th>몽룡</th>\n      <td>90</td>\n      <td>70</td>\n    </tr>\n    <tr>\n      <th>향단</th>\n      <td>70</td>\n      <td>60</td>\n    </tr>\n    <tr>\n      <th>방자</th>\n      <td>30</td>\n      <td>40</td>\n    </tr>\n  </tbody>\n</table>\n</div>"
     },
     "metadata": {},
     "execution_count": 35
    }
   ],
   "source": [
    "# (2) 모든 학생의 국어와 영어 점수를 데이터 프레임으로 나타낸다.\n",
    "d = df413[['국어','영어']]\n",
    "d"
   ]
  },
  {
   "cell_type": "code",
   "execution_count": 36,
   "metadata": {},
   "outputs": [
    {
     "output_type": "execute_result",
     "data": {
      "text/plain": [
       "pandas.core.frame.DataFrame"
      ]
     },
     "metadata": {},
     "execution_count": 36
    }
   ],
   "source": [
    "type(d)     # 데이터프레임임을 확인"
   ]
  },
  {
   "cell_type": "code",
   "execution_count": 37,
   "metadata": {},
   "outputs": [
    {
     "output_type": "execute_result",
     "data": {
      "text/plain": [
       "    국어  영어  수학     평균\n",
       "춘향  80  90  90  86.67\n",
       "몽룡  90  70  60  73.33\n",
       "향단  70  60  80  70.00\n",
       "방자  30  40  70  46.67"
      ],
      "text/html": "<div>\n<style scoped>\n    .dataframe tbody tr th:only-of-type {\n        vertical-align: middle;\n    }\n\n    .dataframe tbody tr th {\n        vertical-align: top;\n    }\n\n    .dataframe thead th {\n        text-align: right;\n    }\n</style>\n<table border=\"1\" class=\"dataframe\">\n  <thead>\n    <tr style=\"text-align: right;\">\n      <th></th>\n      <th>국어</th>\n      <th>영어</th>\n      <th>수학</th>\n      <th>평균</th>\n    </tr>\n  </thead>\n  <tbody>\n    <tr>\n      <th>춘향</th>\n      <td>80</td>\n      <td>90</td>\n      <td>90</td>\n      <td>86.67</td>\n    </tr>\n    <tr>\n      <th>몽룡</th>\n      <td>90</td>\n      <td>70</td>\n      <td>60</td>\n      <td>73.33</td>\n    </tr>\n    <tr>\n      <th>향단</th>\n      <td>70</td>\n      <td>60</td>\n      <td>80</td>\n      <td>70.00</td>\n    </tr>\n    <tr>\n      <th>방자</th>\n      <td>30</td>\n      <td>40</td>\n      <td>70</td>\n      <td>46.67</td>\n    </tr>\n  </tbody>\n</table>\n</div>"
     },
     "metadata": {},
     "execution_count": 37
    }
   ],
   "source": [
    "# (3) 모든 학생의 각 과목 평균 점수를 새로운 열로 추가한다.\n",
    "df413[\"평균\"] = ((df413[\"국어\"] + df413[\"영어\"] + df413[\"수학\"]) / 3 ).round(2)\n",
    "df413"
   ]
  },
  {
   "cell_type": "code",
   "execution_count": 38,
   "metadata": {},
   "outputs": [
    {
     "output_type": "stream",
     "name": "stderr",
     "text": [
      "C:\\Users\\kimee\\Anaconda3\\lib\\site-packages\\ipykernel_launcher.py:2: SettingWithCopyWarning: \nA value is trying to be set on a copy of a slice from a DataFrame\n\nSee the caveats in the documentation: https://pandas.pydata.org/pandas-docs/stable/user_guide/indexing.html#returning-a-view-versus-a-copy\n  \n"
     ]
    },
    {
     "output_type": "execute_result",
     "data": {
      "text/plain": [
       "    국어  영어  수학     평균\n",
       "춘향  80  90  90  86.67\n",
       "몽룡  90  70  60  73.33\n",
       "향단  70  60  80  70.00\n",
       "방자  30  80  70  60.00"
      ],
      "text/html": "<div>\n<style scoped>\n    .dataframe tbody tr th:only-of-type {\n        vertical-align: middle;\n    }\n\n    .dataframe tbody tr th {\n        vertical-align: top;\n    }\n\n    .dataframe thead th {\n        text-align: right;\n    }\n</style>\n<table border=\"1\" class=\"dataframe\">\n  <thead>\n    <tr style=\"text-align: right;\">\n      <th></th>\n      <th>국어</th>\n      <th>영어</th>\n      <th>수학</th>\n      <th>평균</th>\n    </tr>\n  </thead>\n  <tbody>\n    <tr>\n      <th>춘향</th>\n      <td>80</td>\n      <td>90</td>\n      <td>90</td>\n      <td>86.67</td>\n    </tr>\n    <tr>\n      <th>몽룡</th>\n      <td>90</td>\n      <td>70</td>\n      <td>60</td>\n      <td>73.33</td>\n    </tr>\n    <tr>\n      <th>향단</th>\n      <td>70</td>\n      <td>60</td>\n      <td>80</td>\n      <td>70.00</td>\n    </tr>\n    <tr>\n      <th>방자</th>\n      <td>30</td>\n      <td>80</td>\n      <td>70</td>\n      <td>60.00</td>\n    </tr>\n  </tbody>\n</table>\n</div>"
     },
     "metadata": {},
     "execution_count": 38
    }
   ],
   "source": [
    "# (4) 방자의 영어 점수를 80점으로 수정하고 평균 점수도 다시 계산한다.\n",
    "df413[\"영어\"][\"방자\"] = 80\n",
    "df413[\"평균\"] = ((df413[\"국어\"] + df413[\"영어\"] + df413[\"수학\"]) / 3 ).round(2)\n",
    "df413\n"
   ]
  },
  {
   "cell_type": "code",
   "execution_count": 39,
   "metadata": {},
   "outputs": [
    {
     "output_type": "execute_result",
     "data": {
      "text/plain": [
       "    국어  영어  수학     평균\n",
       "춘향  80  90  90  86.67"
      ],
      "text/html": "<div>\n<style scoped>\n    .dataframe tbody tr th:only-of-type {\n        vertical-align: middle;\n    }\n\n    .dataframe tbody tr th {\n        vertical-align: top;\n    }\n\n    .dataframe thead th {\n        text-align: right;\n    }\n</style>\n<table border=\"1\" class=\"dataframe\">\n  <thead>\n    <tr style=\"text-align: right;\">\n      <th></th>\n      <th>국어</th>\n      <th>영어</th>\n      <th>수학</th>\n      <th>평균</th>\n    </tr>\n  </thead>\n  <tbody>\n    <tr>\n      <th>춘향</th>\n      <td>80</td>\n      <td>90</td>\n      <td>90</td>\n      <td>86.67</td>\n    </tr>\n  </tbody>\n</table>\n</div>"
     },
     "metadata": {},
     "execution_count": 39
    }
   ],
   "source": [
    "# (5) 춘향의 점수를 데이터프레임으로 나타낸다.\n",
    "df413[0:1]"
   ]
  },
  {
   "cell_type": "code",
   "execution_count": 46,
   "metadata": {},
   "outputs": [
    {
     "output_type": "execute_result",
     "data": {
      "text/plain": [
       "국어    70.0\n",
       "영어    60.0\n",
       "수학    80.0\n",
       "평균    70.0\n",
       "Name: 향단, dtype: float64"
      ]
     },
     "metadata": {},
     "execution_count": 46
    }
   ],
   "source": [
    "# (6) 향단의 점수를 시리즈로 나타낸다.\n",
    "df413.iloc[2] "
   ]
  },
  {
   "source": [
    "### 연습 문제 4.3.1"
   ],
   "cell_type": "markdown",
   "metadata": {}
  },
  {
   "source": [
    "#### (1) 모든 행과 열에 라벨을 가지는 5 x 5 이상의 크기를 가지는 데이터프레임을 만든다."
   ],
   "cell_type": "markdown",
   "metadata": {}
  },
  {
   "cell_type": "code",
   "execution_count": 24,
   "metadata": {},
   "outputs": [
    {
     "output_type": "execute_result",
     "data": {
      "text/plain": [
       "   A  B  C  D  E\n",
       "a  1  0  0  2  5\n",
       "b  3  4  6  3  2\n",
       "c  4  6  4  7  6\n",
       "d  0  8  9  0  4\n",
       "e  6  1  0  3  2"
      ],
      "text/html": "<div>\n<style scoped>\n    .dataframe tbody tr th:only-of-type {\n        vertical-align: middle;\n    }\n\n    .dataframe tbody tr th {\n        vertical-align: top;\n    }\n\n    .dataframe thead th {\n        text-align: right;\n    }\n</style>\n<table border=\"1\" class=\"dataframe\">\n  <thead>\n    <tr style=\"text-align: right;\">\n      <th></th>\n      <th>A</th>\n      <th>B</th>\n      <th>C</th>\n      <th>D</th>\n      <th>E</th>\n    </tr>\n  </thead>\n  <tbody>\n    <tr>\n      <th>a</th>\n      <td>1</td>\n      <td>0</td>\n      <td>0</td>\n      <td>2</td>\n      <td>5</td>\n    </tr>\n    <tr>\n      <th>b</th>\n      <td>3</td>\n      <td>4</td>\n      <td>6</td>\n      <td>3</td>\n      <td>2</td>\n    </tr>\n    <tr>\n      <th>c</th>\n      <td>4</td>\n      <td>6</td>\n      <td>4</td>\n      <td>7</td>\n      <td>6</td>\n    </tr>\n    <tr>\n      <th>d</th>\n      <td>0</td>\n      <td>8</td>\n      <td>9</td>\n      <td>0</td>\n      <td>4</td>\n    </tr>\n    <tr>\n      <th>e</th>\n      <td>6</td>\n      <td>1</td>\n      <td>0</td>\n      <td>3</td>\n      <td>2</td>\n    </tr>\n  </tbody>\n</table>\n</div>"
     },
     "metadata": {},
     "execution_count": 24
    }
   ],
   "source": [
    "df2 = pd.DataFrame(np.random.randint(10, size=(5, 5)), dtype = int,\n",
    "                    index = [\"a\", \"b\", \"c\", \"d\", \"e\"],\n",
    "                    columns = [\"A\", \"B\", \"C\", \"D\", \"E\"])\n",
    "df2"
   ]
  },
  {
   "source": [
    "#### (2) 10가지 이상의 방법으로 특정한 행과 열을 선택한다.\n"
   ],
   "cell_type": "markdown",
   "metadata": {}
  },
  {
   "cell_type": "code",
   "execution_count": 25,
   "metadata": {},
   "outputs": [
    {
     "output_type": "execute_result",
     "data": {
      "text/plain": [
       "A    1\n",
       "B    0\n",
       "C    0\n",
       "D    2\n",
       "E    5\n",
       "Name: a, dtype: int32"
      ]
     },
     "metadata": {},
     "execution_count": 25
    }
   ],
   "source": [
    "# 1)\n",
    "df2.iloc[0]"
   ]
  },
  {
   "cell_type": "code",
   "execution_count": 27,
   "metadata": {},
   "outputs": [
    {
     "output_type": "execute_result",
     "data": {
      "text/plain": [
       "   A  B  C  D  E\n",
       "a  1  0  0  2  5"
      ],
      "text/html": "<div>\n<style scoped>\n    .dataframe tbody tr th:only-of-type {\n        vertical-align: middle;\n    }\n\n    .dataframe tbody tr th {\n        vertical-align: top;\n    }\n\n    .dataframe thead th {\n        text-align: right;\n    }\n</style>\n<table border=\"1\" class=\"dataframe\">\n  <thead>\n    <tr style=\"text-align: right;\">\n      <th></th>\n      <th>A</th>\n      <th>B</th>\n      <th>C</th>\n      <th>D</th>\n      <th>E</th>\n    </tr>\n  </thead>\n  <tbody>\n    <tr>\n      <th>a</th>\n      <td>1</td>\n      <td>0</td>\n      <td>0</td>\n      <td>2</td>\n      <td>5</td>\n    </tr>\n  </tbody>\n</table>\n</div>"
     },
     "metadata": {},
     "execution_count": 27
    }
   ],
   "source": [
    "# 2)\n",
    "df2.iloc[:1]"
   ]
  },
  {
   "cell_type": "code",
   "execution_count": 30,
   "metadata": {},
   "outputs": [
    {
     "output_type": "execute_result",
     "data": {
      "text/plain": [
       "   A  B  C  D  E\n",
       "a  1  0  0  2  5"
      ],
      "text/html": "<div>\n<style scoped>\n    .dataframe tbody tr th:only-of-type {\n        vertical-align: middle;\n    }\n\n    .dataframe tbody tr th {\n        vertical-align: top;\n    }\n\n    .dataframe thead th {\n        text-align: right;\n    }\n</style>\n<table border=\"1\" class=\"dataframe\">\n  <thead>\n    <tr style=\"text-align: right;\">\n      <th></th>\n      <th>A</th>\n      <th>B</th>\n      <th>C</th>\n      <th>D</th>\n      <th>E</th>\n    </tr>\n  </thead>\n  <tbody>\n    <tr>\n      <th>a</th>\n      <td>1</td>\n      <td>0</td>\n      <td>0</td>\n      <td>2</td>\n      <td>5</td>\n    </tr>\n  </tbody>\n</table>\n</div>"
     },
     "metadata": {},
     "execution_count": 30
    }
   ],
   "source": [
    "# 3)\n",
    "df2.iloc[:1, :5]\n"
   ]
  },
  {
   "cell_type": "code",
   "execution_count": 32,
   "metadata": {},
   "outputs": [
    {
     "output_type": "execute_result",
     "data": {
      "text/plain": [
       "   A  B  C  D  E\n",
       "a  1  0  0  2  5"
      ],
      "text/html": "<div>\n<style scoped>\n    .dataframe tbody tr th:only-of-type {\n        vertical-align: middle;\n    }\n\n    .dataframe tbody tr th {\n        vertical-align: top;\n    }\n\n    .dataframe thead th {\n        text-align: right;\n    }\n</style>\n<table border=\"1\" class=\"dataframe\">\n  <thead>\n    <tr style=\"text-align: right;\">\n      <th></th>\n      <th>A</th>\n      <th>B</th>\n      <th>C</th>\n      <th>D</th>\n      <th>E</th>\n    </tr>\n  </thead>\n  <tbody>\n    <tr>\n      <th>a</th>\n      <td>1</td>\n      <td>0</td>\n      <td>0</td>\n      <td>2</td>\n      <td>5</td>\n    </tr>\n  </tbody>\n</table>\n</div>"
     },
     "metadata": {},
     "execution_count": 32
    }
   ],
   "source": [
    "# 4)\n",
    "df2.loc[:'a']"
   ]
  },
  {
   "cell_type": "code",
   "execution_count": 45,
   "metadata": {},
   "outputs": [
    {
     "output_type": "execute_result",
     "data": {
      "text/plain": [
       "   A  B  C  D  E\n",
       "a  1  0  0  2  5"
      ],
      "text/html": "<div>\n<style scoped>\n    .dataframe tbody tr th:only-of-type {\n        vertical-align: middle;\n    }\n\n    .dataframe tbody tr th {\n        vertical-align: top;\n    }\n\n    .dataframe thead th {\n        text-align: right;\n    }\n</style>\n<table border=\"1\" class=\"dataframe\">\n  <thead>\n    <tr style=\"text-align: right;\">\n      <th></th>\n      <th>A</th>\n      <th>B</th>\n      <th>C</th>\n      <th>D</th>\n      <th>E</th>\n    </tr>\n  </thead>\n  <tbody>\n    <tr>\n      <th>a</th>\n      <td>1</td>\n      <td>0</td>\n      <td>0</td>\n      <td>2</td>\n      <td>5</td>\n    </tr>\n  </tbody>\n</table>\n</div>"
     },
     "metadata": {},
     "execution_count": 45
    }
   ],
   "source": [
    "# 5)\n",
    "df2.loc[:'a', :]"
   ]
  },
  {
   "cell_type": "code",
   "execution_count": 33,
   "metadata": {},
   "outputs": [
    {
     "output_type": "execute_result",
     "data": {
      "text/plain": [
       "A    1\n",
       "B    0\n",
       "C    0\n",
       "D    2\n",
       "E    5\n",
       "Name: a, dtype: int32"
      ]
     },
     "metadata": {},
     "execution_count": 33
    }
   ],
   "source": [
    "# 6)\n",
    "df2.loc['a']"
   ]
  },
  {
   "cell_type": "code",
   "execution_count": 35,
   "metadata": {},
   "outputs": [
    {
     "output_type": "execute_result",
     "data": {
      "text/plain": [
       "   A  B  C  D  E\n",
       "a  1  0  0  2  5"
      ],
      "text/html": "<div>\n<style scoped>\n    .dataframe tbody tr th:only-of-type {\n        vertical-align: middle;\n    }\n\n    .dataframe tbody tr th {\n        vertical-align: top;\n    }\n\n    .dataframe thead th {\n        text-align: right;\n    }\n</style>\n<table border=\"1\" class=\"dataframe\">\n  <thead>\n    <tr style=\"text-align: right;\">\n      <th></th>\n      <th>A</th>\n      <th>B</th>\n      <th>C</th>\n      <th>D</th>\n      <th>E</th>\n    </tr>\n  </thead>\n  <tbody>\n    <tr>\n      <th>a</th>\n      <td>1</td>\n      <td>0</td>\n      <td>0</td>\n      <td>2</td>\n      <td>5</td>\n    </tr>\n  </tbody>\n</table>\n</div>"
     },
     "metadata": {},
     "execution_count": 35
    }
   ],
   "source": [
    "# 7)\n",
    "df2.loc[df2.B == 0]"
   ]
  },
  {
   "cell_type": "code",
   "execution_count": 55,
   "metadata": {},
   "outputs": [
    {
     "output_type": "execute_result",
     "data": {
      "text/plain": [
       "   A  B  C  D  E\n",
       "a  1  0  0  2  5"
      ],
      "text/html": "<div>\n<style scoped>\n    .dataframe tbody tr th:only-of-type {\n        vertical-align: middle;\n    }\n\n    .dataframe tbody tr th {\n        vertical-align: top;\n    }\n\n    .dataframe thead th {\n        text-align: right;\n    }\n</style>\n<table border=\"1\" class=\"dataframe\">\n  <thead>\n    <tr style=\"text-align: right;\">\n      <th></th>\n      <th>A</th>\n      <th>B</th>\n      <th>C</th>\n      <th>D</th>\n      <th>E</th>\n    </tr>\n  </thead>\n  <tbody>\n    <tr>\n      <th>a</th>\n      <td>1</td>\n      <td>0</td>\n      <td>0</td>\n      <td>2</td>\n      <td>5</td>\n    </tr>\n  </tbody>\n</table>\n</div>"
     },
     "metadata": {},
     "execution_count": 55
    }
   ],
   "source": [
    "# 8) \n",
    "df2.loc[df2.A < 2][:'c']"
   ]
  },
  {
   "cell_type": "code",
   "execution_count": 46,
   "metadata": {},
   "outputs": [
    {
     "output_type": "execute_result",
     "data": {
      "text/plain": [
       "   A  B  C  D  E\n",
       "a  1  0  0  2  5"
      ],
      "text/html": "<div>\n<style scoped>\n    .dataframe tbody tr th:only-of-type {\n        vertical-align: middle;\n    }\n\n    .dataframe tbody tr th {\n        vertical-align: top;\n    }\n\n    .dataframe thead th {\n        text-align: right;\n    }\n</style>\n<table border=\"1\" class=\"dataframe\">\n  <thead>\n    <tr style=\"text-align: right;\">\n      <th></th>\n      <th>A</th>\n      <th>B</th>\n      <th>C</th>\n      <th>D</th>\n      <th>E</th>\n    </tr>\n  </thead>\n  <tbody>\n    <tr>\n      <th>a</th>\n      <td>1</td>\n      <td>0</td>\n      <td>0</td>\n      <td>2</td>\n      <td>5</td>\n    </tr>\n  </tbody>\n</table>\n</div>"
     },
     "metadata": {},
     "execution_count": 46
    }
   ],
   "source": [
    "# 9)\n",
    "df2[:'a']"
   ]
  },
  {
   "cell_type": "code",
   "execution_count": 56,
   "metadata": {},
   "outputs": [
    {
     "output_type": "execute_result",
     "data": {
      "text/plain": [
       "   A  B  C  D  E\n",
       "a  1  0  0  2  5"
      ],
      "text/html": "<div>\n<style scoped>\n    .dataframe tbody tr th:only-of-type {\n        vertical-align: middle;\n    }\n\n    .dataframe tbody tr th {\n        vertical-align: top;\n    }\n\n    .dataframe thead th {\n        text-align: right;\n    }\n</style>\n<table border=\"1\" class=\"dataframe\">\n  <thead>\n    <tr style=\"text-align: right;\">\n      <th></th>\n      <th>A</th>\n      <th>B</th>\n      <th>C</th>\n      <th>D</th>\n      <th>E</th>\n    </tr>\n  </thead>\n  <tbody>\n    <tr>\n      <th>a</th>\n      <td>1</td>\n      <td>0</td>\n      <td>0</td>\n      <td>2</td>\n      <td>5</td>\n    </tr>\n  </tbody>\n</table>\n</div>"
     },
     "metadata": {},
     "execution_count": 56
    }
   ],
   "source": [
    "# 10)\n",
    "df2[:1]"
   ]
  },
  {
   "source": [
    "### 연습 문제 4.4.1"
   ],
   "cell_type": "markdown",
   "metadata": {}
  },
  {
   "source": [
    "titanic = sns.load_dataset(\"titanic\")\n",
    "titanic.head()"
   ],
   "cell_type": "code",
   "metadata": {},
   "execution_count": 31,
   "outputs": [
    {
     "output_type": "execute_result",
     "data": {
      "text/plain": [
       "   survived  pclass     sex   age  sibsp  parch     fare embarked  class  \\\n",
       "0         0       3    male  22.0      1      0   7.2500        S  Third   \n",
       "1         1       1  female  38.0      1      0  71.2833        C  First   \n",
       "2         1       3  female  26.0      0      0   7.9250        S  Third   \n",
       "3         1       1  female  35.0      1      0  53.1000        S  First   \n",
       "4         0       3    male  35.0      0      0   8.0500        S  Third   \n",
       "\n",
       "     who  adult_male deck  embark_town alive  alone  \n",
       "0    man        True  NaN  Southampton    no  False  \n",
       "1  woman       False    C    Cherbourg   yes  False  \n",
       "2  woman       False  NaN  Southampton   yes   True  \n",
       "3  woman       False    C  Southampton   yes  False  \n",
       "4    man        True  NaN  Southampton    no   True  "
      ],
      "text/html": "<div>\n<style scoped>\n    .dataframe tbody tr th:only-of-type {\n        vertical-align: middle;\n    }\n\n    .dataframe tbody tr th {\n        vertical-align: top;\n    }\n\n    .dataframe thead th {\n        text-align: right;\n    }\n</style>\n<table border=\"1\" class=\"dataframe\">\n  <thead>\n    <tr style=\"text-align: right;\">\n      <th></th>\n      <th>survived</th>\n      <th>pclass</th>\n      <th>sex</th>\n      <th>age</th>\n      <th>sibsp</th>\n      <th>parch</th>\n      <th>fare</th>\n      <th>embarked</th>\n      <th>class</th>\n      <th>who</th>\n      <th>adult_male</th>\n      <th>deck</th>\n      <th>embark_town</th>\n      <th>alive</th>\n      <th>alone</th>\n    </tr>\n  </thead>\n  <tbody>\n    <tr>\n      <th>0</th>\n      <td>0</td>\n      <td>3</td>\n      <td>male</td>\n      <td>22.0</td>\n      <td>1</td>\n      <td>0</td>\n      <td>7.2500</td>\n      <td>S</td>\n      <td>Third</td>\n      <td>man</td>\n      <td>True</td>\n      <td>NaN</td>\n      <td>Southampton</td>\n      <td>no</td>\n      <td>False</td>\n    </tr>\n    <tr>\n      <th>1</th>\n      <td>1</td>\n      <td>1</td>\n      <td>female</td>\n      <td>38.0</td>\n      <td>1</td>\n      <td>0</td>\n      <td>71.2833</td>\n      <td>C</td>\n      <td>First</td>\n      <td>woman</td>\n      <td>False</td>\n      <td>C</td>\n      <td>Cherbourg</td>\n      <td>yes</td>\n      <td>False</td>\n    </tr>\n    <tr>\n      <th>2</th>\n      <td>1</td>\n      <td>3</td>\n      <td>female</td>\n      <td>26.0</td>\n      <td>0</td>\n      <td>0</td>\n      <td>7.9250</td>\n      <td>S</td>\n      <td>Third</td>\n      <td>woman</td>\n      <td>False</td>\n      <td>NaN</td>\n      <td>Southampton</td>\n      <td>yes</td>\n      <td>True</td>\n    </tr>\n    <tr>\n      <th>3</th>\n      <td>1</td>\n      <td>1</td>\n      <td>female</td>\n      <td>35.0</td>\n      <td>1</td>\n      <td>0</td>\n      <td>53.1000</td>\n      <td>S</td>\n      <td>First</td>\n      <td>woman</td>\n      <td>False</td>\n      <td>C</td>\n      <td>Southampton</td>\n      <td>yes</td>\n      <td>False</td>\n    </tr>\n    <tr>\n      <th>4</th>\n      <td>0</td>\n      <td>3</td>\n      <td>male</td>\n      <td>35.0</td>\n      <td>0</td>\n      <td>0</td>\n      <td>8.0500</td>\n      <td>S</td>\n      <td>Third</td>\n      <td>man</td>\n      <td>True</td>\n      <td>NaN</td>\n      <td>Southampton</td>\n      <td>no</td>\n      <td>True</td>\n    </tr>\n  </tbody>\n</table>\n</div>"
     },
     "metadata": {},
     "execution_count": 31
    }
   ]
  },
  {
   "cell_type": "code",
   "execution_count": 58,
   "metadata": {},
   "outputs": [
    {
     "output_type": "execute_result",
     "data": {
      "text/plain": [
       "survived       891\n",
       "pclass         891\n",
       "sex            891\n",
       "age            714\n",
       "sibsp          891\n",
       "parch          891\n",
       "fare           891\n",
       "embarked       889\n",
       "class          891\n",
       "who            891\n",
       "adult_male     891\n",
       "deck           203\n",
       "embark_town    889\n",
       "alive          891\n",
       "alone          891\n",
       "dtype: int64"
      ]
     },
     "metadata": {},
     "execution_count": 58
    }
   ],
   "source": [
    "# 타이타닉호 승객 데이터의 데이터 개수를 각 열마다 구해본다.\n",
    "titanic.count()"
   ]
  },
  {
   "source": [
    "### 연습 문제 4.4.2"
   ],
   "cell_type": "markdown",
   "metadata": {}
  },
  {
   "cell_type": "code",
   "execution_count": 59,
   "metadata": {},
   "outputs": [
    {
     "output_type": "execute_result",
     "data": {
      "text/plain": [
       "male      577\n",
       "female    314\n",
       "Name: sex, dtype: int64"
      ]
     },
     "metadata": {},
     "execution_count": 59
    }
   ],
   "source": [
    "# sort_values 메서드를 사용하여 타이타닉호 승객에 대해 성별(sex) 인원수, 나이별(age) 인원수, 선실별(class) 인원수, 사망/생존(alive) 인원수를 구하라.\n",
    "# 성별 인원수\n",
    "titanic.sex.value_counts()"
   ]
  },
  {
   "cell_type": "code",
   "execution_count": 60,
   "metadata": {},
   "outputs": [
    {
     "output_type": "execute_result",
     "data": {
      "text/plain": [
       "24.00    30\n",
       "22.00    27\n",
       "18.00    26\n",
       "19.00    25\n",
       "30.00    25\n",
       "         ..\n",
       "55.50     1\n",
       "70.50     1\n",
       "66.00     1\n",
       "23.50     1\n",
       "0.42      1\n",
       "Name: age, Length: 88, dtype: int64"
      ]
     },
     "metadata": {},
     "execution_count": 60
    }
   ],
   "source": [
    "# 나이별 인원수\n",
    "titanic.age.value_counts()"
   ]
  },
  {
   "cell_type": "code",
   "execution_count": 61,
   "metadata": {},
   "outputs": [
    {
     "output_type": "execute_result",
     "data": {
      "text/plain": [
       "Third     491\n",
       "First     216\n",
       "Second    184\n",
       "Name: class, dtype: int64"
      ]
     },
     "metadata": {},
     "execution_count": 61
    }
   ],
   "source": [
    "# 선실별 인원수\n",
    "titanic['class'].value_counts()"
   ]
  },
  {
   "cell_type": "code",
   "execution_count": 62,
   "metadata": {},
   "outputs": [
    {
     "output_type": "execute_result",
     "data": {
      "text/plain": [
       "no     549\n",
       "yes    342\n",
       "Name: alive, dtype: int64"
      ]
     },
     "metadata": {},
     "execution_count": 62
    }
   ],
   "source": [
    "# 사망/생존 인원수\n",
    "titanic['alive'].value_counts()"
   ]
  },
  {
   "source": [
    "### 연습 문제 4.4.3"
   ],
   "cell_type": "markdown",
   "metadata": {}
  },
  {
   "source": [
    "#### (1) 타이타닉호 승객의 평균 나이를 구하라."
   ],
   "cell_type": "markdown",
   "metadata": {}
  },
  {
   "cell_type": "code",
   "execution_count": 63,
   "metadata": {},
   "outputs": [
    {
     "output_type": "execute_result",
     "data": {
      "text/plain": [
       "29.69911764705882"
      ]
     },
     "metadata": {},
     "execution_count": 63
    }
   ],
   "source": [
    "titanic['age'].mean(axis=0)"
   ]
  },
  {
   "source": [
    "#### (2) 타이타닉호 승객중 여성 승객의 평균 나이를 구하라."
   ],
   "cell_type": "markdown",
   "metadata": {}
  },
  {
   "cell_type": "code",
   "execution_count": 73,
   "metadata": {},
   "outputs": [
    {
     "output_type": "execute_result",
     "data": {
      "text/plain": [
       "27.915708812260537"
      ]
     },
     "metadata": {},
     "execution_count": 73
    }
   ],
   "source": [
    "female = titanic.loc[titanic.sex == \"female\"]\n",
    "female['age'].mean(axis = 0) # 여성 승객 나이의 평균 구하기"
   ]
  },
  {
   "cell_type": "code",
   "execution_count": 75,
   "metadata": {},
   "outputs": [
    {
     "output_type": "execute_result",
     "data": {
      "text/plain": [
       "27.915708812260537"
      ]
     },
     "metadata": {},
     "execution_count": 75
    }
   ],
   "source": [
    "## 다른 방법 ##\n",
    "female2 = titanic[titanic['sex'] == 'female'] \n",
    "female2['age'].mean(axis=0)"
   ]
  },
  {
   "source": [
    "#### 타이타닉호 승객중 1등실 선실의 여성 승객의 평균 나이를 구하라."
   ],
   "cell_type": "markdown",
   "metadata": {}
  },
  {
   "cell_type": "code",
   "execution_count": 78,
   "metadata": {},
   "outputs": [
    {
     "output_type": "execute_result",
     "data": {
      "text/plain": [
       "34.61176470588235"
      ]
     },
     "metadata": {},
     "execution_count": 78
    }
   ],
   "source": [
    "# 여성 승객 데이터 프레임에서 필터링하기\n",
    "first = female.loc[female['class'] == \"First\"]\n",
    "\n",
    "# 1등실 선실의 여성 승객의 평균 나이를 구하기\n",
    "first['age'].mean(axis=0)"
   ]
  },
  {
   "source": [
    "### 연습 문제 4.4.4\n"
   ],
   "cell_type": "markdown",
   "metadata": {}
  },
  {
   "source": [
    "#### 타이타닉호의 승객에 대해 나이와 성별에 의한 카테고리 열인 category1 열을 만들어라. category1 카테고리는 다음과 같이 정의된다.\n",
    "- 20살이 넘으면 성별을 그대로 사용한다.\n",
    "- 20살 미만이면 성별에 관계없이 “child”라고 한다."
   ],
   "cell_type": "markdown",
   "metadata": {}
  },
  {
   "cell_type": "code",
   "execution_count": 19,
   "metadata": {},
   "outputs": [
    {
     "output_type": "execute_result",
     "data": {
      "text/plain": [
       "     survived  pclass     sex   age  sibsp  parch   fare embarked   class  \\\n",
       "886         0       2    male  27.0      0      0  13.00        S  Second   \n",
       "887         1       1  female  19.0      0      0  30.00        S   First   \n",
       "888         0       3  female   NaN      1      2  23.45        S   Third   \n",
       "889         1       1    male  26.0      0      0  30.00        C   First   \n",
       "890         0       3    male  32.0      0      0   7.75        Q   Third   \n",
       "\n",
       "       who  adult_male deck  embark_town alive  alone category1  \n",
       "886    man        True  NaN  Southampton    no   True      male  \n",
       "887  woman       False    B  Southampton   yes   True     child  \n",
       "888  woman       False  NaN  Southampton    no  False     child  \n",
       "889    man        True    C    Cherbourg   yes   True      male  \n",
       "890    man        True  NaN   Queenstown    no   True      male  "
      ],
      "text/html": "<div>\n<style scoped>\n    .dataframe tbody tr th:only-of-type {\n        vertical-align: middle;\n    }\n\n    .dataframe tbody tr th {\n        vertical-align: top;\n    }\n\n    .dataframe thead th {\n        text-align: right;\n    }\n</style>\n<table border=\"1\" class=\"dataframe\">\n  <thead>\n    <tr style=\"text-align: right;\">\n      <th></th>\n      <th>survived</th>\n      <th>pclass</th>\n      <th>sex</th>\n      <th>age</th>\n      <th>sibsp</th>\n      <th>parch</th>\n      <th>fare</th>\n      <th>embarked</th>\n      <th>class</th>\n      <th>who</th>\n      <th>adult_male</th>\n      <th>deck</th>\n      <th>embark_town</th>\n      <th>alive</th>\n      <th>alone</th>\n      <th>category1</th>\n    </tr>\n  </thead>\n  <tbody>\n    <tr>\n      <th>886</th>\n      <td>0</td>\n      <td>2</td>\n      <td>male</td>\n      <td>27.0</td>\n      <td>0</td>\n      <td>0</td>\n      <td>13.00</td>\n      <td>S</td>\n      <td>Second</td>\n      <td>man</td>\n      <td>True</td>\n      <td>NaN</td>\n      <td>Southampton</td>\n      <td>no</td>\n      <td>True</td>\n      <td>male</td>\n    </tr>\n    <tr>\n      <th>887</th>\n      <td>1</td>\n      <td>1</td>\n      <td>female</td>\n      <td>19.0</td>\n      <td>0</td>\n      <td>0</td>\n      <td>30.00</td>\n      <td>S</td>\n      <td>First</td>\n      <td>woman</td>\n      <td>False</td>\n      <td>B</td>\n      <td>Southampton</td>\n      <td>yes</td>\n      <td>True</td>\n      <td>child</td>\n    </tr>\n    <tr>\n      <th>888</th>\n      <td>0</td>\n      <td>3</td>\n      <td>female</td>\n      <td>NaN</td>\n      <td>1</td>\n      <td>2</td>\n      <td>23.45</td>\n      <td>S</td>\n      <td>Third</td>\n      <td>woman</td>\n      <td>False</td>\n      <td>NaN</td>\n      <td>Southampton</td>\n      <td>no</td>\n      <td>False</td>\n      <td>child</td>\n    </tr>\n    <tr>\n      <th>889</th>\n      <td>1</td>\n      <td>1</td>\n      <td>male</td>\n      <td>26.0</td>\n      <td>0</td>\n      <td>0</td>\n      <td>30.00</td>\n      <td>C</td>\n      <td>First</td>\n      <td>man</td>\n      <td>True</td>\n      <td>C</td>\n      <td>Cherbourg</td>\n      <td>yes</td>\n      <td>True</td>\n      <td>male</td>\n    </tr>\n    <tr>\n      <th>890</th>\n      <td>0</td>\n      <td>3</td>\n      <td>male</td>\n      <td>32.0</td>\n      <td>0</td>\n      <td>0</td>\n      <td>7.75</td>\n      <td>Q</td>\n      <td>Third</td>\n      <td>man</td>\n      <td>True</td>\n      <td>NaN</td>\n      <td>Queenstown</td>\n      <td>no</td>\n      <td>True</td>\n      <td>male</td>\n    </tr>\n  </tbody>\n</table>\n</div>"
     },
     "metadata": {},
     "execution_count": 19
    }
   ],
   "source": [
    "titanic[\"category1\"] = titanic.apply(lambda r: r.sex if r.age >= 20 else \"child\", axis=1)\n",
    "titanic.tail()"
   ]
  },
  {
   "source": [
    "### 연습 문제 4.4.5"
   ],
   "cell_type": "markdown",
   "metadata": {}
  },
  {
   "source": [
    "#### 타이타닉호의 승객 중 나이를 명시하지 않은 고객은 나이를 명시한 고객의 평균 나이 값이 되도록 titanic 데이터프레임을 고쳐라."
   ],
   "cell_type": "markdown",
   "metadata": {}
  },
  {
   "cell_type": "code",
   "execution_count": 79,
   "metadata": {},
   "outputs": [
    {
     "output_type": "execute_result",
     "data": {
      "text/plain": [
       "30"
      ]
     },
     "metadata": {},
     "execution_count": 79
    }
   ],
   "source": [
    "round(titanic.mean()['age'])"
   ]
  },
  {
   "cell_type": "code",
   "execution_count": 32,
   "metadata": {},
   "outputs": [],
   "source": [
    "titanic[\"age\"].fillna(30, inplace=True)"
   ]
  },
  {
   "source": [
    "### 연습문제 4.4.6"
   ],
   "cell_type": "markdown",
   "metadata": {}
  },
  {
   "source": [
    "#### 타이타닉호의 승객에 대해 나이와 성별에 의한 카테고리 열인 category2 열을 만들어라. category2 카테고리는 다음과 같이 정의된다.\n",
    "\n",
    "- (1) 성별을 나타내는 문자열 male 또는 female로 시작한다.\n",
    "- (2) 성별을 나타내는 문자열 뒤에 나이를 나타내는 문자열이 온다.\n",
    "- (3) 예를 들어 27살 남성은 male27 값이 된다."
   ],
   "cell_type": "markdown",
   "metadata": {}
  },
  {
   "cell_type": "code",
   "execution_count": 18,
   "metadata": {},
   "outputs": [
    {
     "output_type": "execute_result",
     "data": {
      "text/plain": [
       "survived          int64\n",
       "pclass            int64\n",
       "sex              object\n",
       "age             float64\n",
       "sibsp             int64\n",
       "parch             int64\n",
       "fare            float64\n",
       "embarked         object\n",
       "class          category\n",
       "who              object\n",
       "adult_male         bool\n",
       "deck           category\n",
       "embark_town      object\n",
       "alive            object\n",
       "alone              bool\n",
       "category2        object\n",
       "dtype: object"
      ]
     },
     "metadata": {},
     "execution_count": 18
    }
   ],
   "source": [
    "titanic.dtypes"
   ]
  },
  {
   "cell_type": "code",
   "execution_count": 33,
   "metadata": {},
   "outputs": [
    {
     "output_type": "execute_result",
     "data": {
      "text/plain": [
       "0      22\n",
       "1      38\n",
       "2      26\n",
       "3      35\n",
       "4      35\n",
       "       ..\n",
       "886    27\n",
       "887    19\n",
       "888    30\n",
       "889    26\n",
       "890    32\n",
       "Name: age, Length: 891, dtype: int32"
      ]
     },
     "metadata": {},
     "execution_count": 33
    }
   ],
   "source": [
    "titanic.age.astype(int)"
   ]
  },
  {
   "cell_type": "code",
   "execution_count": 37,
   "metadata": {},
   "outputs": [
    {
     "output_type": "execute_result",
     "data": {
      "text/plain": [
       "     survived  pclass     sex   age  sibsp  parch   fare embarked   class  \\\n",
       "886         0       2    male  27.0      0      0  13.00        S  Second   \n",
       "887         1       1  female  19.0      0      0  30.00        S   First   \n",
       "888         0       3  female  30.0      1      2  23.45        S   Third   \n",
       "889         1       1    male  26.0      0      0  30.00        C   First   \n",
       "890         0       3    male  32.0      0      0   7.75        Q   Third   \n",
       "\n",
       "       who  adult_male deck  embark_town alive  alone category2  \n",
       "886    man        True  NaN  Southampton    no   True    male27  \n",
       "887  woman       False    B  Southampton   yes   True  female19  \n",
       "888  woman       False  NaN  Southampton    no  False  female30  \n",
       "889    man        True    C    Cherbourg   yes   True    male26  \n",
       "890    man        True  NaN   Queenstown    no   True    male32  "
      ],
      "text/html": "<div>\n<style scoped>\n    .dataframe tbody tr th:only-of-type {\n        vertical-align: middle;\n    }\n\n    .dataframe tbody tr th {\n        vertical-align: top;\n    }\n\n    .dataframe thead th {\n        text-align: right;\n    }\n</style>\n<table border=\"1\" class=\"dataframe\">\n  <thead>\n    <tr style=\"text-align: right;\">\n      <th></th>\n      <th>survived</th>\n      <th>pclass</th>\n      <th>sex</th>\n      <th>age</th>\n      <th>sibsp</th>\n      <th>parch</th>\n      <th>fare</th>\n      <th>embarked</th>\n      <th>class</th>\n      <th>who</th>\n      <th>adult_male</th>\n      <th>deck</th>\n      <th>embark_town</th>\n      <th>alive</th>\n      <th>alone</th>\n      <th>category2</th>\n    </tr>\n  </thead>\n  <tbody>\n    <tr>\n      <th>886</th>\n      <td>0</td>\n      <td>2</td>\n      <td>male</td>\n      <td>27.0</td>\n      <td>0</td>\n      <td>0</td>\n      <td>13.00</td>\n      <td>S</td>\n      <td>Second</td>\n      <td>man</td>\n      <td>True</td>\n      <td>NaN</td>\n      <td>Southampton</td>\n      <td>no</td>\n      <td>True</td>\n      <td>male27</td>\n    </tr>\n    <tr>\n      <th>887</th>\n      <td>1</td>\n      <td>1</td>\n      <td>female</td>\n      <td>19.0</td>\n      <td>0</td>\n      <td>0</td>\n      <td>30.00</td>\n      <td>S</td>\n      <td>First</td>\n      <td>woman</td>\n      <td>False</td>\n      <td>B</td>\n      <td>Southampton</td>\n      <td>yes</td>\n      <td>True</td>\n      <td>female19</td>\n    </tr>\n    <tr>\n      <th>888</th>\n      <td>0</td>\n      <td>3</td>\n      <td>female</td>\n      <td>30.0</td>\n      <td>1</td>\n      <td>2</td>\n      <td>23.45</td>\n      <td>S</td>\n      <td>Third</td>\n      <td>woman</td>\n      <td>False</td>\n      <td>NaN</td>\n      <td>Southampton</td>\n      <td>no</td>\n      <td>False</td>\n      <td>female30</td>\n    </tr>\n    <tr>\n      <th>889</th>\n      <td>1</td>\n      <td>1</td>\n      <td>male</td>\n      <td>26.0</td>\n      <td>0</td>\n      <td>0</td>\n      <td>30.00</td>\n      <td>C</td>\n      <td>First</td>\n      <td>man</td>\n      <td>True</td>\n      <td>C</td>\n      <td>Cherbourg</td>\n      <td>yes</td>\n      <td>True</td>\n      <td>male26</td>\n    </tr>\n    <tr>\n      <th>890</th>\n      <td>0</td>\n      <td>3</td>\n      <td>male</td>\n      <td>32.0</td>\n      <td>0</td>\n      <td>0</td>\n      <td>7.75</td>\n      <td>Q</td>\n      <td>Third</td>\n      <td>man</td>\n      <td>True</td>\n      <td>NaN</td>\n      <td>Queenstown</td>\n      <td>no</td>\n      <td>True</td>\n      <td>male32</td>\n    </tr>\n  </tbody>\n</table>\n</div>"
     },
     "metadata": {},
     "execution_count": 37
    }
   ],
   "source": [
    "titanic['category2'] = titanic.sex + titanic.age.astype(int).astype(str)\n",
    "titanic.tail()"
   ]
  },
  {
   "source": [
    "### 연습문제 4.4.7"
   ],
   "cell_type": "markdown",
   "metadata": {}
  },
  {
   "source": [
    "#### 타이타닉호 승객을 ‘미성년자’, ‘청년’, ‘중년’, ‘장년’, ‘노년’ 나이 그룹으로 나눈다. 그리고 각 나이 그룹의 승객 비율을 구한다. 비율의 전체 합은 1이 되어야 한다."
   ],
   "cell_type": "markdown",
   "metadata": {}
  },
  {
   "cell_type": "code",
   "execution_count": 42,
   "metadata": {},
   "outputs": [
    {
     "output_type": "execute_result",
     "data": {
      "text/plain": [
       "pandas.core.series.Series"
      ]
     },
     "metadata": {},
     "execution_count": 42
    }
   ],
   "source": [
    "type(titanic['age'])"
   ]
  },
  {
   "cell_type": "code",
   "execution_count": 82,
   "metadata": {},
   "outputs": [],
   "source": [
    "# age시리즈를 리스트로 변환\n",
    "age_list = titanic[\"age\"].tolist()\n"
   ]
  },
  {
   "cell_type": "code",
   "execution_count": 84,
   "metadata": {},
   "outputs": [
    {
     "output_type": "execute_result",
     "data": {
      "text/plain": [
       "['청년', '중년', '청년', '중년', '중년', ..., '청년', '미성년자', '청년', '청년', '중년']\n",
       "Length: 891\n",
       "Categories (5, object): ['미성년자' < '청년' < '중년' < '장년' < '노년']"
      ]
     },
     "metadata": {},
     "execution_count": 84
    }
   ],
   "source": [
    "ages = age_list\n",
    "bins = [1, 20, 30, 50, 70, 100]\n",
    "labels = [\"미성년자\", \"청년\", \"중년\", \"장년\", \"노년\"]\n",
    "cats = pd.cut(ages, bins, labels = labels)\n",
    "cats"
   ]
  },
  {
   "cell_type": "code",
   "execution_count": 85,
   "metadata": {},
   "outputs": [
    {
     "output_type": "execute_result",
     "data": {
      "text/plain": [
       "청년      407\n",
       "중년      241\n",
       "미성년자    165\n",
       "장년       59\n",
       "노년        5\n",
       "dtype: int64"
      ]
     },
     "metadata": {},
     "execution_count": 85
    }
   ],
   "source": [
    "pd.value_counts(cats)"
   ]
  },
  {
   "cell_type": "code",
   "execution_count": 86,
   "metadata": {},
   "outputs": [
    {
     "output_type": "execute_result",
     "data": {
      "text/plain": [
       "청년      0.456790\n",
       "중년      0.270483\n",
       "미성년자    0.185185\n",
       "장년      0.066218\n",
       "노년      0.005612\n",
       "dtype: float64"
      ]
     },
     "metadata": {},
     "execution_count": 86
    }
   ],
   "source": [
    "# 비율 구하기\n",
    "n=891\n",
    "s = pd.Series([407,241,165,59,5],\n",
    "                index=['청년','중년','미성년자','장년','노년'])\n",
    "s/891"
   ]
  },
  {
   "source": [
    "### 연습문제 4.4.8"
   ],
   "cell_type": "markdown",
   "metadata": {}
  },
  {
   "source": [
    "#### 타이타닉호의 승객에 대해 나이와 성별에 의한 카테고리 열인 category3 열을 만들어라. category3 카테고리는 다음과 같이 정의된다.\n",
    "\n",
    "- (1) 20살 미만이면 성별에 관계없이 “미성년자”라고 한다.\n",
    "- (2) 20살 이상이면 나이에 따라 “청년”, “중년”, “장년”, “노년”을 구분하고 그 뒤에 성별을 나타내는 “남성”, “여성”을 붙인다."
   ],
   "cell_type": "markdown",
   "metadata": {}
  },
  {
   "cell_type": "code",
   "execution_count": 95,
   "metadata": {},
   "outputs": [
    {
     "output_type": "execute_result",
     "data": {
      "text/plain": [
       "     survived  pclass     sex   age  sibsp  parch     fare embarked   class  \\\n",
       "881         0       3    male  33.0      0      0   7.8958        S   Third   \n",
       "882         0       3  female  22.0      0      0  10.5167        S   Third   \n",
       "883         0       2    male  28.0      0      0  10.5000        S  Second   \n",
       "884         0       3    male  25.0      0      0   7.0500        S   Third   \n",
       "885         0       3  female  39.0      0      5  29.1250        Q   Third   \n",
       "886         0       2    male  27.0      0      0  13.0000        S  Second   \n",
       "887         1       1  female  19.0      0      0  30.0000        S   First   \n",
       "888         0       3  female  30.0      1      2  23.4500        S   Third   \n",
       "889         1       1    male  26.0      0      0  30.0000        C   First   \n",
       "890         0       3    male  32.0      0      0   7.7500        Q   Third   \n",
       "\n",
       "       who  adult_male deck  embark_town alive  alone  category3  \n",
       "881    man        True  NaN  Southampton    no   True    중년,male  \n",
       "882  woman       False  NaN  Southampton    no   True  청년,female  \n",
       "883    man        True  NaN  Southampton    no   True    청년,male  \n",
       "884    man        True  NaN  Southampton    no   True    청년,male  \n",
       "885  woman       False  NaN   Queenstown    no  False  중년,female  \n",
       "886    man        True  NaN  Southampton    no   True    청년,male  \n",
       "887  woman       False    B  Southampton   yes   True       미성년자  \n",
       "888  woman       False  NaN  Southampton    no  False  중년,female  \n",
       "889    man        True    C    Cherbourg   yes   True    청년,male  \n",
       "890    man        True  NaN   Queenstown    no   True    중년,male  "
      ],
      "text/html": "<div>\n<style scoped>\n    .dataframe tbody tr th:only-of-type {\n        vertical-align: middle;\n    }\n\n    .dataframe tbody tr th {\n        vertical-align: top;\n    }\n\n    .dataframe thead th {\n        text-align: right;\n    }\n</style>\n<table border=\"1\" class=\"dataframe\">\n  <thead>\n    <tr style=\"text-align: right;\">\n      <th></th>\n      <th>survived</th>\n      <th>pclass</th>\n      <th>sex</th>\n      <th>age</th>\n      <th>sibsp</th>\n      <th>parch</th>\n      <th>fare</th>\n      <th>embarked</th>\n      <th>class</th>\n      <th>who</th>\n      <th>adult_male</th>\n      <th>deck</th>\n      <th>embark_town</th>\n      <th>alive</th>\n      <th>alone</th>\n      <th>category3</th>\n    </tr>\n  </thead>\n  <tbody>\n    <tr>\n      <th>881</th>\n      <td>0</td>\n      <td>3</td>\n      <td>male</td>\n      <td>33.0</td>\n      <td>0</td>\n      <td>0</td>\n      <td>7.8958</td>\n      <td>S</td>\n      <td>Third</td>\n      <td>man</td>\n      <td>True</td>\n      <td>NaN</td>\n      <td>Southampton</td>\n      <td>no</td>\n      <td>True</td>\n      <td>중년,male</td>\n    </tr>\n    <tr>\n      <th>882</th>\n      <td>0</td>\n      <td>3</td>\n      <td>female</td>\n      <td>22.0</td>\n      <td>0</td>\n      <td>0</td>\n      <td>10.5167</td>\n      <td>S</td>\n      <td>Third</td>\n      <td>woman</td>\n      <td>False</td>\n      <td>NaN</td>\n      <td>Southampton</td>\n      <td>no</td>\n      <td>True</td>\n      <td>청년,female</td>\n    </tr>\n    <tr>\n      <th>883</th>\n      <td>0</td>\n      <td>2</td>\n      <td>male</td>\n      <td>28.0</td>\n      <td>0</td>\n      <td>0</td>\n      <td>10.5000</td>\n      <td>S</td>\n      <td>Second</td>\n      <td>man</td>\n      <td>True</td>\n      <td>NaN</td>\n      <td>Southampton</td>\n      <td>no</td>\n      <td>True</td>\n      <td>청년,male</td>\n    </tr>\n    <tr>\n      <th>884</th>\n      <td>0</td>\n      <td>3</td>\n      <td>male</td>\n      <td>25.0</td>\n      <td>0</td>\n      <td>0</td>\n      <td>7.0500</td>\n      <td>S</td>\n      <td>Third</td>\n      <td>man</td>\n      <td>True</td>\n      <td>NaN</td>\n      <td>Southampton</td>\n      <td>no</td>\n      <td>True</td>\n      <td>청년,male</td>\n    </tr>\n    <tr>\n      <th>885</th>\n      <td>0</td>\n      <td>3</td>\n      <td>female</td>\n      <td>39.0</td>\n      <td>0</td>\n      <td>5</td>\n      <td>29.1250</td>\n      <td>Q</td>\n      <td>Third</td>\n      <td>woman</td>\n      <td>False</td>\n      <td>NaN</td>\n      <td>Queenstown</td>\n      <td>no</td>\n      <td>False</td>\n      <td>중년,female</td>\n    </tr>\n    <tr>\n      <th>886</th>\n      <td>0</td>\n      <td>2</td>\n      <td>male</td>\n      <td>27.0</td>\n      <td>0</td>\n      <td>0</td>\n      <td>13.0000</td>\n      <td>S</td>\n      <td>Second</td>\n      <td>man</td>\n      <td>True</td>\n      <td>NaN</td>\n      <td>Southampton</td>\n      <td>no</td>\n      <td>True</td>\n      <td>청년,male</td>\n    </tr>\n    <tr>\n      <th>887</th>\n      <td>1</td>\n      <td>1</td>\n      <td>female</td>\n      <td>19.0</td>\n      <td>0</td>\n      <td>0</td>\n      <td>30.0000</td>\n      <td>S</td>\n      <td>First</td>\n      <td>woman</td>\n      <td>False</td>\n      <td>B</td>\n      <td>Southampton</td>\n      <td>yes</td>\n      <td>True</td>\n      <td>미성년자</td>\n    </tr>\n    <tr>\n      <th>888</th>\n      <td>0</td>\n      <td>3</td>\n      <td>female</td>\n      <td>30.0</td>\n      <td>1</td>\n      <td>2</td>\n      <td>23.4500</td>\n      <td>S</td>\n      <td>Third</td>\n      <td>woman</td>\n      <td>False</td>\n      <td>NaN</td>\n      <td>Southampton</td>\n      <td>no</td>\n      <td>False</td>\n      <td>중년,female</td>\n    </tr>\n    <tr>\n      <th>889</th>\n      <td>1</td>\n      <td>1</td>\n      <td>male</td>\n      <td>26.0</td>\n      <td>0</td>\n      <td>0</td>\n      <td>30.0000</td>\n      <td>C</td>\n      <td>First</td>\n      <td>man</td>\n      <td>True</td>\n      <td>C</td>\n      <td>Cherbourg</td>\n      <td>yes</td>\n      <td>True</td>\n      <td>청년,male</td>\n    </tr>\n    <tr>\n      <th>890</th>\n      <td>0</td>\n      <td>3</td>\n      <td>male</td>\n      <td>32.0</td>\n      <td>0</td>\n      <td>0</td>\n      <td>7.7500</td>\n      <td>Q</td>\n      <td>Third</td>\n      <td>man</td>\n      <td>True</td>\n      <td>NaN</td>\n      <td>Queenstown</td>\n      <td>no</td>\n      <td>True</td>\n      <td>중년,male</td>\n    </tr>\n  </tbody>\n</table>\n</div>"
     },
     "metadata": {},
     "execution_count": 95
    }
   ],
   "source": [
    "titanic[\"category3\"] = titanic.apply(lambda r: f'노년,{r.sex}' if r.age>=70 else f'장년,{r.sex}' if r.age>=50 else f'중년,{r.sex}' if r.age>=30 else f'청년,{r.sex}' if r.age>=20 else \"미성년자\", axis=1)\n",
    "\n",
    "titanic.tail(10)\n"
   ]
  },
  {
   "source": [
    "### 연습 문제 4.5.1"
   ],
   "cell_type": "markdown",
   "metadata": {}
  },
  {
   "source": [
    "#### 5명의 학생의 국어, 영어, 수학 점수를 나타내는 데이터프레임을 다음과 같이 만든다.\n",
    "\n",
    "- (1) 학생 이름을 나타내는 열을 포함시키지 않고 데이터프레임 df_score1 을 생성한 후, df_score1.index 속성에 학생 이름을 나타내는 열을 지정하여 인덱스를 지정한다. reset_index 명령으로 이 인덱스 열을 일반 데이터열로 바꾸어 데이터프레임 df_score2을 만든다.\n",
    "- (2) 학생 이름을 나타내는 열이 일반 데이터 열을 포함하는 데이터프레임 df_score2에 set_index 명령을 적용하여 다시 학생 이름을 나타내는 열을 인덱스로 변경한다.\n",
    "\n"
   ],
   "cell_type": "markdown",
   "metadata": {}
  },
  {
   "cell_type": "code",
   "execution_count": 101,
   "metadata": {},
   "outputs": [
    {
     "output_type": "execute_result",
     "data": {
      "text/plain": [
       "   국어  영어  수학\n",
       "0  99  96  97\n",
       "1  34  33  35\n",
       "2  50  26  68\n",
       "3  79  77  55\n",
       "4  88  56  89"
      ],
      "text/html": "<div>\n<style scoped>\n    .dataframe tbody tr th:only-of-type {\n        vertical-align: middle;\n    }\n\n    .dataframe tbody tr th {\n        vertical-align: top;\n    }\n\n    .dataframe thead th {\n        text-align: right;\n    }\n</style>\n<table border=\"1\" class=\"dataframe\">\n  <thead>\n    <tr style=\"text-align: right;\">\n      <th></th>\n      <th>국어</th>\n      <th>영어</th>\n      <th>수학</th>\n    </tr>\n  </thead>\n  <tbody>\n    <tr>\n      <th>0</th>\n      <td>99</td>\n      <td>96</td>\n      <td>97</td>\n    </tr>\n    <tr>\n      <th>1</th>\n      <td>34</td>\n      <td>33</td>\n      <td>35</td>\n    </tr>\n    <tr>\n      <th>2</th>\n      <td>50</td>\n      <td>26</td>\n      <td>68</td>\n    </tr>\n    <tr>\n      <th>3</th>\n      <td>79</td>\n      <td>77</td>\n      <td>55</td>\n    </tr>\n    <tr>\n      <th>4</th>\n      <td>88</td>\n      <td>56</td>\n      <td>89</td>\n    </tr>\n  </tbody>\n</table>\n</div>"
     },
     "metadata": {},
     "execution_count": 101
    }
   ],
   "source": [
    "data = {\n",
    "    \"국어\": [99, 34, 50, 79, 88],\n",
    "    \"영어\": [96, 33, 26, 77, 56],\n",
    "    \"수학\": [97, 35, 68, 55, 89],\n",
    "}\n",
    "\n",
    "columns = ['국어', '영어', '수학']\n",
    "\n",
    "df_score1 = pd.DataFrame(data,columns = columns)\n",
    "df_score1"
   ]
  },
  {
   "cell_type": "code",
   "execution_count": 102,
   "metadata": {},
   "outputs": [
    {
     "output_type": "execute_result",
     "data": {
      "text/plain": [
       "    국어  영어  수학\n",
       "이름            \n",
       "영서  99  96  97\n",
       "민수  34  33  35\n",
       "희수  50  26  68\n",
       "찬열  79  77  55\n",
       "아영  88  56  89"
      ],
      "text/html": "<div>\n<style scoped>\n    .dataframe tbody tr th:only-of-type {\n        vertical-align: middle;\n    }\n\n    .dataframe tbody tr th {\n        vertical-align: top;\n    }\n\n    .dataframe thead th {\n        text-align: right;\n    }\n</style>\n<table border=\"1\" class=\"dataframe\">\n  <thead>\n    <tr style=\"text-align: right;\">\n      <th></th>\n      <th>국어</th>\n      <th>영어</th>\n      <th>수학</th>\n    </tr>\n    <tr>\n      <th>이름</th>\n      <th></th>\n      <th></th>\n      <th></th>\n    </tr>\n  </thead>\n  <tbody>\n    <tr>\n      <th>영서</th>\n      <td>99</td>\n      <td>96</td>\n      <td>97</td>\n    </tr>\n    <tr>\n      <th>민수</th>\n      <td>34</td>\n      <td>33</td>\n      <td>35</td>\n    </tr>\n    <tr>\n      <th>희수</th>\n      <td>50</td>\n      <td>26</td>\n      <td>68</td>\n    </tr>\n    <tr>\n      <th>찬열</th>\n      <td>79</td>\n      <td>77</td>\n      <td>55</td>\n    </tr>\n    <tr>\n      <th>아영</th>\n      <td>88</td>\n      <td>56</td>\n      <td>89</td>\n    </tr>\n  </tbody>\n</table>\n</div>"
     },
     "metadata": {},
     "execution_count": 102
    }
   ],
   "source": [
    "# df_score1.index 속성에 학생 이름을 나타내는 열을 지정하여 인덱스를 지정\n",
    "df_score1.index = ['영서','민수','희수','찬열','아영']\n",
    "df_score1.index.name = \"이름\"\n",
    "df_score1"
   ]
  },
  {
   "cell_type": "code",
   "execution_count": 108,
   "metadata": {},
   "outputs": [
    {
     "output_type": "execute_result",
     "data": {
      "text/plain": [
       "   이름  국어  영어  수학\n",
       "0  영서  99  96  97\n",
       "1  민수  34  33  35\n",
       "2  희수  50  26  68\n",
       "3  찬열  79  77  55\n",
       "4  아영  88  56  89"
      ],
      "text/html": "<div>\n<style scoped>\n    .dataframe tbody tr th:only-of-type {\n        vertical-align: middle;\n    }\n\n    .dataframe tbody tr th {\n        vertical-align: top;\n    }\n\n    .dataframe thead th {\n        text-align: right;\n    }\n</style>\n<table border=\"1\" class=\"dataframe\">\n  <thead>\n    <tr style=\"text-align: right;\">\n      <th></th>\n      <th>이름</th>\n      <th>국어</th>\n      <th>영어</th>\n      <th>수학</th>\n    </tr>\n  </thead>\n  <tbody>\n    <tr>\n      <th>0</th>\n      <td>영서</td>\n      <td>99</td>\n      <td>96</td>\n      <td>97</td>\n    </tr>\n    <tr>\n      <th>1</th>\n      <td>민수</td>\n      <td>34</td>\n      <td>33</td>\n      <td>35</td>\n    </tr>\n    <tr>\n      <th>2</th>\n      <td>희수</td>\n      <td>50</td>\n      <td>26</td>\n      <td>68</td>\n    </tr>\n    <tr>\n      <th>3</th>\n      <td>찬열</td>\n      <td>79</td>\n      <td>77</td>\n      <td>55</td>\n    </tr>\n    <tr>\n      <th>4</th>\n      <td>아영</td>\n      <td>88</td>\n      <td>56</td>\n      <td>89</td>\n    </tr>\n  </tbody>\n</table>\n</div>"
     },
     "metadata": {},
     "execution_count": 108
    }
   ],
   "source": [
    "# reset_index 명령으로 인덱스 열을 일반 데이터열로 바꾸어 df_score2만들기\n",
    "df_score2 = df_score1.reset_index()\n",
    "df_score2"
   ]
  },
  {
   "cell_type": "code",
   "execution_count": 111,
   "metadata": {},
   "outputs": [
    {
     "output_type": "execute_result",
     "data": {
      "text/plain": [
       "    국어  영어  수학\n",
       "이름            \n",
       "영서  99  96  97\n",
       "민수  34  33  35\n",
       "희수  50  26  68\n",
       "찬열  79  77  55\n",
       "아영  88  56  89"
      ],
      "text/html": "<div>\n<style scoped>\n    .dataframe tbody tr th:only-of-type {\n        vertical-align: middle;\n    }\n\n    .dataframe tbody tr th {\n        vertical-align: top;\n    }\n\n    .dataframe thead th {\n        text-align: right;\n    }\n</style>\n<table border=\"1\" class=\"dataframe\">\n  <thead>\n    <tr style=\"text-align: right;\">\n      <th></th>\n      <th>국어</th>\n      <th>영어</th>\n      <th>수학</th>\n    </tr>\n    <tr>\n      <th>이름</th>\n      <th></th>\n      <th></th>\n      <th></th>\n    </tr>\n  </thead>\n  <tbody>\n    <tr>\n      <th>영서</th>\n      <td>99</td>\n      <td>96</td>\n      <td>97</td>\n    </tr>\n    <tr>\n      <th>민수</th>\n      <td>34</td>\n      <td>33</td>\n      <td>35</td>\n    </tr>\n    <tr>\n      <th>희수</th>\n      <td>50</td>\n      <td>26</td>\n      <td>68</td>\n    </tr>\n    <tr>\n      <th>찬열</th>\n      <td>79</td>\n      <td>77</td>\n      <td>55</td>\n    </tr>\n    <tr>\n      <th>아영</th>\n      <td>88</td>\n      <td>56</td>\n      <td>89</td>\n    </tr>\n  </tbody>\n</table>\n</div>"
     },
     "metadata": {},
     "execution_count": 111
    }
   ],
   "source": [
    "# 학생 이름을 나타내는 열이 일반 데이터 열을 포함하는 데이터프레임 df_score2에 set_index 명령을 적용하여 다시 학생 이름을 나타내는 열을 인덱스로 변경한다.\n",
    "df_score_new = df_score2.set_index(\"이름\")\n",
    "df_score_new\n",
    "\n"
   ]
  },
  {
   "source": [
    "### 연습문제 4.5.2"
   ],
   "cell_type": "markdown",
   "metadata": {}
  },
  {
   "source": [
    "#### A 반 학생 5명과 B반 학생 5명의 국어, 영어, 수학 점수를 나타내는 데이터프레임을 다음과 같이 만든다."
   ],
   "cell_type": "markdown",
   "metadata": {}
  },
  {
   "source": [
    "- (1) “반”, “번호”, “국어”, “영어”, “수학” 을 열로 가지는 데이터프레임 df_score3을 만든다."
   ],
   "cell_type": "markdown",
   "metadata": {}
  },
  {
   "cell_type": "code",
   "execution_count": 126,
   "metadata": {},
   "outputs": [
    {
     "output_type": "execute_result",
     "data": {
      "text/plain": [
       "array([24,  3, 83, 45, 33, 76, 65, 60, 87, 93])"
      ]
     },
     "metadata": {},
     "execution_count": 126
    }
   ],
   "source": [
    "np.random.randint(0,100,10)"
   ]
  },
  {
   "cell_type": "code",
   "execution_count": 151,
   "metadata": {},
   "outputs": [
    {
     "output_type": "execute_result",
     "data": {
      "text/plain": [
       "   반  번호  국어  영어  수학\n",
       "0  A   1  99  96  97\n",
       "1  A   2  34  33  35\n",
       "2  A   3  50  26  68\n",
       "3  A   4  79  77  55\n",
       "4  A   5  88  56  89\n",
       "5  B   1  34  72  90\n",
       "6  B   2  23  48  53\n",
       "7  B   3  57  68  57\n",
       "8  B   4  25  64  63\n",
       "9  B   5  83  68  26"
      ],
      "text/html": "<div>\n<style scoped>\n    .dataframe tbody tr th:only-of-type {\n        vertical-align: middle;\n    }\n\n    .dataframe tbody tr th {\n        vertical-align: top;\n    }\n\n    .dataframe thead th {\n        text-align: right;\n    }\n</style>\n<table border=\"1\" class=\"dataframe\">\n  <thead>\n    <tr style=\"text-align: right;\">\n      <th></th>\n      <th>반</th>\n      <th>번호</th>\n      <th>국어</th>\n      <th>영어</th>\n      <th>수학</th>\n    </tr>\n  </thead>\n  <tbody>\n    <tr>\n      <th>0</th>\n      <td>A</td>\n      <td>1</td>\n      <td>99</td>\n      <td>96</td>\n      <td>97</td>\n    </tr>\n    <tr>\n      <th>1</th>\n      <td>A</td>\n      <td>2</td>\n      <td>34</td>\n      <td>33</td>\n      <td>35</td>\n    </tr>\n    <tr>\n      <th>2</th>\n      <td>A</td>\n      <td>3</td>\n      <td>50</td>\n      <td>26</td>\n      <td>68</td>\n    </tr>\n    <tr>\n      <th>3</th>\n      <td>A</td>\n      <td>4</td>\n      <td>79</td>\n      <td>77</td>\n      <td>55</td>\n    </tr>\n    <tr>\n      <th>4</th>\n      <td>A</td>\n      <td>5</td>\n      <td>88</td>\n      <td>56</td>\n      <td>89</td>\n    </tr>\n    <tr>\n      <th>5</th>\n      <td>B</td>\n      <td>1</td>\n      <td>34</td>\n      <td>72</td>\n      <td>90</td>\n    </tr>\n    <tr>\n      <th>6</th>\n      <td>B</td>\n      <td>2</td>\n      <td>23</td>\n      <td>48</td>\n      <td>53</td>\n    </tr>\n    <tr>\n      <th>7</th>\n      <td>B</td>\n      <td>3</td>\n      <td>57</td>\n      <td>68</td>\n      <td>57</td>\n    </tr>\n    <tr>\n      <th>8</th>\n      <td>B</td>\n      <td>4</td>\n      <td>25</td>\n      <td>64</td>\n      <td>63</td>\n    </tr>\n    <tr>\n      <th>9</th>\n      <td>B</td>\n      <td>5</td>\n      <td>83</td>\n      <td>68</td>\n      <td>26</td>\n    </tr>\n  </tbody>\n</table>\n</div>"
     },
     "metadata": {},
     "execution_count": 151
    }
   ],
   "source": [
    "data2 = {\n",
    "    \"반\":[\"A\",'A','A','A','A','B','B','B','B','B'],\n",
    "    \"번호\":[1,2,3,4,5,1,2,3,4,5],     \n",
    "    \"국어\": [99, 34, 50, 79, 88, 34,23,57,25,83],\n",
    "    \"영어\": [96, 33, 26, 77, 56, 72,48,68,64,68],\n",
    "    \"수학\": [97, 35, 68, 55, 89, 90,53,57,63,26],\n",
    "}\n",
    "\n",
    "columns =  [\"반\",\"번호\",'국어', '영어', '수학'] \n",
    "\n",
    "df_score3 = pd.DataFrame(data2, columns = columns)\n",
    "df_score3"
   ]
  },
  {
   "source": [
    "- (2) df_score3을 변형하여 1차 행 인덱스로 “반”을 2차 행 인덱스로 “번호”을 가지는 데이터프레임 df_score4을 만든다."
   ],
   "cell_type": "markdown",
   "metadata": {}
  },
  {
   "cell_type": "code",
   "execution_count": 152,
   "metadata": {},
   "outputs": [
    {
     "output_type": "execute_result",
     "data": {
      "text/plain": [
       "      국어  영어  수학\n",
       "반 번호            \n",
       "A 1   99  96  97\n",
       "  2   34  33  35\n",
       "  3   50  26  68\n",
       "  4   79  77  55\n",
       "  5   88  56  89\n",
       "B 1   34  72  90\n",
       "  2   23  48  53\n",
       "  3   57  68  57\n",
       "  4   25  64  63\n",
       "  5   83  68  26"
      ],
      "text/html": "<div>\n<style scoped>\n    .dataframe tbody tr th:only-of-type {\n        vertical-align: middle;\n    }\n\n    .dataframe tbody tr th {\n        vertical-align: top;\n    }\n\n    .dataframe thead th {\n        text-align: right;\n    }\n</style>\n<table border=\"1\" class=\"dataframe\">\n  <thead>\n    <tr style=\"text-align: right;\">\n      <th></th>\n      <th></th>\n      <th>국어</th>\n      <th>영어</th>\n      <th>수학</th>\n    </tr>\n    <tr>\n      <th>반</th>\n      <th>번호</th>\n      <th></th>\n      <th></th>\n      <th></th>\n    </tr>\n  </thead>\n  <tbody>\n    <tr>\n      <th rowspan=\"5\" valign=\"top\">A</th>\n      <th>1</th>\n      <td>99</td>\n      <td>96</td>\n      <td>97</td>\n    </tr>\n    <tr>\n      <th>2</th>\n      <td>34</td>\n      <td>33</td>\n      <td>35</td>\n    </tr>\n    <tr>\n      <th>3</th>\n      <td>50</td>\n      <td>26</td>\n      <td>68</td>\n    </tr>\n    <tr>\n      <th>4</th>\n      <td>79</td>\n      <td>77</td>\n      <td>55</td>\n    </tr>\n    <tr>\n      <th>5</th>\n      <td>88</td>\n      <td>56</td>\n      <td>89</td>\n    </tr>\n    <tr>\n      <th rowspan=\"5\" valign=\"top\">B</th>\n      <th>1</th>\n      <td>34</td>\n      <td>72</td>\n      <td>90</td>\n    </tr>\n    <tr>\n      <th>2</th>\n      <td>23</td>\n      <td>48</td>\n      <td>53</td>\n    </tr>\n    <tr>\n      <th>3</th>\n      <td>57</td>\n      <td>68</td>\n      <td>57</td>\n    </tr>\n    <tr>\n      <th>4</th>\n      <td>25</td>\n      <td>64</td>\n      <td>63</td>\n    </tr>\n    <tr>\n      <th>5</th>\n      <td>83</td>\n      <td>68</td>\n      <td>26</td>\n    </tr>\n  </tbody>\n</table>\n</div>"
     },
     "metadata": {},
     "execution_count": 152
    }
   ],
   "source": [
    "df_score4 = df_score3.set_index(['반','번호'])\n",
    "df_score4\n"
   ]
  },
  {
   "source": [
    "- (3) 데이터 프레임 df_score4에 각 학생의 평균을 나타내는 행을 오른쪽에 추가한다."
   ],
   "cell_type": "markdown",
   "metadata": {}
  },
  {
   "cell_type": "code",
   "execution_count": 153,
   "metadata": {},
   "outputs": [
    {
     "output_type": "execute_result",
     "data": {
      "text/plain": [
       "      국어  영어  수학         평균\n",
       "반 번호                       \n",
       "A 1   99  96  97  97.333333\n",
       "  2   34  33  35  34.000000\n",
       "  3   50  26  68  48.000000\n",
       "  4   79  77  55  70.333333\n",
       "  5   88  56  89  77.666667\n",
       "B 1   34  72  90  65.333333\n",
       "  2   23  48  53  41.333333\n",
       "  3   57  68  57  60.666667\n",
       "  4   25  64  63  50.666667\n",
       "  5   83  68  26  59.000000"
      ],
      "text/html": "<div>\n<style scoped>\n    .dataframe tbody tr th:only-of-type {\n        vertical-align: middle;\n    }\n\n    .dataframe tbody tr th {\n        vertical-align: top;\n    }\n\n    .dataframe thead th {\n        text-align: right;\n    }\n</style>\n<table border=\"1\" class=\"dataframe\">\n  <thead>\n    <tr style=\"text-align: right;\">\n      <th></th>\n      <th></th>\n      <th>국어</th>\n      <th>영어</th>\n      <th>수학</th>\n      <th>평균</th>\n    </tr>\n    <tr>\n      <th>반</th>\n      <th>번호</th>\n      <th></th>\n      <th></th>\n      <th></th>\n      <th></th>\n    </tr>\n  </thead>\n  <tbody>\n    <tr>\n      <th rowspan=\"5\" valign=\"top\">A</th>\n      <th>1</th>\n      <td>99</td>\n      <td>96</td>\n      <td>97</td>\n      <td>97.333333</td>\n    </tr>\n    <tr>\n      <th>2</th>\n      <td>34</td>\n      <td>33</td>\n      <td>35</td>\n      <td>34.000000</td>\n    </tr>\n    <tr>\n      <th>3</th>\n      <td>50</td>\n      <td>26</td>\n      <td>68</td>\n      <td>48.000000</td>\n    </tr>\n    <tr>\n      <th>4</th>\n      <td>79</td>\n      <td>77</td>\n      <td>55</td>\n      <td>70.333333</td>\n    </tr>\n    <tr>\n      <th>5</th>\n      <td>88</td>\n      <td>56</td>\n      <td>89</td>\n      <td>77.666667</td>\n    </tr>\n    <tr>\n      <th rowspan=\"5\" valign=\"top\">B</th>\n      <th>1</th>\n      <td>34</td>\n      <td>72</td>\n      <td>90</td>\n      <td>65.333333</td>\n    </tr>\n    <tr>\n      <th>2</th>\n      <td>23</td>\n      <td>48</td>\n      <td>53</td>\n      <td>41.333333</td>\n    </tr>\n    <tr>\n      <th>3</th>\n      <td>57</td>\n      <td>68</td>\n      <td>57</td>\n      <td>60.666667</td>\n    </tr>\n    <tr>\n      <th>4</th>\n      <td>25</td>\n      <td>64</td>\n      <td>63</td>\n      <td>50.666667</td>\n    </tr>\n    <tr>\n      <th>5</th>\n      <td>83</td>\n      <td>68</td>\n      <td>26</td>\n      <td>59.000000</td>\n    </tr>\n  </tbody>\n</table>\n</div>"
     },
     "metadata": {},
     "execution_count": 153
    }
   ],
   "source": [
    "df_score4['평균'] = df_score4.mean(axis=1)\n",
    "df_score4"
   ]
  },
  {
   "source": [
    "- (4) df_score3을 변형하여 행 인덱스로 “번호”를, 1차 열 인덱스로 “국어”, “영어”, “수학”을, 2차 열 인덱스로 “반”을 가지는 데이터프레임 df_score5을 만든다."
   ],
   "cell_type": "markdown",
   "metadata": {}
  },
  {
   "cell_type": "code",
   "execution_count": 154,
   "metadata": {},
   "outputs": [
    {
     "output_type": "execute_result",
     "data": {
      "text/plain": [
       "    국어      영어      수학    \n",
       "반    A   B   A   B   A   B\n",
       "번호                        \n",
       "1   99  34  96  72  97  90\n",
       "2   34  23  33  48  35  53\n",
       "3   50  57  26  68  68  57\n",
       "4   79  25  77  64  55  63\n",
       "5   88  83  56  68  89  26"
      ],
      "text/html": "<div>\n<style scoped>\n    .dataframe tbody tr th:only-of-type {\n        vertical-align: middle;\n    }\n\n    .dataframe tbody tr th {\n        vertical-align: top;\n    }\n\n    .dataframe thead tr th {\n        text-align: left;\n    }\n\n    .dataframe thead tr:last-of-type th {\n        text-align: right;\n    }\n</style>\n<table border=\"1\" class=\"dataframe\">\n  <thead>\n    <tr>\n      <th></th>\n      <th colspan=\"2\" halign=\"left\">국어</th>\n      <th colspan=\"2\" halign=\"left\">영어</th>\n      <th colspan=\"2\" halign=\"left\">수학</th>\n    </tr>\n    <tr>\n      <th>반</th>\n      <th>A</th>\n      <th>B</th>\n      <th>A</th>\n      <th>B</th>\n      <th>A</th>\n      <th>B</th>\n    </tr>\n    <tr>\n      <th>번호</th>\n      <th></th>\n      <th></th>\n      <th></th>\n      <th></th>\n      <th></th>\n      <th></th>\n    </tr>\n  </thead>\n  <tbody>\n    <tr>\n      <th>1</th>\n      <td>99</td>\n      <td>34</td>\n      <td>96</td>\n      <td>72</td>\n      <td>97</td>\n      <td>90</td>\n    </tr>\n    <tr>\n      <th>2</th>\n      <td>34</td>\n      <td>23</td>\n      <td>33</td>\n      <td>48</td>\n      <td>35</td>\n      <td>53</td>\n    </tr>\n    <tr>\n      <th>3</th>\n      <td>50</td>\n      <td>57</td>\n      <td>26</td>\n      <td>68</td>\n      <td>68</td>\n      <td>57</td>\n    </tr>\n    <tr>\n      <th>4</th>\n      <td>79</td>\n      <td>25</td>\n      <td>77</td>\n      <td>64</td>\n      <td>55</td>\n      <td>63</td>\n    </tr>\n    <tr>\n      <th>5</th>\n      <td>88</td>\n      <td>83</td>\n      <td>56</td>\n      <td>68</td>\n      <td>89</td>\n      <td>26</td>\n    </tr>\n  </tbody>\n</table>\n</div>"
     },
     "metadata": {},
     "execution_count": 154
    }
   ],
   "source": [
    "df_score5 = df_score3.set_index(['반','번호']).unstack(\"반\")\n",
    "df_score5"
   ]
  },
  {
   "source": [
    "- (5) 데이터 프레임 df_score5에 각 반별 각 과목의 평균을 나타내는 행을 아래에 추가한다."
   ],
   "cell_type": "markdown",
   "metadata": {}
  },
  {
   "cell_type": "code",
   "execution_count": 156,
   "metadata": {},
   "outputs": [
    {
     "output_type": "execute_result",
     "data": {
      "text/plain": [
       "       국어          영어          수학      \n",
       "반       A     B     A     B     A     B\n",
       "번호                                     \n",
       "1    99.0  34.0  96.0  72.0  97.0  90.0\n",
       "2    34.0  23.0  33.0  48.0  35.0  53.0\n",
       "3    50.0  57.0  26.0  68.0  68.0  57.0\n",
       "4    79.0  25.0  77.0  64.0  55.0  63.0\n",
       "5    88.0  83.0  56.0  68.0  89.0  26.0\n",
       "avg  70.0  44.4  57.6  64.0  68.8  57.8"
      ],
      "text/html": "<div>\n<style scoped>\n    .dataframe tbody tr th:only-of-type {\n        vertical-align: middle;\n    }\n\n    .dataframe tbody tr th {\n        vertical-align: top;\n    }\n\n    .dataframe thead tr th {\n        text-align: left;\n    }\n\n    .dataframe thead tr:last-of-type th {\n        text-align: right;\n    }\n</style>\n<table border=\"1\" class=\"dataframe\">\n  <thead>\n    <tr>\n      <th></th>\n      <th colspan=\"2\" halign=\"left\">국어</th>\n      <th colspan=\"2\" halign=\"left\">영어</th>\n      <th colspan=\"2\" halign=\"left\">수학</th>\n    </tr>\n    <tr>\n      <th>반</th>\n      <th>A</th>\n      <th>B</th>\n      <th>A</th>\n      <th>B</th>\n      <th>A</th>\n      <th>B</th>\n    </tr>\n    <tr>\n      <th>번호</th>\n      <th></th>\n      <th></th>\n      <th></th>\n      <th></th>\n      <th></th>\n      <th></th>\n    </tr>\n  </thead>\n  <tbody>\n    <tr>\n      <th>1</th>\n      <td>99.0</td>\n      <td>34.0</td>\n      <td>96.0</td>\n      <td>72.0</td>\n      <td>97.0</td>\n      <td>90.0</td>\n    </tr>\n    <tr>\n      <th>2</th>\n      <td>34.0</td>\n      <td>23.0</td>\n      <td>33.0</td>\n      <td>48.0</td>\n      <td>35.0</td>\n      <td>53.0</td>\n    </tr>\n    <tr>\n      <th>3</th>\n      <td>50.0</td>\n      <td>57.0</td>\n      <td>26.0</td>\n      <td>68.0</td>\n      <td>68.0</td>\n      <td>57.0</td>\n    </tr>\n    <tr>\n      <th>4</th>\n      <td>79.0</td>\n      <td>25.0</td>\n      <td>77.0</td>\n      <td>64.0</td>\n      <td>55.0</td>\n      <td>63.0</td>\n    </tr>\n    <tr>\n      <th>5</th>\n      <td>88.0</td>\n      <td>83.0</td>\n      <td>56.0</td>\n      <td>68.0</td>\n      <td>89.0</td>\n      <td>26.0</td>\n    </tr>\n    <tr>\n      <th>avg</th>\n      <td>70.0</td>\n      <td>44.4</td>\n      <td>57.6</td>\n      <td>64.0</td>\n      <td>68.8</td>\n      <td>57.8</td>\n    </tr>\n  </tbody>\n</table>\n</div>"
     },
     "metadata": {},
     "execution_count": 156
    }
   ],
   "source": [
    "df_score5.loc['avg'] =  df_score5.mean(axis=0)\n",
    "df_score5"
   ]
  }
 ]
}