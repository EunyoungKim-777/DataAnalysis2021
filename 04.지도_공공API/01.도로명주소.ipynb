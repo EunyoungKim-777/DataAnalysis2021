{
 "metadata": {
  "language_info": {
   "codemirror_mode": {
    "name": "ipython",
    "version": 3
   },
   "file_extension": ".py",
   "mimetype": "text/x-python",
   "name": "python",
   "nbconvert_exporter": "python",
   "pygments_lexer": "ipython3",
   "version": "3.6.10"
  },
  "orig_nbformat": 2,
  "kernelspec": {
   "name": "python3610jvsc74a57bd045bb9909f4134a5c522dd73f5b26e0da33d17d4f62f0476a1f9dbaaf4e2522a5",
   "display_name": "Python 3.6.10 64-bit ('base': conda)"
  }
 },
 "nbformat": 4,
 "nbformat_minor": 2,
 "cells": [
  {
   "source": [
    "# 행정안전부 도로명주소 API\n",
    "- 건물명으로부터 도로명주소 구하기"
   ],
   "cell_type": "markdown",
   "metadata": {}
  },
  {
   "cell_type": "code",
   "execution_count": 2,
   "metadata": {},
   "outputs": [],
   "source": [
    "import requests\n",
    "from urllib.parse import quote\n",
    "import pandas as pd"
   ]
  },
  {
   "cell_type": "code",
   "execution_count": 3,
   "metadata": {},
   "outputs": [],
   "source": [
    "with open('roadapikey.txt',mode='r') as key_file:\n",
    "    road_key = key_file.read()"
   ]
  },
  {
   "cell_type": "code",
   "execution_count": 8,
   "metadata": {},
   "outputs": [
    {
     "output_type": "execute_result",
     "data": {
      "text/plain": [
       "'%ED%95%9C%EA%B5%AD%EA%B2%BD%EC%A0%9C%EC%8B%A0%EB%AC%B8%EC%82%AC'"
      ]
     },
     "metadata": {},
     "execution_count": 8
    }
   ],
   "source": [
    "quote('한국경제신문사')"
   ]
  },
  {
   "cell_type": "code",
   "execution_count": 4,
   "metadata": {},
   "outputs": [],
   "source": [
    "road_url = 'https://www.juso.go.kr/addrlink/addrLinkApi.do'"
   ]
  },
  {
   "cell_type": "code",
   "execution_count": 9,
   "metadata": {},
   "outputs": [
    {
     "output_type": "execute_result",
     "data": {
      "text/plain": [
       "'https://www.juso.go.kr/addrlink/addrLinkApi.do?confmKey=devU01TX0FVVEgyMDIxMDYwMzE3MTcyNzExMTI0MjQ=&currentPage=1&countPerPage=10&keyword=%ED%95%9C%EA%B5%AD%EA%B2%BD%EC%A0%9C%EC%8B%A0%EB%AC%B8%EC%82%AC&resultType=json'"
      ]
     },
     "metadata": {},
     "execution_count": 9
    }
   ],
   "source": [
    "road_url = 'https://www.juso.go.kr/addrlink/addrLinkApi.do'\n",
    "url = f\"{road_url}?confmKey={road_key}&currentPage=1&countPerPage=10&keyword={quote('한국경제신문사')}&resultType=json\"\n",
    "url"
   ]
  },
  {
   "cell_type": "code",
   "execution_count": 35,
   "metadata": {},
   "outputs": [],
   "source": [
    "result = requests.get(url).json()\n",
    "#result"
   ]
  },
  {
   "cell_type": "code",
   "execution_count": 10,
   "metadata": {},
   "outputs": [
    {
     "output_type": "execute_result",
     "data": {
      "text/plain": [
       "dict"
      ]
     },
     "metadata": {},
     "execution_count": 10
    }
   ],
   "source": [
    "type(result)"
   ]
  },
  {
   "cell_type": "code",
   "execution_count": 24,
   "metadata": {},
   "outputs": [
    {
     "output_type": "execute_result",
     "data": {
      "text/plain": [
       "dict"
      ]
     },
     "metadata": {},
     "execution_count": 24
    }
   ],
   "source": [
    "type(result['results']['juso'][0])"
   ]
  },
  {
   "cell_type": "code",
   "execution_count": 32,
   "metadata": {},
   "outputs": [
    {
     "output_type": "execute_result",
     "data": {
      "text/plain": [
       "('한국경제신문사', '서울특별시 중구 청파로 463 (중림동)')"
      ]
     },
     "metadata": {},
     "execution_count": 32
    }
   ],
   "source": [
    "building_name = result['results']['juso'][0]['bdNm']\n",
    "road_address = result['results']['juso'][0]['roadAddr']\n",
    "building_name, road_address"
   ]
  },
  {
   "source": [
    "- 6개의 건물명을 리스트로 받아 도로명주소를 구한 뒤 데이터프레임으로 만들어 CSV파일(addr.csv)로 만들기"
   ],
   "cell_type": "markdown",
   "metadata": {}
  },
  {
   "cell_type": "code",
   "execution_count": 5,
   "metadata": {},
   "outputs": [],
   "source": [
    "ad_list=[]"
   ]
  },
  {
   "cell_type": "code",
   "execution_count": 6,
   "metadata": {},
   "outputs": [],
   "source": [
    "bldg_list=['한국경제신문사','서울특별시청','종로구청','중구청','서대문구청','용산구청']"
   ]
  },
  {
   "cell_type": "code",
   "execution_count": 7,
   "metadata": {},
   "outputs": [
    {
     "output_type": "execute_result",
     "data": {
      "text/plain": [
       "['서울특별시 중구 청파로 463 (중림동)',\n",
       " '서울특별시 중구 세종대로 110 (태평로1가)',\n",
       " '서울특별시 종로구 종로1길 36 (수송동)',\n",
       " '서울특별시 중구 창경궁로 17 (예관동)',\n",
       " '서울특별시 서대문구 연희로 247 (연희동)',\n",
       " '서울특별시 용산구 백범로79길 64 (청파동3가)']"
      ]
     },
     "metadata": {},
     "execution_count": 7
    }
   ],
   "source": [
    "for bldg in bldg_list:\n",
    "    road_address = requests.get(f\"{road_url}?confmKey={road_key}&currentPage=1&countPerPage=10&keyword={quote(bldg)}&resultType=json\").json()['results']['juso'][0]['roadAddr']\n",
    "    ad_list.append(road_address)\n",
    "\n",
    "ad_list"
   ]
  },
  {
   "cell_type": "code",
   "execution_count": 8,
   "metadata": {},
   "outputs": [
    {
     "output_type": "execute_result",
     "data": {
      "text/plain": [
       "       건물명                           주소\n",
       "0  한국경제신문사       서울특별시 중구 청파로 463 (중림동)\n",
       "1   서울특별시청    서울특별시 중구 세종대로 110 (태평로1가)\n",
       "2     종로구청      서울특별시 종로구 종로1길 36 (수송동)\n",
       "3      중구청       서울특별시 중구 창경궁로 17 (예관동)\n",
       "4    서대문구청     서울특별시 서대문구 연희로 247 (연희동)\n",
       "5     용산구청  서울특별시 용산구 백범로79길 64 (청파동3가)"
      ],
      "text/html": "<div>\n<style scoped>\n    .dataframe tbody tr th:only-of-type {\n        vertical-align: middle;\n    }\n\n    .dataframe tbody tr th {\n        vertical-align: top;\n    }\n\n    .dataframe thead th {\n        text-align: right;\n    }\n</style>\n<table border=\"1\" class=\"dataframe\">\n  <thead>\n    <tr style=\"text-align: right;\">\n      <th></th>\n      <th>건물명</th>\n      <th>주소</th>\n    </tr>\n  </thead>\n  <tbody>\n    <tr>\n      <th>0</th>\n      <td>한국경제신문사</td>\n      <td>서울특별시 중구 청파로 463 (중림동)</td>\n    </tr>\n    <tr>\n      <th>1</th>\n      <td>서울특별시청</td>\n      <td>서울특별시 중구 세종대로 110 (태평로1가)</td>\n    </tr>\n    <tr>\n      <th>2</th>\n      <td>종로구청</td>\n      <td>서울특별시 종로구 종로1길 36 (수송동)</td>\n    </tr>\n    <tr>\n      <th>3</th>\n      <td>중구청</td>\n      <td>서울특별시 중구 창경궁로 17 (예관동)</td>\n    </tr>\n    <tr>\n      <th>4</th>\n      <td>서대문구청</td>\n      <td>서울특별시 서대문구 연희로 247 (연희동)</td>\n    </tr>\n    <tr>\n      <th>5</th>\n      <td>용산구청</td>\n      <td>서울특별시 용산구 백범로79길 64 (청파동3가)</td>\n    </tr>\n  </tbody>\n</table>\n</div>"
     },
     "metadata": {},
     "execution_count": 8
    }
   ],
   "source": [
    "df = pd.DataFrame({'건물명':bldg_list,\n",
    "'주소':ad_list})\n",
    "df"
   ]
  },
  {
   "cell_type": "code",
   "execution_count": 11,
   "metadata": {},
   "outputs": [],
   "source": [
    "df.to_csv(\"addr.csv\",index=False, sep=',',encoding='utf8')"
   ]
  }
 ]
}