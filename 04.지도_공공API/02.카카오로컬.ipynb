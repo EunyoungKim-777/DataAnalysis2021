{
 "metadata": {
  "language_info": {
   "codemirror_mode": {
    "name": "ipython",
    "version": 3
   },
   "file_extension": ".py",
   "mimetype": "text/x-python",
   "name": "python",
   "nbconvert_exporter": "python",
   "pygments_lexer": "ipython3",
   "version": "3.8.8"
  },
  "orig_nbformat": 2,
  "kernelspec": {
   "name": "python3",
   "display_name": "Python 3.8.8 64-bit ('base': conda)"
  },
  "interpreter": {
   "hash": "b26661d338b6288df508a7ea172ff591d6ed882578e82460ed30bfeb70cfcac3"
  }
 },
 "nbformat": 4,
 "nbformat_minor": 2,
 "cells": [
  {
   "source": [
    "## 카카오맵 API\n",
    "- 도로명주소로부터 위도, 경도 정보 구하기"
   ],
   "cell_type": "markdown",
   "metadata": {}
  },
  {
   "cell_type": "code",
   "execution_count": 1,
   "metadata": {},
   "outputs": [],
   "source": [
    "import requests\n",
    "from urllib.parse import quote\n",
    "import pandas as pd"
   ]
  },
  {
   "cell_type": "code",
   "execution_count": 2,
   "metadata": {},
   "outputs": [],
   "source": [
    "with open('kakaoapikey.txt',mode='r') as key_file:\n",
    "    kakao_key = key_file.read()"
   ]
  },
  {
   "cell_type": "code",
   "execution_count": 3,
   "metadata": {},
   "outputs": [
    {
     "output_type": "execute_result",
     "data": {
      "text/plain": [
       "32"
      ]
     },
     "metadata": {},
     "execution_count": 3
    }
   ],
   "source": [
    "len(kakao_key)"
   ]
  },
  {
   "cell_type": "code",
   "execution_count": 3,
   "metadata": {},
   "outputs": [
    {
     "output_type": "execute_result",
     "data": {
      "text/plain": [
       "'https://dapi.kakao.com/v2/local/search/address.json?query=%EC%98%AC%EB%A6%BC%ED%94%BD%EB%A1%9C35%EA%B8%B8%20104'"
      ]
     },
     "metadata": {},
     "execution_count": 3
    }
   ],
   "source": [
    "addr = '올림픽로35길 104'\n",
    "local_url = \"https://dapi.kakao.com/v2/local/search/address.json\"\n",
    "\n",
    "url = f'{local_url}?query={quote(addr)}'\n",
    "url"
   ]
  },
  {
   "cell_type": "code",
   "execution_count": 4,
   "metadata": {},
   "outputs": [
    {
     "output_type": "execute_result",
     "data": {
      "text/plain": [
       "{'documents': [{'address': {'address_name': '서울 송파구 신천동 7',\n",
       "    'b_code': '1171010200',\n",
       "    'h_code': '1171071000',\n",
       "    'main_address_no': '7',\n",
       "    'mountain_yn': 'N',\n",
       "    'region_1depth_name': '서울',\n",
       "    'region_2depth_name': '송파구',\n",
       "    'region_3depth_h_name': '잠실6동',\n",
       "    'region_3depth_name': '신천동',\n",
       "    'sub_address_no': '',\n",
       "    'x': '127.099302526074',\n",
       "    'y': '37.519817176496'},\n",
       "   'address_name': '서울 송파구 올림픽로35길 104',\n",
       "   'address_type': 'ROAD_ADDR',\n",
       "   'road_address': {'address_name': '서울 송파구 올림픽로35길 104',\n",
       "    'building_name': '장미아파트',\n",
       "    'main_building_no': '104',\n",
       "    'region_1depth_name': '서울',\n",
       "    'region_2depth_name': '송파구',\n",
       "    'region_3depth_name': '신천동',\n",
       "    'road_name': '올림픽로35길',\n",
       "    'sub_building_no': '',\n",
       "    'underground_yn': 'N',\n",
       "    'x': '127.099302526074',\n",
       "    'y': '37.519817176496',\n",
       "    'zone_no': '05504'},\n",
       "   'x': '127.099302526074',\n",
       "   'y': '37.519817176496'}],\n",
       " 'meta': {'is_end': True, 'pageable_count': 1, 'total_count': 1}}"
      ]
     },
     "metadata": {},
     "execution_count": 4
    }
   ],
   "source": [
    "# \"Authorization: KakaoAK {REST_API_KEY}\"\n",
    "result = requests.get(url, headers={\"Authorization\":f\"KakaoAK {kakao_key}\"}).json()\n",
    "result"
   ]
  },
  {
   "cell_type": "code",
   "execution_count": 20,
   "metadata": {},
   "outputs": [
    {
     "output_type": "execute_result",
     "data": {
      "text/plain": [
       "'126.967109652664'"
      ]
     },
     "metadata": {},
     "execution_count": 20
    }
   ],
   "source": [
    "lng=result['documents'][0]['x'] # 경도"
   ]
  },
  {
   "cell_type": "code",
   "execution_count": 21,
   "metadata": {},
   "outputs": [
    {
     "output_type": "execute_result",
     "data": {
      "text/plain": [
       "'37.5598688323642'"
      ]
     },
     "metadata": {},
     "execution_count": 21
    }
   ],
   "source": [
    "lat=result['documents'][0]['y']   # latitude 위도\n"
   ]
  },
  {
   "source": [
    "- addr.csv로부터 주소를 읽어 위도, 경도 정보를 추가한뒤 addr2.csv에 저장"
   ],
   "cell_type": "markdown",
   "metadata": {}
  },
  {
   "cell_type": "code",
   "execution_count": 23,
   "metadata": {},
   "outputs": [
    {
     "output_type": "execute_result",
     "data": {
      "text/plain": [
       "       건물명                           주소\n",
       "0  한국경제신문사       서울특별시 중구 청파로 463 (중림동)\n",
       "1   서울특별시청    서울특별시 중구 세종대로 110 (태평로1가)\n",
       "2     종로구청      서울특별시 종로구 종로1길 36 (수송동)\n",
       "3      중구청       서울특별시 중구 창경궁로 17 (예관동)\n",
       "4    서대문구청     서울특별시 서대문구 연희로 247 (연희동)\n",
       "5     용산구청  서울특별시 용산구 백범로79길 64 (청파동3가)"
      ],
      "text/html": "<div>\n<style scoped>\n    .dataframe tbody tr th:only-of-type {\n        vertical-align: middle;\n    }\n\n    .dataframe tbody tr th {\n        vertical-align: top;\n    }\n\n    .dataframe thead th {\n        text-align: right;\n    }\n</style>\n<table border=\"1\" class=\"dataframe\">\n  <thead>\n    <tr style=\"text-align: right;\">\n      <th></th>\n      <th>건물명</th>\n      <th>주소</th>\n    </tr>\n  </thead>\n  <tbody>\n    <tr>\n      <th>0</th>\n      <td>한국경제신문사</td>\n      <td>서울특별시 중구 청파로 463 (중림동)</td>\n    </tr>\n    <tr>\n      <th>1</th>\n      <td>서울특별시청</td>\n      <td>서울특별시 중구 세종대로 110 (태평로1가)</td>\n    </tr>\n    <tr>\n      <th>2</th>\n      <td>종로구청</td>\n      <td>서울특별시 종로구 종로1길 36 (수송동)</td>\n    </tr>\n    <tr>\n      <th>3</th>\n      <td>중구청</td>\n      <td>서울특별시 중구 창경궁로 17 (예관동)</td>\n    </tr>\n    <tr>\n      <th>4</th>\n      <td>서대문구청</td>\n      <td>서울특별시 서대문구 연희로 247 (연희동)</td>\n    </tr>\n    <tr>\n      <th>5</th>\n      <td>용산구청</td>\n      <td>서울특별시 용산구 백범로79길 64 (청파동3가)</td>\n    </tr>\n  </tbody>\n</table>\n</div>"
     },
     "metadata": {},
     "execution_count": 23
    }
   ],
   "source": [
    "df= pd.read_csv('addr.csv')\n",
    "df"
   ]
  },
  {
   "cell_type": "code",
   "execution_count": 25,
   "metadata": {},
   "outputs": [],
   "source": [
    "lng_list=[]; lat_list=[]"
   ]
  },
  {
   "cell_type": "code",
   "execution_count": 27,
   "metadata": {},
   "outputs": [],
   "source": [
    "for i in df.index:\n",
    "\n",
    "    url=f\"{local_url}?query={quote(df['주소'][i])}\"\n",
    "    result = requests.get(url, headers={\"Authorization\":f\"KakaoAK {kakao_key}\"}).json()\n",
    "    lng=result['documents'][0]['x']\n",
    "    lat=result['documents'][0]['y']\n",
    "    lng_list.append(lng)\n",
    "    lat_list.append(lat)\n",
    "\n"
   ]
  },
  {
   "cell_type": "code",
   "execution_count": 28,
   "metadata": {},
   "outputs": [
    {
     "output_type": "execute_result",
     "data": {
      "text/plain": [
       "       건물명                           주소                위도                경도\n",
       "0  한국경제신문사       서울특별시 중구 청파로 463 (중림동)  37.5598688323642  126.967109652664\n",
       "1   서울특별시청    서울특별시 중구 세종대로 110 (태평로1가)  37.5663174209601  126.977829174031\n",
       "2     종로구청      서울특별시 종로구 종로1길 36 (수송동)  37.5735051436739  126.978988255925\n",
       "3      중구청       서울특별시 중구 창경궁로 17 (예관동)  37.5641201543296  126.998009728978\n",
       "4    서대문구청     서울특별시 서대문구 연희로 247 (연희동)  37.5791549275777  126.935815915686\n",
       "5     용산구청  서울특별시 용산구 백범로79길 64 (청파동3가)  37.5416021897984   126.96497660839"
      ],
      "text/html": "<div>\n<style scoped>\n    .dataframe tbody tr th:only-of-type {\n        vertical-align: middle;\n    }\n\n    .dataframe tbody tr th {\n        vertical-align: top;\n    }\n\n    .dataframe thead th {\n        text-align: right;\n    }\n</style>\n<table border=\"1\" class=\"dataframe\">\n  <thead>\n    <tr style=\"text-align: right;\">\n      <th></th>\n      <th>건물명</th>\n      <th>주소</th>\n      <th>위도</th>\n      <th>경도</th>\n    </tr>\n  </thead>\n  <tbody>\n    <tr>\n      <th>0</th>\n      <td>한국경제신문사</td>\n      <td>서울특별시 중구 청파로 463 (중림동)</td>\n      <td>37.5598688323642</td>\n      <td>126.967109652664</td>\n    </tr>\n    <tr>\n      <th>1</th>\n      <td>서울특별시청</td>\n      <td>서울특별시 중구 세종대로 110 (태평로1가)</td>\n      <td>37.5663174209601</td>\n      <td>126.977829174031</td>\n    </tr>\n    <tr>\n      <th>2</th>\n      <td>종로구청</td>\n      <td>서울특별시 종로구 종로1길 36 (수송동)</td>\n      <td>37.5735051436739</td>\n      <td>126.978988255925</td>\n    </tr>\n    <tr>\n      <th>3</th>\n      <td>중구청</td>\n      <td>서울특별시 중구 창경궁로 17 (예관동)</td>\n      <td>37.5641201543296</td>\n      <td>126.998009728978</td>\n    </tr>\n    <tr>\n      <th>4</th>\n      <td>서대문구청</td>\n      <td>서울특별시 서대문구 연희로 247 (연희동)</td>\n      <td>37.5791549275777</td>\n      <td>126.935815915686</td>\n    </tr>\n    <tr>\n      <th>5</th>\n      <td>용산구청</td>\n      <td>서울특별시 용산구 백범로79길 64 (청파동3가)</td>\n      <td>37.5416021897984</td>\n      <td>126.96497660839</td>\n    </tr>\n  </tbody>\n</table>\n</div>"
     },
     "metadata": {},
     "execution_count": 28
    }
   ],
   "source": [
    "df['위도']=lat_list\n",
    "df['경도']=lng_list\n",
    "df"
   ]
  },
  {
   "cell_type": "code",
   "execution_count": 29,
   "metadata": {},
   "outputs": [],
   "source": [
    "df.to_csv(\"addr2.csv\",index=False, sep=',',encoding='utf8')"
   ]
  }
 ]
}