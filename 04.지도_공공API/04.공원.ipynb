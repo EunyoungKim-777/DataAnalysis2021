{
 "metadata": {
  "language_info": {
   "codemirror_mode": {
    "name": "ipython",
    "version": 3
   },
   "file_extension": ".py",
   "mimetype": "text/x-python",
   "name": "python",
   "nbconvert_exporter": "python",
   "pygments_lexer": "ipython3",
   "version": "3.8.8"
  },
  "orig_nbformat": 2,
  "kernelspec": {
   "name": "python388jvsc74a57bd045bb9909f4134a5c522dd73f5b26e0da33d17d4f62f0476a1f9dbaaf4e2522a5",
   "display_name": "Python 3.8.8 64-bit ('base': conda)"
  }
 },
 "nbformat": 4,
 "nbformat_minor": 2,
 "cells": [
  {
   "source": [
    "### 서울시 공원 지도 시각화"
   ],
   "cell_type": "markdown",
   "metadata": {}
  },
  {
   "cell_type": "code",
   "execution_count": 1,
   "metadata": {},
   "outputs": [],
   "source": [
    "import pandas as pd\n",
    "import folium\n",
    "import numpy as numpy\n",
    "import seaborn as sns\n",
    "import matplotlib as mpl\n"
   ]
  },
  {
   "cell_type": "code",
   "execution_count": 2,
   "metadata": {},
   "outputs": [],
   "source": [
    "mpl.rc('font', family='NanumBarunpen')\n",
    "mpl.rc('axes', unicode_minus=False)"
   ]
  },
  {
   "cell_type": "code",
   "execution_count": 3,
   "metadata": {},
   "outputs": [
    {
     "output_type": "execute_result",
     "data": {
      "text/plain": [
       "   공원번호       공원명                                               공원개요  \\\n",
       "0     1  남산도시자연공원  남산공원은 도심에 위치하여 서울시민에게 맑은 공기를 제공하는 자연휴식처이며 산책 꽃...   \n",
       "\n",
       "                          면적        개원일  \\\n",
       "0  2896887㎡ 2454140㎡ 442747㎡  1968.9.10   \n",
       "\n",
       "                                                주요시설  \\\n",
       "0  기반시설 : 광장 45950㎡ 도로 108530㎡ 산책로 6.7㎞ (북측:3.7㎞/...   \n",
       "\n",
       "                                주요식물  \\\n",
       "0  소나무 단풍 아카시아 상수리나무 등 191종 2881870주   \n",
       "\n",
       "                                                 안내도  \\\n",
       "0  http://parks.seoul.go.kr/upload/seditorMulti/2...   \n",
       "\n",
       "                                                오시는길  \\\n",
       "0  명동역(남산케이블카 와룡묘 서울애니메이션센터 방면) 도보 명동역 3번출구 → 퍼시픽...   \n",
       "\n",
       "                                             이용시참고사항  \\\n",
       "0  남산공원 차량통행 금지안내 2005년 5월 1일부터 남산공원에 일반승용차 택시 통행...   \n",
       "\n",
       "                                                 이미지  지역  \\\n",
       "0  http://parks.seoul.go.kr/file/info/view.do?fId...  중구   \n",
       "\n",
       "                     공원주소            관리부서          전화번호  X좌표(GRS80TM)  \\\n",
       "0  서울특별시 중구 삼일대로 231(예장동)  서울특별시중부푸른도시사업소  02-3783-5900    198364.107   \n",
       "\n",
       "   Y좌표(GRS80TM)  X좌표(WGS84)  Y좌표(WGS84)  \\\n",
       "0    450395.554  126.990377    37.55014   \n",
       "\n",
       "                                              바로가기  \n",
       "0  http://parks.seoul.go.kr/template/sub/namsan.do  "
      ],
      "text/html": "<div>\n<style scoped>\n    .dataframe tbody tr th:only-of-type {\n        vertical-align: middle;\n    }\n\n    .dataframe tbody tr th {\n        vertical-align: top;\n    }\n\n    .dataframe thead th {\n        text-align: right;\n    }\n</style>\n<table border=\"1\" class=\"dataframe\">\n  <thead>\n    <tr style=\"text-align: right;\">\n      <th></th>\n      <th>공원번호</th>\n      <th>공원명</th>\n      <th>공원개요</th>\n      <th>면적</th>\n      <th>개원일</th>\n      <th>주요시설</th>\n      <th>주요식물</th>\n      <th>안내도</th>\n      <th>오시는길</th>\n      <th>이용시참고사항</th>\n      <th>이미지</th>\n      <th>지역</th>\n      <th>공원주소</th>\n      <th>관리부서</th>\n      <th>전화번호</th>\n      <th>X좌표(GRS80TM)</th>\n      <th>Y좌표(GRS80TM)</th>\n      <th>X좌표(WGS84)</th>\n      <th>Y좌표(WGS84)</th>\n      <th>바로가기</th>\n    </tr>\n  </thead>\n  <tbody>\n    <tr>\n      <th>0</th>\n      <td>1</td>\n      <td>남산도시자연공원</td>\n      <td>남산공원은 도심에 위치하여 서울시민에게 맑은 공기를 제공하는 자연휴식처이며 산책 꽃...</td>\n      <td>2896887㎡ 2454140㎡ 442747㎡</td>\n      <td>1968.9.10</td>\n      <td>기반시설 : 광장 45950㎡ 도로 108530㎡ 산책로 6.7㎞ (북측:3.7㎞/...</td>\n      <td>소나무 단풍 아카시아 상수리나무 등 191종 2881870주</td>\n      <td>http://parks.seoul.go.kr/upload/seditorMulti/2...</td>\n      <td>명동역(남산케이블카 와룡묘 서울애니메이션센터 방면) 도보 명동역 3번출구 → 퍼시픽...</td>\n      <td>남산공원 차량통행 금지안내 2005년 5월 1일부터 남산공원에 일반승용차 택시 통행...</td>\n      <td>http://parks.seoul.go.kr/file/info/view.do?fId...</td>\n      <td>중구</td>\n      <td>서울특별시 중구 삼일대로 231(예장동)</td>\n      <td>서울특별시중부푸른도시사업소</td>\n      <td>02-3783-5900</td>\n      <td>198364.107</td>\n      <td>450395.554</td>\n      <td>126.990377</td>\n      <td>37.55014</td>\n      <td>http://parks.seoul.go.kr/template/sub/namsan.do</td>\n    </tr>\n  </tbody>\n</table>\n</div>"
     },
     "metadata": {},
     "execution_count": 3
    }
   ],
   "source": [
    "park = pd.read_csv('C:/workspace/park.csv')\n",
    "park.head(1)"
   ]
  },
  {
   "cell_type": "code",
   "execution_count": 16,
   "metadata": {},
   "outputs": [
    {
     "output_type": "execute_result",
     "data": {
      "text/plain": [
       "'2896887㎡ 2454140㎡ 442747㎡'"
      ]
     },
     "metadata": {},
     "execution_count": 16
    }
   ],
   "source": [
    "park.loc[0]['면적']"
   ]
  },
  {
   "cell_type": "code",
   "execution_count": 19,
   "metadata": {},
   "outputs": [
    {
     "output_type": "execute_result",
     "data": {
      "text/plain": [
       "['2896887', ' 2454140', ' 442747', '']"
      ]
     },
     "metadata": {},
     "execution_count": 19
    }
   ],
   "source": [
    "s = park['면적'][0]\n",
    "s2 = s.strip().split('㎡')\n",
    "s2\n"
   ]
  },
  {
   "cell_type": "code",
   "execution_count": 6,
   "metadata": {},
   "outputs": [
    {
     "output_type": "execute_result",
     "data": {
      "text/plain": [
       "pandas.core.series.Series"
      ]
     },
     "metadata": {},
     "execution_count": 6
    }
   ],
   "source": [
    "type(park.isna().sum())"
   ]
  },
  {
   "cell_type": "code",
   "execution_count": 5,
   "metadata": {},
   "outputs": [
    {
     "output_type": "execute_result",
     "data": {
      "text/plain": [
       "공원번호              0\n",
       "공원명               0\n",
       "공원개요              1\n",
       "면적                0\n",
       "개원일              10\n",
       "주요시설              8\n",
       "주요식물             44\n",
       "안내도              30\n",
       "오시는길             17\n",
       "이용시참고사항          12\n",
       "이미지               0\n",
       "지역                0\n",
       "공원주소              0\n",
       "관리부서              0\n",
       "전화번호              0\n",
       "X좌표(GRS80TM)     10\n",
       "Y좌표(GRS80TM)     10\n",
       "X좌표(WGS84)        1\n",
       "Y좌표(WGS84)        1\n",
       "바로가기            114\n",
       "dtype: int64"
      ]
     },
     "metadata": {},
     "execution_count": 5
    }
   ],
   "source": [
    "park.isna().sum()"
   ]
  },
  {
   "cell_type": "code",
   "execution_count": 4,
   "metadata": {},
   "outputs": [
    {
     "output_type": "execute_result",
     "data": {
      "text/plain": [
       "0"
      ]
     },
     "metadata": {},
     "execution_count": 4
    }
   ],
   "source": [
    "park['면적'] = park.면적.fillna('0')\n",
    "park.면적.isnull().sum()"
   ]
  },
  {
   "cell_type": "code",
   "execution_count": 24,
   "metadata": {},
   "outputs": [
    {
     "output_type": "execute_result",
     "data": {
      "text/plain": [
       "pandas.core.series.Series"
      ]
     },
     "metadata": {},
     "execution_count": 24
    }
   ],
   "source": [
    "type(park.면적)"
   ]
  },
  {
   "cell_type": "code",
   "execution_count": 6,
   "metadata": {},
   "outputs": [],
   "source": [
    "def calc_area(s):\n",
    "    if s == '0':\n",
    "            return 0\n",
    "    area_list = s.strip().split('㎡')\n",
    "    area = 0\n",
    "    for area_str in area_list:\n",
    "        if area_str == '':\n",
    "            continue\n",
    "        area += float(area_str) \n",
    "    return area"
   ]
  },
  {
   "cell_type": "code",
   "execution_count": 29,
   "metadata": {},
   "outputs": [],
   "source": [
    "#list(map(calc_area,park.면적))"
   ]
  },
  {
   "cell_type": "code",
   "execution_count": 25,
   "metadata": {},
   "outputs": [
    {
     "output_type": "execute_result",
     "data": {
      "text/plain": [
       "5793774.0"
      ]
     },
     "metadata": {},
     "execution_count": 25
    }
   ],
   "source": [
    "calc_area(park['면적'][0])"
   ]
  },
  {
   "cell_type": "code",
   "execution_count": 12,
   "metadata": {},
   "outputs": [
    {
     "output_type": "execute_result",
     "data": {
      "text/plain": [
       "                          면적       area\n",
       "0  2896887㎡ 2454140㎡ 442747㎡  5793774.0\n",
       "1                     80683㎡    80683.0\n",
       "2                   9132690㎡  9132690.0\n",
       "3                    480994㎡   480994.0\n",
       "4                   2284085㎡  2284085.0"
      ],
      "text/html": "<div>\n<style scoped>\n    .dataframe tbody tr th:only-of-type {\n        vertical-align: middle;\n    }\n\n    .dataframe tbody tr th {\n        vertical-align: top;\n    }\n\n    .dataframe thead th {\n        text-align: right;\n    }\n</style>\n<table border=\"1\" class=\"dataframe\">\n  <thead>\n    <tr style=\"text-align: right;\">\n      <th></th>\n      <th>면적</th>\n      <th>area</th>\n    </tr>\n  </thead>\n  <tbody>\n    <tr>\n      <th>0</th>\n      <td>2896887㎡ 2454140㎡ 442747㎡</td>\n      <td>5793774.0</td>\n    </tr>\n    <tr>\n      <th>1</th>\n      <td>80683㎡</td>\n      <td>80683.0</td>\n    </tr>\n    <tr>\n      <th>2</th>\n      <td>9132690㎡</td>\n      <td>9132690.0</td>\n    </tr>\n    <tr>\n      <th>3</th>\n      <td>480994㎡</td>\n      <td>480994.0</td>\n    </tr>\n    <tr>\n      <th>4</th>\n      <td>2284085㎡</td>\n      <td>2284085.0</td>\n    </tr>\n  </tbody>\n</table>\n</div>"
     },
     "metadata": {},
     "execution_count": 12
    }
   ],
   "source": [
    "park['area'] = list(map(calc_area,park.면적))\n",
    "park[['면적','area']].head()"
   ]
  },
  {
   "cell_type": "code",
   "execution_count": null,
   "metadata": {},
   "outputs": [],
   "source": [
    "park['area'] = park['면적'].apply(calc_area).astype(int)\n",
    "park[['면적', 'area']].head()"
   ]
  },
  {
   "cell_type": "code",
   "execution_count": null,
   "metadata": {},
   "outputs": [],
   "source": [
    "https://tariat.tistory.com/622"
   ]
  },
  {
   "cell_type": "code",
   "execution_count": null,
   "metadata": {},
   "outputs": [],
   "source": []
  },
  {
   "cell_type": "code",
   "execution_count": null,
   "metadata": {},
   "outputs": [],
   "source": [
    "park_new = park[['공원명','지역','공원주소','area','공원개요']]\n",
    "park_new.head()"
   ]
  },
  {
   "cell_type": "code",
   "execution_count": 8,
   "metadata": {},
   "outputs": [],
   "source": [
    "import requests\n",
    "from urllib.parse import quote\n",
    "import pandas as pd"
   ]
  },
  {
   "cell_type": "code",
   "execution_count": null,
   "metadata": {},
   "outputs": [],
   "source": [
    "with open('kakaoapikey.txt',mode='r') as key_file:\n",
    "    kakao_key = key_file.read()"
   ]
  },
  {
   "cell_type": "code",
   "execution_count": 2,
   "metadata": {},
   "outputs": [],
   "source": [
    "import json\n",
    "geo_str = json.load(open('skorea_municipalities_geo_simple.json',\n",
    "                         encoding='utf8'))"
   ]
  }
 ]
}